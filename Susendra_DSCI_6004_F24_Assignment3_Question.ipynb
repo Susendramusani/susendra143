{
  "cells": [
    {
      "cell_type": "markdown",
      "metadata": {
        "id": "view-in-github",
        "colab_type": "text"
      },
      "source": [
        "<a href=\"https://colab.research.google.com/github/Susendramusani/susendra143/blob/main/Susendra_DSCI_6004_F24_Assignment3_Question.ipynb\" target=\"_parent\"><img src=\"https://colab.research.google.com/assets/colab-badge.svg\" alt=\"Open In Colab\"/></a>"
      ]
    },
    {
      "cell_type": "markdown",
      "metadata": {
        "id": "a35bVT73-hzl"
      },
      "source": [
        "# Assignment 3: Word Embeddings with War and Peace Dataset\n",
        "\n",
        "Welcome to this programming assignment where you will compute word embeddings using the *\"War and Peace\"* dataset.\n",
        "\n",
        "In this assignment, you will practice how to compute word embeddings and use them for sentiment analysis and word representation.\n",
        "\n",
        "By completing this assignment you will:\n",
        "- Train word vectors from scratch.\n",
        "- Learn how to create batches of data.\n",
        "- Understand how backpropagation works.\n",
        "- Plot and visualize your learned word vectors.\n"
      ]
    },
    {
      "cell_type": "markdown",
      "metadata": {
        "id": "ZXiVqAKj-hzo"
      },
      "source": [
        "## Outline\n",
        "\n",
        "- [1 The Continuous bag of words model](#1)\n",
        "- [2 Training the Model](#2)\n",
        "    - [2.0 Initialize the model](#2)\n",
        "        - [Exercise 01](#ex-01)\n",
        "    - [2.1 Softmax Function](#2.1)\n",
        "        - [Exercise 02](#ex-02)\n",
        "    - [2.2 Forward Propagation](#2.2)\n",
        "        - [Exercise 03](#ex-03)\n",
        "    - [2.3 Cost Function](#2.3)\n",
        "    - [2.4 Backproagation](#2.4)\n",
        "        - [Exercise 04](#ex-04)\n",
        "    - [2.5 Gradient Descent](#2.5)\n",
        "        - [Exercise 05](#ex-05)\n",
        "- [3 Visualizing the word vectors](#3)\n"
      ]
    },
    {
      "cell_type": "markdown",
      "metadata": {
        "id": "D2Mtc6-u-hzo"
      },
      "source": [
        "<a name='1'></a>\n",
        "# 1. The Continuous bag of words model\n",
        "\n",
        "Let's take a look at the following sentence:\n",
        ">**'I am happy because I am learning'**.\n",
        "\n",
        "- In continuous bag of words (CBOW) modeling, we try to predict the center word given a few context words (the words around the center word).\n",
        "- For example, if you were to choose a context half-size of say $C = 2$, then you would try to predict the word **happy** given the context that includes 2 words before and 2 words after the center word:\n",
        "\n",
        "> $C$ words before: [I, am]\n",
        "\n",
        "> $C$ words after: [because, I]\n",
        "\n",
        "- In other words:\n",
        "\n",
        "$$context = [I,am, because, I]$$\n",
        "$$target = happy$$\n",
        "\n",
        "The structure of your model will look like this:\n",
        "\n",
        "<div style=\"width:image width px; font-size:100%; text-align:center;\"><img src='word2.png' alt=\"alternate text\" width=\"width\" height=\"height\" style=\"width:600px;height:250px;\" /> Figure 1 </div>\n",
        "\n",
        "Where $\\bar x$ is the average of all the one hot vectors of the context words.\n",
        "\n",
        "<div style=\"width:image width px; font-size:100%; text-align:center;\"><img src='mean_vec2.png' alt=\"alternate text\" width=\"width\" height=\"height\" style=\"width:600px;height:250px;\" /> Figure 2 </div>\n",
        "\n",
        "Once you have encoded all the context words, you can use $\\bar x$ as the input to your model.\n",
        "\n",
        "The architecture you will be implementing is as follows:\n",
        "\n",
        "\\begin{align}\n",
        " h &= W_1 \\  X + b_1  \\tag{1} \\\\\n",
        " a &= ReLU(h)  \\tag{2} \\\\\n",
        " z &= W_2 \\  a + b_2   \\tag{3} \\\\\n",
        " \\hat y &= softmax(z)   \\tag{4} \\\\\n",
        "\\end{align}"
      ]
    },
    {
      "cell_type": "code",
      "execution_count": 1,
      "metadata": {
        "colab": {
          "base_uri": "https://localhost:8080/"
        },
        "id": "lYndHQFq9I3Y",
        "outputId": "f67705ce-b11b-4c40-a846-93be63e13934"
      },
      "outputs": [
        {
          "output_type": "stream",
          "name": "stderr",
          "text": [
            "[nltk_data] Downloading package punkt_tab to /root/nltk_data...\n",
            "[nltk_data]   Unzipping tokenizers/punkt_tab.zip.\n"
          ]
        },
        {
          "output_type": "execute_result",
          "data": {
            "text/plain": [
              "True"
            ]
          },
          "metadata": {},
          "execution_count": 1
        }
      ],
      "source": [
        "import nltk\n",
        "nltk.download('punkt_tab')"
      ]
    },
    {
      "cell_type": "code",
      "execution_count": 2,
      "metadata": {
        "id": "ZXr0NIj3-hzp",
        "colab": {
          "base_uri": "https://localhost:8080/"
        },
        "outputId": "fdee7e40-b1bf-41af-e86b-7add7469db96"
      },
      "outputs": [
        {
          "output_type": "stream",
          "name": "stderr",
          "text": [
            "[nltk_data] Downloading package punkt to /root/nltk_data...\n",
            "[nltk_data]   Unzipping tokenizers/punkt.zip.\n"
          ]
        },
        {
          "output_type": "stream",
          "name": "stdout",
          "text": [
            "Number of tokens: 61000\n",
            "Size of vocabulary: 5958\n"
          ]
        }
      ],
      "source": [
        "\n",
        "# Import necessary Python libraries and helper functions\n",
        "import nltk\n",
        "import numpy as np\n",
        "import requests\n",
        "from nltk.tokenize import word_tokenize\n",
        "from collections import Counter\n",
        "import re\n",
        "\n",
        "nltk.download('punkt')\n",
        "\n",
        "# Download the War and Peace dataset from Project Gutenberg\n",
        "url = \"https://www.gutenberg.org/files/2600/2600-0.txt\"\n",
        "response = requests.get(url)\n",
        "text = response.text\n",
        "\n",
        "# Preprocess the text: remove headers/footers and clean the text\n",
        "start = text.find(\"BOOK ONE: 1805\")\n",
        "end = text.find(\"End of the Project Gutenberg\")\n",
        "text = text[start:end]\n",
        "\n",
        "# Replace punctuations with spaces, convert to lowercase, and tokenize\n",
        "text = re.sub(r'[,!?;-]', ' ', text.lower())\n",
        "tokens = word_tokenize(text)\n",
        "\n",
        "# Filter out non-alphabetical tokens and limit to 61,000 tokens for computational efficiency\n",
        "tokens = [word for word in tokens if word.isalpha()][:61000]\n",
        "vocab = set(tokens)\n",
        "\n",
        "# Print stats\n",
        "print(f\"Number of tokens: {len(tokens)}\")\n",
        "print(f\"Size of vocabulary: {len(vocab)}\")\n"
      ]
    },
    {
      "cell_type": "code",
      "execution_count": 3,
      "metadata": {
        "id": "M6ks5cQD-hzq"
      },
      "outputs": [],
      "source": [
        "# Download sentence tokenizer\n",
        "nltk.data.path.append('.')"
      ]
    },
    {
      "cell_type": "code",
      "execution_count": 4,
      "metadata": {
        "id": "XL3gWdvP-hzq",
        "colab": {
          "base_uri": "https://localhost:8080/"
        },
        "outputId": "0ffba2ed-f0d6-477f-8455-72237f0ad530"
      },
      "outputs": [
        {
          "output_type": "stream",
          "name": "stdout",
          "text": [
            "Size of vocabulary:  5958\n",
            "Most frequent tokens:  [('the', 3697), ('and', 2244), ('to', 1794), ('of', 1309), ('a', 1270), ('his', 999), ('he', 970), ('in', 955), ('with', 681), ('was', 675), ('that', 673), ('her', 672), ('you', 642), ('it', 555), ('i', 526), ('at', 508), ('said', 487), ('not', 470), ('as', 466), ('on', 453), ('she', 450), ('is', 430), ('had', 428), ('him', 414), ('chapter', 401), ('but', 382), ('prince', 334), ('for', 325), ('all', 304), ('have', 286), ('be', 268), ('who', 255), ('one', 252), ('from', 252), ('pierre', 229), ('me', 228), ('this', 225), ('were', 223), ('my', 221), ('up', 220), ('an', 219), ('so', 209), ('what', 205), ('by', 204), ('are', 199), ('which', 190), ('if', 182), ('will', 181), ('they', 178), ('anna', 171), ('princess', 171), ('been', 166), ('room', 163), ('face', 159), ('out', 151), ('know', 147), ('man', 146), ('do', 138), ('only', 135), ('has', 134), ('andrew', 134), ('your', 131), ('about', 127), ('eyes', 125), ('no', 124), ('there', 123), ('did', 122), ('when', 122), ('then', 121), ('count', 121), ('how', 120), ('their', 120), ('or', 116), ('them', 115), ('now', 113), ('would', 112), ('little', 109), ('went', 108), ('more', 107), ('very', 106), ('like', 105), ('into', 103), ('young', 101), ('dear', 100), ('looked', 100), ('am', 99), ('down', 97), ('old', 95), ('himself', 95), ('smile', 95), ('just', 91), ('could', 88), ('hand', 87), ('here', 86), ('see', 85), ('we', 83), ('again', 83), ('time', 82), ('look', 82), ('came', 80), ('say', 79), ('come', 79), ('go', 79), ('asked', 78), ('began', 78), ('still', 77), ('after', 77), ('two', 75), ('son', 75), ('head', 74), ('such', 74), ('same', 73), ('father', 73), ('over', 72), ('commander', 71), ('must', 70), ('looking', 70), ('some', 69), ('other', 69), ('countess', 68), ('well', 67), ('round', 67), ('can', 64), ('before', 64), ('back', 63), ('good', 62), ('men', 62), ('though', 61), ('another', 61), ('away', 61), ('always', 60), ('think', 60), ('turned', 60), ('something', 60), ('without', 59), ('door', 59), ('voice', 57), ('last', 56), ('table', 56), ('tell', 55), ('nothing', 55), ('than', 55), ('way', 55), ('general', 55), ('much', 55), ('too', 54), ('drawing', 54), ('evidently', 54), ('quite', 53), ('expression', 52), ('our', 52), ('us', 52), ('left', 52), ('let', 52), ('long', 52), ('these', 51), ('sitting', 51), ('get', 50), ('suddenly', 50), ('added', 50), ('turning', 50), ('took', 50), ('first', 49), ('even', 49), ('whole', 49), ('take', 49), ('through', 49), ('stood', 49), ('officer', 49), ('understand', 48), ('never', 48), ('continued', 48), ('made', 48), ('off', 47), ('whom', 47), ('its', 47), ('people', 47), ('kutãºzov', 47), ('bridge', 47), ('replied', 46), ('those', 46), ('moment', 46), ('under', 46), ('should', 46), ('seemed', 46), ('friend', 45), ('while', 45), ('why', 45), ('day', 45), ('right', 44), ('thought', 43), ('going', 43), ('regiment', 43), ('words', 42), ('having', 42), ('sat', 42), ('already', 42), ('own', 41), ('both', 41), ('yet', 41), ('where', 41), ('nicholas', 40), ('word', 39), ('french', 39), ('smiling', 39), ('also', 39), ('heard', 39), ('shouted', 39), ('any', 38), ('knew', 38), ('vicomte', 38), ('everyone', 38), ('arm', 38), ('everything', 38), ('order', 37), ('answered', 37), ('hands', 37), ('great', 37), ('shall', 36), ('gave', 36), ('told', 36), ('make', 36), ('horse', 36), ('tone', 35), ('god', 35), ('smiled', 35), ('felt', 35), ('saw', 35), ('behind', 35), ('entered', 34), ('put', 34), ('silent', 34), ('done', 34), ('talk', 34), ('mary', 34), ('wife', 34), ('shoulders', 34), ('once', 34), ('fellow', 34), ('may', 34), ('being', 33), ('things', 33), ('conversation', 33), ('chief', 33), ('life', 33), ('russian', 33), ('cried', 33), ('book', 32), ('toward', 32), ('anything', 32), ('war', 31), ('speak', 31), ('small', 31), ('company', 31), ('moscow', 31), ('rose', 31), ('window', 31), ('colonel', 31), ('emperor', 30), ('every', 30), ('might', 30), ('chair', 30), ('petersburg', 29), ('mind', 29), ('ask', 29), ('anatole', 29), ('army', 29), ('arms', 29), ('house', 29), ('saying', 29), ('letter', 29), ('side', 29), ('between', 28), ('de', 28), ('usual', 28), ('seen', 28), ('moved', 28), ('followed', 28), ('handsome', 28), ('among', 28), ('leave', 28), ('love', 28), ('staff', 28), ('wish', 27), ('most', 27), ('passed', 27), ('officers', 27), ('regimental', 27), ('give', 26), ('sister', 26), ('hippolyte', 26), ('guests', 26), ('visitor', 26), ('mother', 26), ('talking', 26), ('beside', 26), ('carriage', 26), ('ran', 25), ('daughter', 25), ('wished', 25)]\n"
          ]
        }
      ],
      "source": [
        "# Compute the frequency distribution of the words in the dataset (vocabulary)\n",
        "fdist = nltk.FreqDist(word for word in tokens)\n",
        "print(\"Size of vocabulary: \", len(fdist))\n",
        "print(\"Most frequent tokens: \", fdist.most_common(300))  # print the 20 most frequent words and their frequencies\n"
      ]
    },
    {
      "cell_type": "markdown",
      "metadata": {
        "id": "jRuN1I0w-hzq"
      },
      "source": [
        "#### Mapping words to indices and indices to words\n",
        "We provide a helper function to create a dictionary that maps words to indices and indices to words."
      ]
    },
    {
      "cell_type": "code",
      "execution_count": 5,
      "metadata": {
        "id": "_xe2ciAB-hzq",
        "colab": {
          "base_uri": "https://localhost:8080/"
        },
        "outputId": "380ad951-9eb4-4464-acc1-0e66cc6915d1"
      },
      "outputs": [
        {
          "output_type": "stream",
          "name": "stdout",
          "text": [
            "Size of vocabulary:  5958\n"
          ]
        }
      ],
      "source": [
        "def get_dict(corpus):\n",
        "    \"\"\"\n",
        "    Creates two dictionaries:\n",
        "    1. word2Ind: Mapping from word to index.\n",
        "    2. Ind2word: Mapping from index to word.\n",
        "\n",
        "    Args:\n",
        "    corpus: List of tokens (words) from the dataset.\n",
        "\n",
        "    Returns:\n",
        "    word2Ind: Dictionary mapping words to indices.\n",
        "    Ind2word: Dictionary mapping indices to words.\n",
        "    \"\"\"\n",
        "    word_counts = Counter(corpus)  # Get word counts\n",
        "    word_to_index = {word: idx for idx, word in enumerate(word_counts.keys())}\n",
        "    index_to_word = {idx: word for word, idx in word_to_index.items()}\n",
        "    return word_to_index, index_to_word\n",
        "\n",
        "# Now, use the get_dict function on the tokens list\n",
        "word2Ind, Ind2word = get_dict(tokens)\n",
        "V = len(word2Ind)  # Vocabulary size\n",
        "print(\"Size of vocabulary: \", V)\n"
      ]
    },
    {
      "cell_type": "code",
      "execution_count": 6,
      "metadata": {
        "id": "tQjxb46I-hzr",
        "colab": {
          "base_uri": "https://localhost:8080/"
        },
        "outputId": "8fe54bb7-e89a-41c9-c599-c959895a4260"
      },
      "outputs": [
        {
          "output_type": "stream",
          "name": "stdout",
          "text": [
            "Word which has index 2743:   diplomat\n",
            "Index of the word 'diplomat' :   2743\n"
          ]
        }
      ],
      "source": [
        "# example of word to index mapping\n",
        "\n",
        "print(\"Word which has index 2743:  \",Ind2word[2743] )\n",
        "print(\"Index of the word 'diplomat' :  \",word2Ind['diplomat'] )"
      ]
    },
    {
      "cell_type": "markdown",
      "metadata": {
        "id": "qFt-LTir-hzr"
      },
      "source": [
        "<a name='2'></a>\n",
        "# 2 Training the Model\n",
        "\n",
        "###  Initializing the model\n",
        "\n",
        "You will now initialize two matrices and two vectors.\n",
        "- The first matrix ($W_1$) is of dimension $N \\times V$, where $V$ is the number of words in your vocabulary and $N$ is the dimension of your word vector.\n",
        "- The second matrix ($W_2$) is of dimension $V \\times N$.\n",
        "- Vector $b_1$ has dimensions $N\\times 1$\n",
        "- Vector $b_2$ has dimensions  $V\\times 1$.\n",
        "- $b_1$ and $b_2$ are the bias vectors of the linear layers from matrices $W_1$ and $W_2$.\n",
        "\n",
        "The overall structure of the model will look as in Figure 1, but at this stage we are just initializing the parameters.\n",
        "\n",
        "<a name='ex-01'></a>\n",
        "### Exercise 01\n",
        "Please use [numpy.random.rand](https://numpy.org/doc/stable/reference/random/generated/numpy.random.rand.html) to generate matrices that are initialized with random values from a uniform distribution, ranging between 0 and 1.\n",
        "\n",
        "**Note:** In the next cell you will encounter a random seed. Please **DO NOT** modify this seed so your solution can be tested correctly."
      ]
    },
    {
      "cell_type": "code",
      "execution_count": 7,
      "metadata": {
        "id": "9TKAE-GI-hzr"
      },
      "outputs": [],
      "source": [
        "def initialize_model(N, V, random_seed=1):\n",
        "    '''\n",
        "    Inputs:\n",
        "        N:  dimension of hidden vector\n",
        "        V:  dimension of vocabulary\n",
        "        random_seed: random seed for consistent results in the unit tests\n",
        "     Outputs:\n",
        "        W1, W2, b1, b2: initialized weights and biases\n",
        "    '''\n",
        "\n",
        "    np.random.seed(random_seed)  # Set the random seed for reproducibility\n",
        "\n",
        "    ### START CODE HERE ###\n",
        "    # Initialize W1 with random values, shape (N, V)\n",
        "    W1 = np.random.rand(N, V)\n",
        "\n",
        "    # Initialize W2 with random values, shape (V, N)\n",
        "    W2 = np.random.rand(V, N)\n",
        "\n",
        "    # Initialize b1 with random values, shape (N, 1)\n",
        "    b1 = np.random.rand(N, 1)\n",
        "\n",
        "    # Initialize b2 with random values, shape (V, 1)\n",
        "    b2 = np.random.rand(V, 1)\n",
        "    ### END CODE HERE ###\n",
        "\n",
        "    return W1, W2, b1, b2"
      ]
    },
    {
      "cell_type": "code",
      "execution_count": 8,
      "metadata": {
        "id": "StOn4oDW-hzr",
        "colab": {
          "base_uri": "https://localhost:8080/"
        },
        "outputId": "fc665b8a-f4d2-457b-a1e8-763629a07a85"
      },
      "outputs": [
        {
          "output_type": "stream",
          "name": "stdout",
          "text": [
            "tmp_W1.shape: (4, 10)\n",
            "tmp_W2.shape: (10, 4)\n",
            "tmp_b1.shape: (4, 1)\n",
            "tmp_b2.shape: (10, 1)\n"
          ]
        }
      ],
      "source": [
        "# Test your function example.\n",
        "tmp_N = 4\n",
        "tmp_V = 10\n",
        "tmp_W1, tmp_W2, tmp_b1, tmp_b2 = initialize_model(tmp_N,tmp_V)\n",
        "assert tmp_W1.shape == ((tmp_N,tmp_V))\n",
        "assert tmp_W2.shape == ((tmp_V,tmp_N))\n",
        "print(f\"tmp_W1.shape: {tmp_W1.shape}\")\n",
        "print(f\"tmp_W2.shape: {tmp_W2.shape}\")\n",
        "print(f\"tmp_b1.shape: {tmp_b1.shape}\")\n",
        "print(f\"tmp_b2.shape: {tmp_b2.shape}\")"
      ]
    },
    {
      "cell_type": "markdown",
      "metadata": {
        "id": "bf75BYwU-hzs"
      },
      "source": [
        "##### Expected Output\n",
        "\n",
        "```CPP\n",
        "tmp_W1.shape: (4, 10)\n",
        "tmp_W2.shape: (10, 4)\n",
        "tmp_b1.shape: (4, 1)\n",
        "tmp_b2.shape: (10, 1)\n",
        "```"
      ]
    },
    {
      "cell_type": "markdown",
      "metadata": {
        "id": "Yi-gONF0-hzs"
      },
      "source": [
        "<a name='2.1'></a>\n",
        "### 2.1 Softmax\n",
        "Before we can start training the model, we need to implement the softmax function as defined in equation 5:  \n",
        "\n",
        "<br>\n",
        "$$ \\text{softmax}(z_i) = \\frac{e^{z_i} }{\\sum_{i=0}^{V-1} e^{z_i} }  \\tag{5} $$\n",
        "\n",
        "- Array indexing in code starts at 0.\n",
        "- $V$ is the number of words in the vocabulary (which is also the number of rows of $z$).\n",
        "- $i$ goes from 0 to |V| - 1.\n",
        "\n",
        "\n",
        "<a name='ex-02'></a>\n",
        "### Exercise 02\n",
        "**Instructions**: Implement the softmax function below.\n",
        "\n",
        "- Assume that the input $z$ to `softmax` is a 2D array\n",
        "- Each training example is represented by a column of shape (V, 1) in this 2D array.\n",
        "- There may be more than one column, in the 2D array, because you can put in a batch of examples to increase efficiency.  Let's call the batch size lowercase $m$, so the $z$ array has shape (V, m)\n",
        "- When taking the sum from $i=1 \\cdots V-1$, take the sum for each column (each example) separately.\n",
        "\n",
        "Please use\n",
        "- numpy.exp\n",
        "- numpy.sum (set the axis so that you take the sum of each column in z)"
      ]
    },
    {
      "cell_type": "code",
      "execution_count": 9,
      "metadata": {
        "id": "6syN6H56-hzs"
      },
      "outputs": [],
      "source": [
        "def softmax(z):\n",
        "    '''\n",
        "    Inputs:\n",
        "        z: output scores from the hidden layer, shape (V, m)\n",
        "    Outputs:\n",
        "        yhat: prediction (estimate of y), shape (V, m)\n",
        "    '''\n",
        "    exp_z = np.exp(z)\n",
        "    sum_exp_z = np.sum(exp_z, axis=0)\n",
        "    yhat = exp_z / sum_exp_z\n",
        "\n",
        "    return yhat"
      ]
    },
    {
      "cell_type": "code",
      "execution_count": 10,
      "metadata": {
        "id": "HmBt3Hoh-hzs",
        "colab": {
          "base_uri": "https://localhost:8080/",
          "height": 52
        },
        "outputId": "b607a82e-1e27-43e4-d985-18506578f38c"
      },
      "outputs": [
        {
          "output_type": "display_data",
          "data": {
            "text/plain": [
              "array([[0.5       , 0.73105858, 0.88079708],\n",
              "       [0.5       , 0.26894142, 0.11920292]])"
            ]
          },
          "metadata": {}
        }
      ],
      "source": [
        "# Test the function\n",
        "tmp = np.array([[1,2,3],\n",
        "                [1,1,1]\n",
        "               ])\n",
        "tmp_sm = softmax(tmp)\n",
        "display(tmp_sm)"
      ]
    },
    {
      "cell_type": "markdown",
      "metadata": {
        "id": "K8wTqUyn-hzs"
      },
      "source": [
        "##### Expected Ouput\n",
        "\n",
        "```CPP\n",
        "array([[0.5       , 0.73105858, 0.88079708],\n",
        "       [0.5       , 0.26894142, 0.11920292]])\n",
        "```"
      ]
    },
    {
      "cell_type": "markdown",
      "metadata": {
        "id": "YEaLu4ZU-hzs"
      },
      "source": [
        "<a name='2.2'></a>\n",
        "### 2.2 Forward propagation\n",
        "\n",
        "<a name='ex-03'></a>\n",
        "### Exercise 03\n",
        "Implement the forward propagation $z$ according to equations (1) to (3). <br>\n",
        "\n",
        "\\begin{align}\n",
        " h &= W_1 \\  X + b_1  \\tag{1} \\\\\n",
        " a &= ReLU(h)  \\tag{2} \\\\\n",
        " z &= W_2 \\  a + b_2   \\tag{3} \\\\\n",
        "\\end{align}\n",
        "\n",
        "For that, you will use as activation the Rectified Linear Unit (ReLU) given by:\n",
        "\n",
        "$$f(h)=\\max (0,h) \\tag{6}$$"
      ]
    },
    {
      "cell_type": "markdown",
      "metadata": {
        "id": "8DXIAFz5-hzu"
      },
      "source": [
        "<details>    \n",
        "<summary>\n",
        "    <font size=\"3\" color=\"darkgreen\"><b>Hints</b></font>\n",
        "</summary>\n",
        "<p>\n",
        "<ul>\n",
        "    <li>You can use numpy.maximum(x1,x2) to get the maximum of two values</li>\n",
        "    <li>Use numpy.dot(A,B) to matrix multiply A and B</li>\n",
        "</ul>\n",
        "</p>\n"
      ]
    },
    {
      "cell_type": "code",
      "execution_count": 11,
      "metadata": {
        "id": "x8-NB3mu-hzv"
      },
      "outputs": [],
      "source": [
        "def forward_prop(x, W1, W2, b1, b2):\n",
        "    '''\n",
        "    Inputs:\n",
        "        x:  average one hot vector for the context\n",
        "        W1, W2, b1, b2:  matrices and biases to be learned\n",
        "    Outputs:\n",
        "        z:  output score vector\n",
        "    '''\n",
        "\n",
        "    # Calculate h\n",
        "    h = np.dot(W1, x) + b1\n",
        "\n",
        "    # Apply ReLU on h\n",
        "    h = np.maximum(0, h)\n",
        "\n",
        "    # Calculate z\n",
        "    z = np.dot(W2, h) + b2\n",
        "\n",
        "    return z, h"
      ]
    },
    {
      "cell_type": "code",
      "execution_count": 12,
      "metadata": {
        "id": "EOqSk5xn-hzw",
        "colab": {
          "base_uri": "https://localhost:8080/"
        },
        "outputId": "9e45f574-ff26-4ad4-e57a-dec6b3c30975"
      },
      "outputs": [
        {
          "output_type": "stream",
          "name": "stdout",
          "text": [
            "x has shape (3, 1)\n",
            "N is 2 and vocabulary size V is 3\n",
            "call forward_prop\n",
            "\n",
            "z has shape (3, 1)\n",
            "z has values:\n",
            "[[0.55379268]\n",
            " [1.58960774]\n",
            " [1.50722933]]\n",
            "\n",
            "h has shape (2, 1)\n",
            "h has values:\n",
            "[[0.92477674]\n",
            " [1.02487333]]\n"
          ]
        }
      ],
      "source": [
        "# Test the function\n",
        "\n",
        "# Create some inputs\n",
        "tmp_N = 2\n",
        "tmp_V = 3\n",
        "tmp_x = np.array([[0,1,0]]).T\n",
        "tmp_W1, tmp_W2, tmp_b1, tmp_b2 = initialize_model(N=tmp_N,V=tmp_V, random_seed=1)\n",
        "\n",
        "print(f\"x has shape {tmp_x.shape}\")\n",
        "print(f\"N is {tmp_N} and vocabulary size V is {tmp_V}\")\n",
        "\n",
        "# call function\n",
        "tmp_z, tmp_h = forward_prop(tmp_x, tmp_W1, tmp_W2, tmp_b1, tmp_b2)\n",
        "print(\"call forward_prop\")\n",
        "print()\n",
        "# Look at output\n",
        "print(f\"z has shape {tmp_z.shape}\")\n",
        "print(\"z has values:\")\n",
        "print(tmp_z)\n",
        "\n",
        "print()\n",
        "\n",
        "print(f\"h has shape {tmp_h.shape}\")\n",
        "print(\"h has values:\")\n",
        "print(tmp_h)"
      ]
    },
    {
      "cell_type": "markdown",
      "metadata": {
        "id": "9YJpcLrh-hzx"
      },
      "source": [
        "##### Expected output\n",
        "```CPP\n",
        "x has shape (3, 1)\n",
        "N is 2 and vocabulary size V is 3\n",
        "call forward_prop\n",
        "\n",
        "z has shape (3, 1)\n",
        "z has values:\n",
        "[[0.55379268]\n",
        " [1.58960774]\n",
        " [1.50722933]]\n",
        "\n",
        "h has shape (2, 1)\n",
        "h has values:\n",
        "[[0.92477674]\n",
        " [1.02487333]]\n",
        "```"
      ]
    },
    {
      "cell_type": "markdown",
      "metadata": {
        "id": "4QKO5NAk-hzx"
      },
      "source": [
        "<a name='2.3'></a>\n",
        "## 2.3 Cost function\n",
        "\n",
        "- We have implemented the *cross-entropy* cost function for you."
      ]
    },
    {
      "cell_type": "code",
      "execution_count": 13,
      "metadata": {
        "id": "7zUG23Zw-hzx"
      },
      "outputs": [],
      "source": [
        "# compute_cost: cross-entropy cost functioN\n",
        "def compute_cost(y, yhat, batch_size):\n",
        "    # cost function\n",
        "    logprobs = np.multiply(np.log(yhat),y) + np.multiply(np.log(1 - yhat), 1 - y)\n",
        "    cost = - 1/batch_size * np.sum(logprobs)\n",
        "    cost = np.squeeze(cost)\n",
        "    return cost"
      ]
    },
    {
      "cell_type": "code",
      "execution_count": 14,
      "metadata": {
        "id": "rnooInB_B3c4",
        "colab": {
          "base_uri": "https://localhost:8080/"
        },
        "outputId": "4c913b65-19ca-4cd7-b0a0-a9c6b5c10c9a"
      },
      "outputs": [
        {
          "output_type": "stream",
          "name": "stdout",
          "text": [
            "tmp_cost: 12.9115\n"
          ]
        }
      ],
      "source": [
        "def compute_cost(y, yhat, batch_size):\n",
        "    \"\"\"\n",
        "    Computes the cross-entropy cost.\n",
        "\n",
        "    Arguments:\n",
        "    y -- true labels, shape (V, m)\n",
        "    yhat -- predicted probabilities, shape (V, m)\n",
        "    batch_size -- number of examples in the batch\n",
        "\n",
        "    Returns:\n",
        "    cost -- computed cost value\n",
        "    \"\"\"\n",
        "    logprobs = np.log(yhat) * y + np.log(1 - yhat) * (1 - y)\n",
        "    cost = -np.sum(logprobs) / batch_size\n",
        "    return np.squeeze(cost)\n",
        "\n",
        "def get_batches(data, word2Ind, V, C, batch_size):\n",
        "    \"\"\"\n",
        "    Creates batches from the tokenized data for training.\n",
        "\n",
        "    Arguments:\n",
        "    data -- list of tokens (words)\n",
        "    word2Ind -- dictionary mapping words to indices\n",
        "    V -- size of the vocabulary\n",
        "    C -- context window size\n",
        "    batch_size -- number of examples in each batch\n",
        "\n",
        "    Returns:\n",
        "    Generator yielding batches of inputs (x) and targets (y)\n",
        "    \"\"\"\n",
        "    for i in range(0, len(data) - C, batch_size):\n",
        "        x_batch, y_batch = [], []\n",
        "\n",
        "        for j in range(batch_size):\n",
        "            if i + j + C >= len(data):  # Stop if out of bounds\n",
        "                break\n",
        "\n",
        "            context = data[i + j: i + j + C]\n",
        "            target = data[i + j + C]\n",
        "\n",
        "            # One-hot encoding for context words\n",
        "            x_context = np.zeros(V)\n",
        "            for word in context:\n",
        "                x_context[word2Ind[word]] += 1\n",
        "\n",
        "            x_batch.append(x_context)\n",
        "\n",
        "            # One-hot encoding for target word\n",
        "            y = np.zeros(V)\n",
        "            y[word2Ind[target]] = 1\n",
        "            y_batch.append(y)\n",
        "\n",
        "        x_batch = np.array(x_batch).T  # Shape (V, batch_size)\n",
        "        y_batch = np.array(y_batch).T  # Shape (V, batch_size)\n",
        "\n",
        "        yield x_batch, y_batch\n",
        "\n",
        "# Testing the functions\n",
        "tmp_C = 2\n",
        "tmp_N = 50\n",
        "tmp_batch_size = 4\n",
        "tmp_word2Ind, tmp_Ind2word = get_dict(tokens)\n",
        "tmp_V = len(tmp_word2Ind)\n",
        "\n",
        "# Get a batch of data\n",
        "tmp_x, tmp_y = next(get_batches(tokens, tmp_word2Ind, tmp_V, tmp_C, tmp_batch_size))\n",
        "\n",
        "# Initialize model parameters\n",
        "tmp_W1, tmp_W2, tmp_b1, tmp_b2 = initialize_model(tmp_N, tmp_V)\n",
        "\n",
        "# Forward propagation\n",
        "tmp_z, tmp_h = forward_prop(tmp_x, tmp_W1, tmp_W2, tmp_b1, tmp_b2)\n",
        "\n",
        "# Apply softmax to the output\n",
        "tmp_yhat = softmax(tmp_z)\n",
        "\n",
        "# Compute the cost\n",
        "tmp_cost = compute_cost(tmp_y, tmp_yhat, tmp_batch_size)\n",
        "print(f\"tmp_cost: {tmp_cost:.4f}\")\n"
      ]
    },
    {
      "cell_type": "code",
      "execution_count": 15,
      "metadata": {
        "id": "WnKMteRl-hzx",
        "colab": {
          "base_uri": "https://localhost:8080/"
        },
        "outputId": "72cc8247-48bb-4946-f0aa-cba6f2b5dc4c"
      },
      "outputs": [
        {
          "output_type": "stream",
          "name": "stdout",
          "text": [
            "tmp_x.shape (5958, 4)\n",
            "tmp_y.shape (5958, 4)\n",
            "tmp_W1.shape (50, 5958)\n",
            "tmp_W2.shape (5958, 50)\n",
            "tmp_b1.shape (50, 1)\n",
            "tmp_b2.shape (5958, 1)\n",
            "tmp_z.shape: (5958, 4)\n",
            "tmp_h.shape: (50, 4)\n",
            "tmp_yhat.shape: (5958, 4)\n",
            "call compute_cost\n",
            "tmp_cost 12.9115\n"
          ]
        }
      ],
      "source": [
        "# Test the function\n",
        "tmp_C = 2\n",
        "tmp_N = 50\n",
        "tmp_batch_size = 4\n",
        "tmp_word2Ind, tmp_Ind2word = get_dict(tokens)\n",
        "tmp_V = len(tmp_word2Ind)\n",
        "\n",
        "# Get a batch of data (this part may vary depending on your batching implementation)\n",
        "tmp_x, tmp_y = next(get_batches(tokens, tmp_word2Ind, tmp_V, tmp_C, tmp_batch_size))\n",
        "\n",
        "print(f\"tmp_x.shape {tmp_x.shape}\")\n",
        "print(f\"tmp_y.shape {tmp_y.shape}\")\n",
        "\n",
        "# Initialize model parameters\n",
        "tmp_W1, tmp_W2, tmp_b1, tmp_b2 = initialize_model(tmp_N, tmp_V)\n",
        "\n",
        "print(f\"tmp_W1.shape {tmp_W1.shape}\")\n",
        "print(f\"tmp_W2.shape {tmp_W2.shape}\")\n",
        "print(f\"tmp_b1.shape {tmp_b1.shape}\")\n",
        "print(f\"tmp_b2.shape {tmp_b2.shape}\")\n",
        "\n",
        "# Forward propagation\n",
        "tmp_z, tmp_h = forward_prop(tmp_x, tmp_W1, tmp_W2, tmp_b1, tmp_b2)\n",
        "print(f\"tmp_z.shape: {tmp_z.shape}\")\n",
        "print(f\"tmp_h.shape: {tmp_h.shape}\")\n",
        "\n",
        "# Apply softmax to the output\n",
        "tmp_yhat = softmax(tmp_z)\n",
        "print(f\"tmp_yhat.shape: {tmp_yhat.shape}\")\n",
        "\n",
        "# Compute the cost\n",
        "tmp_cost = compute_cost(tmp_y, tmp_yhat, tmp_batch_size)\n",
        "print(\"call compute_cost\")\n",
        "print(f\"tmp_cost {tmp_cost:.4f}\")\n"
      ]
    },
    {
      "cell_type": "markdown",
      "metadata": {
        "id": "kEZXiSvr-hzy"
      },
      "source": [
        "##### Expected output\n",
        "\n",
        "```CPP\n",
        "tmp_x.shape (5778, 4)\n",
        "tmp_y.shape (5778, 4)\n",
        "tmp_W1.shape (50, 5778)\n",
        "tmp_W2.shape (5778, 50)\n",
        "tmp_b1.shape (50, 1)\n",
        "tmp_b2.shape (5778, 1)\n",
        "tmp_z.shape: (5778, 4)\n",
        "tmp_h.shape: (50, 4)\n",
        "tmp_yhat.shape: (5778, 4)\n",
        "call compute_cost\n",
        "tmp_cost 9.9560\n",
        "```"
      ]
    },
    {
      "cell_type": "markdown",
      "metadata": {
        "id": "ljPcEext-hzy"
      },
      "source": [
        "<a name='2.4'></a>\n",
        "## 2.4 Training the Model - Backpropagation\n",
        "\n",
        "<a name='ex-04'></a>\n",
        "### Exercise 04\n",
        "Now that you have understood how the CBOW model works, you will train it. <br>\n",
        "You created a function for the forward propagation. Now you will implement a function that computes the gradients to backpropagate the errors.\n",
        "\n"
      ]
    },
    {
      "cell_type": "code",
      "execution_count": 16,
      "metadata": {
        "id": "F8iczeEM-hzy"
      },
      "outputs": [],
      "source": [
        "def back_prop(x, yhat, y, h, W1, W2, b1, b2, batch_size):\n",
        "    '''\n",
        "    Inputs:\n",
        "        x:  average one hot vector for the context\n",
        "        yhat: predicted probabilities (output of softmax)\n",
        "        y:  true labels\n",
        "        h:  hidden layer output\n",
        "        W1, W2, b1, b2:  weight matrices and bias vectors\n",
        "        batch_size: number of examples in the batch\n",
        "\n",
        "    Outputs:\n",
        "        grad_W1, grad_W2, grad_b1, grad_b2: gradients of weights and biases\n",
        "    '''\n",
        "\n",
        "    # Compute the error term for output layer\n",
        "    error = yhat - y  # shape (V, m)\n",
        "\n",
        "    # Compute l1 as W2^T * error\n",
        "    l1 = np.dot(W2.T, error)  # shape (N, m)\n",
        "\n",
        "    # Apply ReLU derivative to l1\n",
        "    relu_derivative = (h > 0).astype(float)  # shape (N, m)\n",
        "    l1 *= relu_derivative\n",
        "\n",
        "    # Compute gradients\n",
        "    grad_W2 = np.dot(error, h.T) / batch_size  # shape (V, N)\n",
        "    grad_W1 = np.dot(l1, x.T) / batch_size  # shape (N, V)\n",
        "    grad_b2 = np.sum(error, axis=1, keepdims=True) / batch_size  # shape (V, 1)\n",
        "    grad_b1 = np.sum(l1, axis=1, keepdims=True) / batch_size  # shape (N, 1)\n",
        "\n",
        "    return grad_W1, grad_W2, grad_b1, grad_b2\n"
      ]
    },
    {
      "cell_type": "code",
      "execution_count": 17,
      "metadata": {
        "id": "rvTxDuXc-hzy",
        "colab": {
          "base_uri": "https://localhost:8080/"
        },
        "outputId": "7e04ab82-3b08-4ba2-a282-f6028dbff449"
      },
      "outputs": [
        {
          "output_type": "stream",
          "name": "stdout",
          "text": [
            "get a batch of data\n",
            "tmp_x.shape (5958, 4)\n",
            "tmp_y.shape (5958, 4)\n",
            "\n",
            "Initialize weights and biases\n",
            "tmp_W1.shape (50, 5958)\n",
            "tmp_W2.shape (5958, 50)\n",
            "tmp_b1.shape (50, 1)\n",
            "tmp_b2.shape (5958, 1)\n",
            "\n",
            "Forwad prop to get z and h\n",
            "tmp_z.shape: (5958, 4)\n",
            "tmp_h.shape: (50, 4)\n",
            "\n",
            "Get yhat by calling softmax\n",
            "tmp_yhat.shape: (5958, 4)\n",
            "\n",
            "call back_prop\n",
            "tmp_grad_W1.shape (50, 5958)\n",
            "tmp_grad_W2.shape (5958, 50)\n",
            "tmp_grad_b1.shape (50, 1)\n",
            "tmp_grad_b2.shape (5958, 1)\n"
          ]
        }
      ],
      "source": [
        "# Test the function\n",
        "tmp_C = 2\n",
        "tmp_N = 50\n",
        "tmp_batch_size = 4\n",
        "tmp_word2Ind, tmp_Ind2word = get_dict(tokens)\n",
        "tmp_V = len(word2Ind)\n",
        "\n",
        "# get a batch of data\n",
        "tmp_x, tmp_y = next(get_batches(tokens, tmp_word2Ind, tmp_V,tmp_C, tmp_batch_size))\n",
        "\n",
        "print(\"get a batch of data\")\n",
        "print(f\"tmp_x.shape {tmp_x.shape}\")\n",
        "print(f\"tmp_y.shape {tmp_y.shape}\")\n",
        "\n",
        "print()\n",
        "print(\"Initialize weights and biases\")\n",
        "tmp_W1, tmp_W2, tmp_b1, tmp_b2 = initialize_model(tmp_N,tmp_V)\n",
        "\n",
        "print(f\"tmp_W1.shape {tmp_W1.shape}\")\n",
        "print(f\"tmp_W2.shape {tmp_W2.shape}\")\n",
        "print(f\"tmp_b1.shape {tmp_b1.shape}\")\n",
        "print(f\"tmp_b2.shape {tmp_b2.shape}\")\n",
        "\n",
        "print()\n",
        "print(\"Forwad prop to get z and h\")\n",
        "tmp_z, tmp_h = forward_prop(tmp_x, tmp_W1, tmp_W2, tmp_b1, tmp_b2)\n",
        "print(f\"tmp_z.shape: {tmp_z.shape}\")\n",
        "print(f\"tmp_h.shape: {tmp_h.shape}\")\n",
        "\n",
        "print()\n",
        "print(\"Get yhat by calling softmax\")\n",
        "tmp_yhat = softmax(tmp_z)\n",
        "print(f\"tmp_yhat.shape: {tmp_yhat.shape}\")\n",
        "\n",
        "tmp_m = (2*tmp_C)\n",
        "tmp_grad_W1, tmp_grad_W2, tmp_grad_b1, tmp_grad_b2 = back_prop(tmp_x, tmp_yhat, tmp_y, tmp_h, tmp_W1, tmp_W2, tmp_b1, tmp_b2, tmp_batch_size)\n",
        "\n",
        "print()\n",
        "print(\"call back_prop\")\n",
        "print(f\"tmp_grad_W1.shape {tmp_grad_W1.shape}\")\n",
        "print(f\"tmp_grad_W2.shape {tmp_grad_W2.shape}\")\n",
        "print(f\"tmp_grad_b1.shape {tmp_grad_b1.shape}\")\n",
        "print(f\"tmp_grad_b2.shape {tmp_grad_b2.shape}\")"
      ]
    },
    {
      "cell_type": "markdown",
      "metadata": {
        "id": "u4SqKwcc-hzz"
      },
      "source": [
        "##### Expected output\n",
        "\n",
        "```CPP\n",
        "get a batch of data\n",
        "tmp_x.shape (5778, 4)\n",
        "tmp_y.shape (5778, 4)\n",
        "\n",
        "Initialize weights and biases\n",
        "tmp_W1.shape (50, 5778)\n",
        "tmp_W2.shape (5778, 50)\n",
        "tmp_b1.shape (50, 1)\n",
        "tmp_b2.shape (5778, 1)\n",
        "\n",
        "Forwad prop to get z and h\n",
        "tmp_z.shape: (5778, 4)\n",
        "tmp_h.shape: (50, 4)\n",
        "\n",
        "Get yhat by calling softmax\n",
        "tmp_yhat.shape: (5778, 4)\n",
        "\n",
        "call back_prop\n",
        "tmp_grad_W1.shape (50, 5778)\n",
        "tmp_grad_W2.shape (5778, 50)\n",
        "tmp_grad_b1.shape (50, 1)\n",
        "tmp_grad_b2.shape (5778, 1)\n",
        "```"
      ]
    },
    {
      "cell_type": "markdown",
      "metadata": {
        "id": "9qjQtuMV-hzz"
      },
      "source": [
        "<a name='2.5'></a>\n",
        "## Gradient Descent\n",
        "\n",
        "<a name='ex-05'></a>\n",
        "### Exercise 05\n",
        "Now that you have implemented a function to compute the gradients, you will implement batch gradient descent over your training set.\n",
        "\n",
        "**Hint:** For that, you will use `initialize_model` and the `back_prop` functions which you just created (and the `compute_cost` function). You can also use the provided `get_batches` helper function:\n",
        "\n",
        "```for x, y in get_batches(data, word2Ind, V, C, batch_size):```\n",
        "\n",
        "```...```\n",
        "\n",
        "Also: print the cost after each batch is processed (use batch size = 128)"
      ]
    },
    {
      "cell_type": "raw",
      "metadata": {
        "id": "jYa3B65w9I3e"
      },
      "source": [
        "# GRADED FUNCTION: gradient_descent\n",
        "def gradient_descent(data, word2Ind, N, V, num_iters, alpha=0.03):\n",
        "\n",
        "    '''\n",
        "    This is the gradient_descent function\n",
        "\n",
        "      Inputs:\n",
        "        data:      text\n",
        "        word2Ind:  words to Indices\n",
        "        N:         dimension of hidden vector\n",
        "        V:         dimension of vocabulary\n",
        "        num_iters: number of iterations\n",
        "     Outputs:\n",
        "        W1, W2, b1, b2:  updated matrices and biases\n",
        "    '''\n",
        "\n",
        "    # Initialize weights and biases\n",
        "    W1, W2, b1, b2 = initialize_model(N, V, random_seed=282)\n",
        "    batch_size = 128\n",
        "    iters = 0\n",
        "    C = 2  # Context window size\n",
        "\n",
        "    # Iterate over batches\n",
        "    for x, y in get_batches(data, word2Ind, V, C, batch_size):\n",
        "        # Forward Propagation\n",
        "        z, h = forward_prop(x, W1, W2, b1, b2)\n",
        "        yhat = softmax(z)\n",
        "\n",
        "        # Compute cost\n",
        "        cost = compute_cost(y, yhat, batch_size)\n",
        "\n",
        "        if ( (iters + 1) % 10 == 0):\n",
        "            print(f\"iters: {iters + 1} cost: {cost:.6f}\")\n",
        "\n",
        "        # Backpropagation\n",
        "        grad_W1, grad_W2, grad_b1, grad_b2 = back_prop(x, yhat, y, h, W1, W2, b1, b2, batch_size)\n",
        "\n",
        "        # Update weights and biases\n",
        "        W1 -= alpha * grad_W1\n",
        "        W2 -= alpha * grad_W2\n",
        "        b1 -= alpha * grad_b1\n",
        "        b2 -= alpha * grad_b2\n",
        "\n",
        "        iters += 1\n",
        "\n",
        "        # Stop after the specified number of iterations\n",
        "        if iters == num_iters:\n",
        "            break\n",
        "\n",
        "        # Reduce learning rate every 100 iterations\n",
        "        if iters % 100 == 0:\n",
        "            alpha *= 0.66\n",
        "\n",
        "    return W1, W2, b1, b2\n"
      ]
    },
    {
      "cell_type": "code",
      "execution_count": 18,
      "metadata": {
        "id": "ehU_RkYN9I3e"
      },
      "outputs": [],
      "source": [
        "# GRADED FUNCTION: gradient_descent\n",
        "def gradient_descent(data, word2Ind, N, V, num_iters, alpha=0.03):\n",
        "    '''\n",
        "    This is the gradient_descent function\n",
        "\n",
        "      Inputs:\n",
        "        data:      text\n",
        "        word2Ind:  words to Indices\n",
        "        N:         dimension of hidden vector\n",
        "        V:         dimension of vocabulary\n",
        "        num_iters: number of iterations\n",
        "     Outputs:\n",
        "        W1, W2, b1, b2:  updated matrices and biases\n",
        "    '''\n",
        "    # Initialize weights and biases\n",
        "    W1, W2, b1, b2 = initialize_model(N, V, random_seed=282)\n",
        "    batch_size = 128\n",
        "    iters = 0\n",
        "    C = 2  # Context window size\n",
        "\n",
        "    # Iterate over batches\n",
        "    for x, y in get_batches(data, word2Ind, V, C, batch_size):\n",
        "        # Forward Propagation\n",
        "        z, h = forward_prop(x, W1, W2, b1, b2)\n",
        "        yhat = softmax(z)\n",
        "\n",
        "        # Compute cost\n",
        "        cost = compute_cost(y, yhat, batch_size)\n",
        "\n",
        "        # Print the cost every 10 iterations\n",
        "        if ( (iters + 1) % 10 == 0):\n",
        "            print(f\"iters: {iters + 1} cost: {cost:.6f}\")\n",
        "\n",
        "        # Backpropagation\n",
        "        grad_W1, grad_W2, grad_b1, grad_b2 = back_prop(x, yhat, y, h, W1, W2, b1, b2, batch_size)\n",
        "\n",
        "        # Update weights and biases\n",
        "        W1 -= alpha * grad_W1\n",
        "        W2 -= alpha * grad_W2\n",
        "        b1 -= alpha * grad_b1\n",
        "        b2 -= alpha * grad_b2\n",
        "\n",
        "        iters += 1\n",
        "\n",
        "        # Stop after the specified number of iterations\n",
        "        if iters == num_iters:\n",
        "            break\n",
        "\n",
        "        # Reduce learning rate every 100 iterations\n",
        "        if iters % 100 == 0:\n",
        "            alpha *= 0.66\n",
        "\n",
        "    return W1, W2, b1, b2"
      ]
    },
    {
      "cell_type": "code",
      "execution_count": 19,
      "metadata": {
        "id": "cyBLRWZv-hz0",
        "colab": {
          "base_uri": "https://localhost:8080/"
        },
        "outputId": "6fb5cbe1-ab1d-4d5d-8e4b-da2609a1379d"
      },
      "outputs": [
        {
          "output_type": "stream",
          "name": "stdout",
          "text": [
            "Call gradient_descent\n",
            "iters: 10 cost: 14.399460\n",
            "iters: 20 cost: 14.340247\n",
            "iters: 30 cost: 12.553325\n",
            "iters: 40 cost: 11.988097\n",
            "iters: 50 cost: 12.418524\n",
            "iters: 60 cost: 12.227335\n",
            "iters: 70 cost: 11.296520\n",
            "iters: 80 cost: 11.459571\n",
            "iters: 90 cost: 11.844932\n",
            "iters: 100 cost: 10.961463\n",
            "iters: 110 cost: 10.552696\n",
            "iters: 120 cost: 10.758217\n",
            "iters: 130 cost: 10.786697\n",
            "iters: 140 cost: 10.151589\n",
            "iters: 150 cost: 10.283627\n"
          ]
        }
      ],
      "source": [
        "# test your function\n",
        "C = 2\n",
        "N = 50\n",
        "word2Ind, Ind2word = get_dict(tokens)\n",
        "V = len(word2Ind)\n",
        "num_iters = 150\n",
        "print(\"Call gradient_descent\")\n",
        "W1, W2, b1, b2 = gradient_descent(tokens, word2Ind, N, V, num_iters)"
      ]
    },
    {
      "cell_type": "markdown",
      "metadata": {
        "id": "yz0Rouae-hz0"
      },
      "source": [
        "##### Expected Output\n",
        "\n",
        "\n",
        "```CPP\n",
        "iters: 10 cost: 0.789141\n",
        "iters: 20 cost: 0.105543\n",
        "iters: 30 cost: 0.056008\n",
        "iters: 40 cost: 0.038101\n",
        "iters: 50 cost: 0.028868\n",
        "iters: 60 cost: 0.023237\n",
        "iters: 70 cost: 0.019444\n",
        "iters: 80 cost: 0.016716\n",
        "iters: 90 cost: 0.014660\n",
        "iters: 100 cost: 0.013054\n",
        "iters: 110 cost: 0.012133\n",
        "iters: 120 cost: 0.011370\n",
        "iters: 130 cost: 0.010698\n",
        "iters: 140 cost: 0.010100\n",
        "iters: 150 cost: 0.009566\n",
        "```\n",
        "\n",
        "Your numbers may differ a bit depending on which version of Python you're using."
      ]
    },
    {
      "cell_type": "markdown",
      "metadata": {
        "id": "L07H5G1l-hz1"
      },
      "source": [
        "<a name='3'></a>\n",
        "## 3.0 Visualizing the word vectors\n",
        "\n",
        "In this part you will visualize the word vectors trained using the function you just coded above."
      ]
    },
    {
      "cell_type": "code",
      "execution_count": 20,
      "metadata": {
        "id": "Fgyi8WW0-hz1",
        "colab": {
          "base_uri": "https://localhost:8080/"
        },
        "outputId": "ee79a557-8274-43ea-c111-a68066f1f853"
      },
      "outputs": [
        {
          "output_type": "stream",
          "name": "stdout",
          "text": [
            "(21, 50) [59, 2, 667, 1355, 950, 620, 1511, 510, 1891, 1762, 2259, 155, 409, 358, 2738, 1780, 591, 695, 846, 273, 794]\n"
          ]
        }
      ],
      "source": [
        "# visualizing the word vectors here\n",
        "from matplotlib import pyplot\n",
        "%config InlineBackend.figure_format = 'svg'\n",
        "words = ['prince', 'chapter', 'princess', 'andrew', 'pierre', 'father', 'commander', 'son', 'officer', 'bridge', 'regiment', 'petersburg', 'emperor', 'conversation', 'colonel', 'carriage', 'anatole', 'army', 'mother', 'daughter', 'visitor']\n",
        "embs = (W1.T + W2)/2.0\n",
        "\n",
        "# given a list of words and the embeddings, it returns a matrix with all the embeddings\n",
        "idx = [word2Ind[word] for word in words]\n",
        "X = embs[idx, :]\n",
        "print(X.shape, idx)  # X.shape:  Number of words of dimension N each"
      ]
    },
    {
      "cell_type": "code",
      "execution_count": 21,
      "metadata": {
        "colab": {
          "base_uri": "https://localhost:8080/"
        },
        "id": "dDFX5GJp9I3j",
        "outputId": "278e7c26-7ecb-4892-bfe3-aa46f97659e1"
      },
      "outputs": [
        {
          "output_type": "stream",
          "name": "stdout",
          "text": [
            "Requirement already satisfied: scikit-learn in /usr/local/lib/python3.10/dist-packages (1.5.2)\n",
            "Requirement already satisfied: numpy>=1.19.5 in /usr/local/lib/python3.10/dist-packages (from scikit-learn) (1.26.4)\n",
            "Requirement already satisfied: scipy>=1.6.0 in /usr/local/lib/python3.10/dist-packages (from scikit-learn) (1.13.1)\n",
            "Requirement already satisfied: joblib>=1.2.0 in /usr/local/lib/python3.10/dist-packages (from scikit-learn) (1.4.2)\n",
            "Requirement already satisfied: threadpoolctl>=3.1.0 in /usr/local/lib/python3.10/dist-packages (from scikit-learn) (3.5.0)\n"
          ]
        }
      ],
      "source": [
        "pip install scikit-learn"
      ]
    },
    {
      "cell_type": "code",
      "execution_count": 22,
      "metadata": {
        "id": "vwk8uM-2Glry",
        "colab": {
          "base_uri": "https://localhost:8080/",
          "height": 693
        },
        "outputId": "3bccfba7-b0e4-4585-98a5-f0bfa0237234"
      },
      "outputs": [
        {
          "output_type": "display_data",
          "data": {
            "text/plain": [
              "<Figure size 800x800 with 1 Axes>"
            ],
            "image/svg+xml": "<?xml version=\"1.0\" encoding=\"utf-8\" standalone=\"no\"?>\n<!DOCTYPE svg PUBLIC \"-//W3C//DTD SVG 1.1//EN\"\n  \"http://www.w3.org/Graphics/SVG/1.1/DTD/svg11.dtd\">\n<svg xmlns:xlink=\"http://www.w3.org/1999/xlink\" width=\"526.479716pt\" height=\"503.394375pt\" viewBox=\"0 0 526.479716 503.394375\" xmlns=\"http://www.w3.org/2000/svg\" version=\"1.1\">\n <metadata>\n  <rdf:RDF xmlns:dc=\"http://purl.org/dc/elements/1.1/\" xmlns:cc=\"http://creativecommons.org/ns#\" xmlns:rdf=\"http://www.w3.org/1999/02/22-rdf-syntax-ns#\">\n   <cc:Work>\n    <dc:type rdf:resource=\"http://purl.org/dc/dcmitype/StillImage\"/>\n    <dc:date>2024-10-03T19:57:32.584760</dc:date>\n    <dc:format>image/svg+xml</dc:format>\n    <dc:creator>\n     <cc:Agent>\n      <dc:title>Matplotlib v3.7.1, https://matplotlib.org/</dc:title>\n     </cc:Agent>\n    </dc:creator>\n   </cc:Work>\n  </rdf:RDF>\n </metadata>\n <defs>\n  <style type=\"text/css\">*{stroke-linejoin: round; stroke-linecap: butt}</style>\n </defs>\n <g id=\"figure_1\">\n  <g id=\"patch_1\">\n   <path d=\"M 0 503.394375 \nL 526.479716 503.394375 \nL 526.479716 0 \nL 0 0 \nz\n\" style=\"fill: #ffffff\"/>\n  </g>\n  <g id=\"axes_1\">\n   <g id=\"patch_2\">\n    <path d=\"M 58.523438 465.838125 \nL 504.923437 465.838125 \nL 504.923437 22.318125 \nL 58.523438 22.318125 \nz\n\" style=\"fill: #ffffff\"/>\n   </g>\n   <g id=\"PathCollection_1\">\n    <defs>\n     <path id=\"m275fa7e6ea\" d=\"M 0 3 \nC 0.795609 3 1.55874 2.683901 2.12132 2.12132 \nC 2.683901 1.55874 3 0.795609 3 0 \nC 3 -0.795609 2.683901 -1.55874 2.12132 -2.12132 \nC 1.55874 -2.683901 0.795609 -3 0 -3 \nC -0.795609 -3 -1.55874 -2.683901 -2.12132 -2.12132 \nC -2.683901 -1.55874 -3 -0.795609 -3 0 \nC -3 0.795609 -2.683901 1.55874 -2.12132 2.12132 \nC -1.55874 2.683901 -0.795609 3 0 3 \nz\n\" style=\"stroke: #008000\"/>\n    </defs>\n    <g clip-path=\"url(#pc6a5cff864)\">\n     <use xlink:href=\"#m275fa7e6ea\" x=\"237.030662\" y=\"341.469016\" style=\"fill: #008000; stroke: #008000\"/>\n     <use xlink:href=\"#m275fa7e6ea\" x=\"484.632528\" y=\"323.110549\" style=\"fill: #008000; stroke: #008000\"/>\n     <use xlink:href=\"#m275fa7e6ea\" x=\"275.6318\" y=\"223.285546\" style=\"fill: #008000; stroke: #008000\"/>\n     <use xlink:href=\"#m275fa7e6ea\" x=\"355.784385\" y=\"292.482588\" style=\"fill: #008000; stroke: #008000\"/>\n     <use xlink:href=\"#m275fa7e6ea\" x=\"306.858607\" y=\"258.322234\" style=\"fill: #008000; stroke: #008000\"/>\n     <use xlink:href=\"#m275fa7e6ea\" x=\"78.814347\" y=\"339.741475\" style=\"fill: #008000; stroke: #008000\"/>\n     <use xlink:href=\"#m275fa7e6ea\" x=\"353.240559\" y=\"203.17644\" style=\"fill: #008000; stroke: #008000\"/>\n     <use xlink:href=\"#m275fa7e6ea\" x=\"332.063725\" y=\"268.599352\" style=\"fill: #008000; stroke: #008000\"/>\n     <use xlink:href=\"#m275fa7e6ea\" x=\"206.222409\" y=\"164.423129\" style=\"fill: #008000; stroke: #008000\"/>\n     <use xlink:href=\"#m275fa7e6ea\" x=\"239.437926\" y=\"242.36542\" style=\"fill: #008000; stroke: #008000\"/>\n     <use xlink:href=\"#m275fa7e6ea\" x=\"201.959996\" y=\"177.961756\" style=\"fill: #008000; stroke: #008000\"/>\n     <use xlink:href=\"#m275fa7e6ea\" x=\"376.732157\" y=\"357.326893\" style=\"fill: #008000; stroke: #008000\"/>\n     <use xlink:href=\"#m275fa7e6ea\" x=\"296.391464\" y=\"119.753938\" style=\"fill: #008000; stroke: #008000\"/>\n     <use xlink:href=\"#m275fa7e6ea\" x=\"196.559191\" y=\"445.678125\" style=\"fill: #008000; stroke: #008000\"/>\n     <use xlink:href=\"#m275fa7e6ea\" x=\"171.811841\" y=\"94.94014\" style=\"fill: #008000; stroke: #008000\"/>\n     <use xlink:href=\"#m275fa7e6ea\" x=\"198.364817\" y=\"385.990753\" style=\"fill: #008000; stroke: #008000\"/>\n     <use xlink:href=\"#m275fa7e6ea\" x=\"227.884577\" y=\"326.246346\" style=\"fill: #008000; stroke: #008000\"/>\n     <use xlink:href=\"#m275fa7e6ea\" x=\"226.769812\" y=\"42.478125\" style=\"fill: #008000; stroke: #008000\"/>\n     <use xlink:href=\"#m275fa7e6ea\" x=\"154.358656\" y=\"361.829142\" style=\"fill: #008000; stroke: #008000\"/>\n     <use xlink:href=\"#m275fa7e6ea\" x=\"99.067572\" y=\"275.873154\" style=\"fill: #008000; stroke: #008000\"/>\n     <use xlink:href=\"#m275fa7e6ea\" x=\"245.515973\" y=\"140.354771\" style=\"fill: #008000; stroke: #008000\"/>\n    </g>\n   </g>\n   <g id=\"matplotlib.axis_1\">\n    <g id=\"xtick_1\">\n     <g id=\"line2d_1\">\n      <path d=\"M 64.633077 465.838125 \nL 64.633077 22.318125 \n\" clip-path=\"url(#pc6a5cff864)\" style=\"fill: none; stroke: #b0b0b0; stroke-width: 0.8; stroke-linecap: square\"/>\n     </g>\n     <g id=\"line2d_2\">\n      <defs>\n       <path id=\"m6a9aec4eaf\" d=\"M 0 0 \nL 0 3.5 \n\" style=\"stroke: #000000; stroke-width: 0.8\"/>\n      </defs>\n      <g>\n       <use xlink:href=\"#m6a9aec4eaf\" x=\"64.633077\" y=\"465.838125\" style=\"stroke: #000000; stroke-width: 0.8\"/>\n      </g>\n     </g>\n     <g id=\"text_1\">\n      <!-- −1.0 -->\n      <g transform=\"translate(52.491671 480.436562) scale(0.1 -0.1)\">\n       <defs>\n        <path id=\"DejaVuSans-2212\" d=\"M 678 2272 \nL 4684 2272 \nL 4684 1741 \nL 678 1741 \nL 678 2272 \nz\n\" transform=\"scale(0.015625)\"/>\n        <path id=\"DejaVuSans-31\" d=\"M 794 531 \nL 1825 531 \nL 1825 4091 \nL 703 3866 \nL 703 4441 \nL 1819 4666 \nL 2450 4666 \nL 2450 531 \nL 3481 531 \nL 3481 0 \nL 794 0 \nL 794 531 \nz\n\" transform=\"scale(0.015625)\"/>\n        <path id=\"DejaVuSans-2e\" d=\"M 684 794 \nL 1344 794 \nL 1344 0 \nL 684 0 \nL 684 794 \nz\n\" transform=\"scale(0.015625)\"/>\n        <path id=\"DejaVuSans-30\" d=\"M 2034 4250 \nQ 1547 4250 1301 3770 \nQ 1056 3291 1056 2328 \nQ 1056 1369 1301 889 \nQ 1547 409 2034 409 \nQ 2525 409 2770 889 \nQ 3016 1369 3016 2328 \nQ 3016 3291 2770 3770 \nQ 2525 4250 2034 4250 \nz\nM 2034 4750 \nQ 2819 4750 3233 4129 \nQ 3647 3509 3647 2328 \nQ 3647 1150 3233 529 \nQ 2819 -91 2034 -91 \nQ 1250 -91 836 529 \nQ 422 1150 422 2328 \nQ 422 3509 836 4129 \nQ 1250 4750 2034 4750 \nz\n\" transform=\"scale(0.015625)\"/>\n       </defs>\n       <use xlink:href=\"#DejaVuSans-2212\"/>\n       <use xlink:href=\"#DejaVuSans-31\" x=\"83.789062\"/>\n       <use xlink:href=\"#DejaVuSans-2e\" x=\"147.412109\"/>\n       <use xlink:href=\"#DejaVuSans-30\" x=\"179.199219\"/>\n      </g>\n     </g>\n    </g>\n    <g id=\"xtick_2\">\n     <g id=\"line2d_3\">\n      <path d=\"M 157.676848 465.838125 \nL 157.676848 22.318125 \n\" clip-path=\"url(#pc6a5cff864)\" style=\"fill: none; stroke: #b0b0b0; stroke-width: 0.8; stroke-linecap: square\"/>\n     </g>\n     <g id=\"line2d_4\">\n      <g>\n       <use xlink:href=\"#m6a9aec4eaf\" x=\"157.676848\" y=\"465.838125\" style=\"stroke: #000000; stroke-width: 0.8\"/>\n      </g>\n     </g>\n     <g id=\"text_2\">\n      <!-- −0.5 -->\n      <g transform=\"translate(145.535442 480.436562) scale(0.1 -0.1)\">\n       <defs>\n        <path id=\"DejaVuSans-35\" d=\"M 691 4666 \nL 3169 4666 \nL 3169 4134 \nL 1269 4134 \nL 1269 2991 \nQ 1406 3038 1543 3061 \nQ 1681 3084 1819 3084 \nQ 2600 3084 3056 2656 \nQ 3513 2228 3513 1497 \nQ 3513 744 3044 326 \nQ 2575 -91 1722 -91 \nQ 1428 -91 1123 -41 \nQ 819 9 494 109 \nL 494 744 \nQ 775 591 1075 516 \nQ 1375 441 1709 441 \nQ 2250 441 2565 725 \nQ 2881 1009 2881 1497 \nQ 2881 1984 2565 2268 \nQ 2250 2553 1709 2553 \nQ 1456 2553 1204 2497 \nQ 953 2441 691 2322 \nL 691 4666 \nz\n\" transform=\"scale(0.015625)\"/>\n       </defs>\n       <use xlink:href=\"#DejaVuSans-2212\"/>\n       <use xlink:href=\"#DejaVuSans-30\" x=\"83.789062\"/>\n       <use xlink:href=\"#DejaVuSans-2e\" x=\"147.412109\"/>\n       <use xlink:href=\"#DejaVuSans-35\" x=\"179.199219\"/>\n      </g>\n     </g>\n    </g>\n    <g id=\"xtick_3\">\n     <g id=\"line2d_5\">\n      <path d=\"M 250.720619 465.838125 \nL 250.720619 22.318125 \n\" clip-path=\"url(#pc6a5cff864)\" style=\"fill: none; stroke: #b0b0b0; stroke-width: 0.8; stroke-linecap: square\"/>\n     </g>\n     <g id=\"line2d_6\">\n      <g>\n       <use xlink:href=\"#m6a9aec4eaf\" x=\"250.720619\" y=\"465.838125\" style=\"stroke: #000000; stroke-width: 0.8\"/>\n      </g>\n     </g>\n     <g id=\"text_3\">\n      <!-- 0.0 -->\n      <g transform=\"translate(242.769057 480.436562) scale(0.1 -0.1)\">\n       <use xlink:href=\"#DejaVuSans-30\"/>\n       <use xlink:href=\"#DejaVuSans-2e\" x=\"63.623047\"/>\n       <use xlink:href=\"#DejaVuSans-30\" x=\"95.410156\"/>\n      </g>\n     </g>\n    </g>\n    <g id=\"xtick_4\">\n     <g id=\"line2d_7\">\n      <path d=\"M 343.76439 465.838125 \nL 343.76439 22.318125 \n\" clip-path=\"url(#pc6a5cff864)\" style=\"fill: none; stroke: #b0b0b0; stroke-width: 0.8; stroke-linecap: square\"/>\n     </g>\n     <g id=\"line2d_8\">\n      <g>\n       <use xlink:href=\"#m6a9aec4eaf\" x=\"343.76439\" y=\"465.838125\" style=\"stroke: #000000; stroke-width: 0.8\"/>\n      </g>\n     </g>\n     <g id=\"text_4\">\n      <!-- 0.5 -->\n      <g transform=\"translate(335.812828 480.436562) scale(0.1 -0.1)\">\n       <use xlink:href=\"#DejaVuSans-30\"/>\n       <use xlink:href=\"#DejaVuSans-2e\" x=\"63.623047\"/>\n       <use xlink:href=\"#DejaVuSans-35\" x=\"95.410156\"/>\n      </g>\n     </g>\n    </g>\n    <g id=\"xtick_5\">\n     <g id=\"line2d_9\">\n      <path d=\"M 436.808161 465.838125 \nL 436.808161 22.318125 \n\" clip-path=\"url(#pc6a5cff864)\" style=\"fill: none; stroke: #b0b0b0; stroke-width: 0.8; stroke-linecap: square\"/>\n     </g>\n     <g id=\"line2d_10\">\n      <g>\n       <use xlink:href=\"#m6a9aec4eaf\" x=\"436.808161\" y=\"465.838125\" style=\"stroke: #000000; stroke-width: 0.8\"/>\n      </g>\n     </g>\n     <g id=\"text_5\">\n      <!-- 1.0 -->\n      <g transform=\"translate(428.856599 480.436562) scale(0.1 -0.1)\">\n       <use xlink:href=\"#DejaVuSans-31\"/>\n       <use xlink:href=\"#DejaVuSans-2e\" x=\"63.623047\"/>\n       <use xlink:href=\"#DejaVuSans-30\" x=\"95.410156\"/>\n      </g>\n     </g>\n    </g>\n    <g id=\"text_6\">\n     <!-- Principal Component 1 -->\n     <g transform=\"translate(225.028906 494.114687) scale(0.1 -0.1)\">\n      <defs>\n       <path id=\"DejaVuSans-50\" d=\"M 1259 4147 \nL 1259 2394 \nL 2053 2394 \nQ 2494 2394 2734 2622 \nQ 2975 2850 2975 3272 \nQ 2975 3691 2734 3919 \nQ 2494 4147 2053 4147 \nL 1259 4147 \nz\nM 628 4666 \nL 2053 4666 \nQ 2838 4666 3239 4311 \nQ 3641 3956 3641 3272 \nQ 3641 2581 3239 2228 \nQ 2838 1875 2053 1875 \nL 1259 1875 \nL 1259 0 \nL 628 0 \nL 628 4666 \nz\n\" transform=\"scale(0.015625)\"/>\n       <path id=\"DejaVuSans-72\" d=\"M 2631 2963 \nQ 2534 3019 2420 3045 \nQ 2306 3072 2169 3072 \nQ 1681 3072 1420 2755 \nQ 1159 2438 1159 1844 \nL 1159 0 \nL 581 0 \nL 581 3500 \nL 1159 3500 \nL 1159 2956 \nQ 1341 3275 1631 3429 \nQ 1922 3584 2338 3584 \nQ 2397 3584 2469 3576 \nQ 2541 3569 2628 3553 \nL 2631 2963 \nz\n\" transform=\"scale(0.015625)\"/>\n       <path id=\"DejaVuSans-69\" d=\"M 603 3500 \nL 1178 3500 \nL 1178 0 \nL 603 0 \nL 603 3500 \nz\nM 603 4863 \nL 1178 4863 \nL 1178 4134 \nL 603 4134 \nL 603 4863 \nz\n\" transform=\"scale(0.015625)\"/>\n       <path id=\"DejaVuSans-6e\" d=\"M 3513 2113 \nL 3513 0 \nL 2938 0 \nL 2938 2094 \nQ 2938 2591 2744 2837 \nQ 2550 3084 2163 3084 \nQ 1697 3084 1428 2787 \nQ 1159 2491 1159 1978 \nL 1159 0 \nL 581 0 \nL 581 3500 \nL 1159 3500 \nL 1159 2956 \nQ 1366 3272 1645 3428 \nQ 1925 3584 2291 3584 \nQ 2894 3584 3203 3211 \nQ 3513 2838 3513 2113 \nz\n\" transform=\"scale(0.015625)\"/>\n       <path id=\"DejaVuSans-63\" d=\"M 3122 3366 \nL 3122 2828 \nQ 2878 2963 2633 3030 \nQ 2388 3097 2138 3097 \nQ 1578 3097 1268 2742 \nQ 959 2388 959 1747 \nQ 959 1106 1268 751 \nQ 1578 397 2138 397 \nQ 2388 397 2633 464 \nQ 2878 531 3122 666 \nL 3122 134 \nQ 2881 22 2623 -34 \nQ 2366 -91 2075 -91 \nQ 1284 -91 818 406 \nQ 353 903 353 1747 \nQ 353 2603 823 3093 \nQ 1294 3584 2113 3584 \nQ 2378 3584 2631 3529 \nQ 2884 3475 3122 3366 \nz\n\" transform=\"scale(0.015625)\"/>\n       <path id=\"DejaVuSans-70\" d=\"M 1159 525 \nL 1159 -1331 \nL 581 -1331 \nL 581 3500 \nL 1159 3500 \nL 1159 2969 \nQ 1341 3281 1617 3432 \nQ 1894 3584 2278 3584 \nQ 2916 3584 3314 3078 \nQ 3713 2572 3713 1747 \nQ 3713 922 3314 415 \nQ 2916 -91 2278 -91 \nQ 1894 -91 1617 61 \nQ 1341 213 1159 525 \nz\nM 3116 1747 \nQ 3116 2381 2855 2742 \nQ 2594 3103 2138 3103 \nQ 1681 3103 1420 2742 \nQ 1159 2381 1159 1747 \nQ 1159 1113 1420 752 \nQ 1681 391 2138 391 \nQ 2594 391 2855 752 \nQ 3116 1113 3116 1747 \nz\n\" transform=\"scale(0.015625)\"/>\n       <path id=\"DejaVuSans-61\" d=\"M 2194 1759 \nQ 1497 1759 1228 1600 \nQ 959 1441 959 1056 \nQ 959 750 1161 570 \nQ 1363 391 1709 391 \nQ 2188 391 2477 730 \nQ 2766 1069 2766 1631 \nL 2766 1759 \nL 2194 1759 \nz\nM 3341 1997 \nL 3341 0 \nL 2766 0 \nL 2766 531 \nQ 2569 213 2275 61 \nQ 1981 -91 1556 -91 \nQ 1019 -91 701 211 \nQ 384 513 384 1019 \nQ 384 1609 779 1909 \nQ 1175 2209 1959 2209 \nL 2766 2209 \nL 2766 2266 \nQ 2766 2663 2505 2880 \nQ 2244 3097 1772 3097 \nQ 1472 3097 1187 3025 \nQ 903 2953 641 2809 \nL 641 3341 \nQ 956 3463 1253 3523 \nQ 1550 3584 1831 3584 \nQ 2591 3584 2966 3190 \nQ 3341 2797 3341 1997 \nz\n\" transform=\"scale(0.015625)\"/>\n       <path id=\"DejaVuSans-6c\" d=\"M 603 4863 \nL 1178 4863 \nL 1178 0 \nL 603 0 \nL 603 4863 \nz\n\" transform=\"scale(0.015625)\"/>\n       <path id=\"DejaVuSans-20\" transform=\"scale(0.015625)\"/>\n       <path id=\"DejaVuSans-43\" d=\"M 4122 4306 \nL 4122 3641 \nQ 3803 3938 3442 4084 \nQ 3081 4231 2675 4231 \nQ 1875 4231 1450 3742 \nQ 1025 3253 1025 2328 \nQ 1025 1406 1450 917 \nQ 1875 428 2675 428 \nQ 3081 428 3442 575 \nQ 3803 722 4122 1019 \nL 4122 359 \nQ 3791 134 3420 21 \nQ 3050 -91 2638 -91 \nQ 1578 -91 968 557 \nQ 359 1206 359 2328 \nQ 359 3453 968 4101 \nQ 1578 4750 2638 4750 \nQ 3056 4750 3426 4639 \nQ 3797 4528 4122 4306 \nz\n\" transform=\"scale(0.015625)\"/>\n       <path id=\"DejaVuSans-6f\" d=\"M 1959 3097 \nQ 1497 3097 1228 2736 \nQ 959 2375 959 1747 \nQ 959 1119 1226 758 \nQ 1494 397 1959 397 \nQ 2419 397 2687 759 \nQ 2956 1122 2956 1747 \nQ 2956 2369 2687 2733 \nQ 2419 3097 1959 3097 \nz\nM 1959 3584 \nQ 2709 3584 3137 3096 \nQ 3566 2609 3566 1747 \nQ 3566 888 3137 398 \nQ 2709 -91 1959 -91 \nQ 1206 -91 779 398 \nQ 353 888 353 1747 \nQ 353 2609 779 3096 \nQ 1206 3584 1959 3584 \nz\n\" transform=\"scale(0.015625)\"/>\n       <path id=\"DejaVuSans-6d\" d=\"M 3328 2828 \nQ 3544 3216 3844 3400 \nQ 4144 3584 4550 3584 \nQ 5097 3584 5394 3201 \nQ 5691 2819 5691 2113 \nL 5691 0 \nL 5113 0 \nL 5113 2094 \nQ 5113 2597 4934 2840 \nQ 4756 3084 4391 3084 \nQ 3944 3084 3684 2787 \nQ 3425 2491 3425 1978 \nL 3425 0 \nL 2847 0 \nL 2847 2094 \nQ 2847 2600 2669 2842 \nQ 2491 3084 2119 3084 \nQ 1678 3084 1418 2786 \nQ 1159 2488 1159 1978 \nL 1159 0 \nL 581 0 \nL 581 3500 \nL 1159 3500 \nL 1159 2956 \nQ 1356 3278 1631 3431 \nQ 1906 3584 2284 3584 \nQ 2666 3584 2933 3390 \nQ 3200 3197 3328 2828 \nz\n\" transform=\"scale(0.015625)\"/>\n       <path id=\"DejaVuSans-65\" d=\"M 3597 1894 \nL 3597 1613 \nL 953 1613 \nQ 991 1019 1311 708 \nQ 1631 397 2203 397 \nQ 2534 397 2845 478 \nQ 3156 559 3463 722 \nL 3463 178 \nQ 3153 47 2828 -22 \nQ 2503 -91 2169 -91 \nQ 1331 -91 842 396 \nQ 353 884 353 1716 \nQ 353 2575 817 3079 \nQ 1281 3584 2069 3584 \nQ 2775 3584 3186 3129 \nQ 3597 2675 3597 1894 \nz\nM 3022 2063 \nQ 3016 2534 2758 2815 \nQ 2500 3097 2075 3097 \nQ 1594 3097 1305 2825 \nQ 1016 2553 972 2059 \nL 3022 2063 \nz\n\" transform=\"scale(0.015625)\"/>\n       <path id=\"DejaVuSans-74\" d=\"M 1172 4494 \nL 1172 3500 \nL 2356 3500 \nL 2356 3053 \nL 1172 3053 \nL 1172 1153 \nQ 1172 725 1289 603 \nQ 1406 481 1766 481 \nL 2356 481 \nL 2356 0 \nL 1766 0 \nQ 1100 0 847 248 \nQ 594 497 594 1153 \nL 594 3053 \nL 172 3053 \nL 172 3500 \nL 594 3500 \nL 594 4494 \nL 1172 4494 \nz\n\" transform=\"scale(0.015625)\"/>\n      </defs>\n      <use xlink:href=\"#DejaVuSans-50\"/>\n      <use xlink:href=\"#DejaVuSans-72\" x=\"58.552734\"/>\n      <use xlink:href=\"#DejaVuSans-69\" x=\"99.666016\"/>\n      <use xlink:href=\"#DejaVuSans-6e\" x=\"127.449219\"/>\n      <use xlink:href=\"#DejaVuSans-63\" x=\"190.828125\"/>\n      <use xlink:href=\"#DejaVuSans-69\" x=\"245.808594\"/>\n      <use xlink:href=\"#DejaVuSans-70\" x=\"273.591797\"/>\n      <use xlink:href=\"#DejaVuSans-61\" x=\"337.068359\"/>\n      <use xlink:href=\"#DejaVuSans-6c\" x=\"398.347656\"/>\n      <use xlink:href=\"#DejaVuSans-20\" x=\"426.130859\"/>\n      <use xlink:href=\"#DejaVuSans-43\" x=\"457.917969\"/>\n      <use xlink:href=\"#DejaVuSans-6f\" x=\"527.742188\"/>\n      <use xlink:href=\"#DejaVuSans-6d\" x=\"588.923828\"/>\n      <use xlink:href=\"#DejaVuSans-70\" x=\"686.335938\"/>\n      <use xlink:href=\"#DejaVuSans-6f\" x=\"749.8125\"/>\n      <use xlink:href=\"#DejaVuSans-6e\" x=\"810.994141\"/>\n      <use xlink:href=\"#DejaVuSans-65\" x=\"874.373047\"/>\n      <use xlink:href=\"#DejaVuSans-6e\" x=\"935.896484\"/>\n      <use xlink:href=\"#DejaVuSans-74\" x=\"999.275391\"/>\n      <use xlink:href=\"#DejaVuSans-20\" x=\"1038.484375\"/>\n      <use xlink:href=\"#DejaVuSans-31\" x=\"1070.271484\"/>\n     </g>\n    </g>\n   </g>\n   <g id=\"matplotlib.axis_2\">\n    <g id=\"ytick_1\">\n     <g id=\"line2d_11\">\n      <path d=\"M 58.523438 417.546547 \nL 504.923437 417.546547 \n\" clip-path=\"url(#pc6a5cff864)\" style=\"fill: none; stroke: #b0b0b0; stroke-width: 0.8; stroke-linecap: square\"/>\n     </g>\n     <g id=\"line2d_12\">\n      <defs>\n       <path id=\"m537f1eb473\" d=\"M 0 0 \nL -3.5 0 \n\" style=\"stroke: #000000; stroke-width: 0.8\"/>\n      </defs>\n      <g>\n       <use xlink:href=\"#m537f1eb473\" x=\"58.523438\" y=\"417.546547\" style=\"stroke: #000000; stroke-width: 0.8\"/>\n      </g>\n     </g>\n     <g id=\"text_7\">\n      <!-- −0.75 -->\n      <g transform=\"translate(20.878125 421.345766) scale(0.1 -0.1)\">\n       <defs>\n        <path id=\"DejaVuSans-37\" d=\"M 525 4666 \nL 3525 4666 \nL 3525 4397 \nL 1831 0 \nL 1172 0 \nL 2766 4134 \nL 525 4134 \nL 525 4666 \nz\n\" transform=\"scale(0.015625)\"/>\n       </defs>\n       <use xlink:href=\"#DejaVuSans-2212\"/>\n       <use xlink:href=\"#DejaVuSans-30\" x=\"83.789062\"/>\n       <use xlink:href=\"#DejaVuSans-2e\" x=\"147.412109\"/>\n       <use xlink:href=\"#DejaVuSans-37\" x=\"179.199219\"/>\n       <use xlink:href=\"#DejaVuSans-35\" x=\"242.822266\"/>\n      </g>\n     </g>\n    </g>\n    <g id=\"ytick_2\">\n     <g id=\"line2d_13\">\n      <path d=\"M 58.523438 363.847046 \nL 504.923437 363.847046 \n\" clip-path=\"url(#pc6a5cff864)\" style=\"fill: none; stroke: #b0b0b0; stroke-width: 0.8; stroke-linecap: square\"/>\n     </g>\n     <g id=\"line2d_14\">\n      <g>\n       <use xlink:href=\"#m537f1eb473\" x=\"58.523438\" y=\"363.847046\" style=\"stroke: #000000; stroke-width: 0.8\"/>\n      </g>\n     </g>\n     <g id=\"text_8\">\n      <!-- −0.50 -->\n      <g transform=\"translate(20.878125 367.646264) scale(0.1 -0.1)\">\n       <use xlink:href=\"#DejaVuSans-2212\"/>\n       <use xlink:href=\"#DejaVuSans-30\" x=\"83.789062\"/>\n       <use xlink:href=\"#DejaVuSans-2e\" x=\"147.412109\"/>\n       <use xlink:href=\"#DejaVuSans-35\" x=\"179.199219\"/>\n       <use xlink:href=\"#DejaVuSans-30\" x=\"242.822266\"/>\n      </g>\n     </g>\n    </g>\n    <g id=\"ytick_3\">\n     <g id=\"line2d_15\">\n      <path d=\"M 58.523438 310.147544 \nL 504.923437 310.147544 \n\" clip-path=\"url(#pc6a5cff864)\" style=\"fill: none; stroke: #b0b0b0; stroke-width: 0.8; stroke-linecap: square\"/>\n     </g>\n     <g id=\"line2d_16\">\n      <g>\n       <use xlink:href=\"#m537f1eb473\" x=\"58.523438\" y=\"310.147544\" style=\"stroke: #000000; stroke-width: 0.8\"/>\n      </g>\n     </g>\n     <g id=\"text_9\">\n      <!-- −0.25 -->\n      <g transform=\"translate(20.878125 313.946763) scale(0.1 -0.1)\">\n       <defs>\n        <path id=\"DejaVuSans-32\" d=\"M 1228 531 \nL 3431 531 \nL 3431 0 \nL 469 0 \nL 469 531 \nQ 828 903 1448 1529 \nQ 2069 2156 2228 2338 \nQ 2531 2678 2651 2914 \nQ 2772 3150 2772 3378 \nQ 2772 3750 2511 3984 \nQ 2250 4219 1831 4219 \nQ 1534 4219 1204 4116 \nQ 875 4013 500 3803 \nL 500 4441 \nQ 881 4594 1212 4672 \nQ 1544 4750 1819 4750 \nQ 2544 4750 2975 4387 \nQ 3406 4025 3406 3419 \nQ 3406 3131 3298 2873 \nQ 3191 2616 2906 2266 \nQ 2828 2175 2409 1742 \nQ 1991 1309 1228 531 \nz\n\" transform=\"scale(0.015625)\"/>\n       </defs>\n       <use xlink:href=\"#DejaVuSans-2212\"/>\n       <use xlink:href=\"#DejaVuSans-30\" x=\"83.789062\"/>\n       <use xlink:href=\"#DejaVuSans-2e\" x=\"147.412109\"/>\n       <use xlink:href=\"#DejaVuSans-32\" x=\"179.199219\"/>\n       <use xlink:href=\"#DejaVuSans-35\" x=\"242.822266\"/>\n      </g>\n     </g>\n    </g>\n    <g id=\"ytick_4\">\n     <g id=\"line2d_17\">\n      <path d=\"M 58.523438 256.448042 \nL 504.923437 256.448042 \n\" clip-path=\"url(#pc6a5cff864)\" style=\"fill: none; stroke: #b0b0b0; stroke-width: 0.8; stroke-linecap: square\"/>\n     </g>\n     <g id=\"line2d_18\">\n      <g>\n       <use xlink:href=\"#m537f1eb473\" x=\"58.523438\" y=\"256.448042\" style=\"stroke: #000000; stroke-width: 0.8\"/>\n      </g>\n     </g>\n     <g id=\"text_10\">\n      <!-- 0.00 -->\n      <g transform=\"translate(29.257813 260.247261) scale(0.1 -0.1)\">\n       <use xlink:href=\"#DejaVuSans-30\"/>\n       <use xlink:href=\"#DejaVuSans-2e\" x=\"63.623047\"/>\n       <use xlink:href=\"#DejaVuSans-30\" x=\"95.410156\"/>\n       <use xlink:href=\"#DejaVuSans-30\" x=\"159.033203\"/>\n      </g>\n     </g>\n    </g>\n    <g id=\"ytick_5\">\n     <g id=\"line2d_19\">\n      <path d=\"M 58.523438 202.748541 \nL 504.923437 202.748541 \n\" clip-path=\"url(#pc6a5cff864)\" style=\"fill: none; stroke: #b0b0b0; stroke-width: 0.8; stroke-linecap: square\"/>\n     </g>\n     <g id=\"line2d_20\">\n      <g>\n       <use xlink:href=\"#m537f1eb473\" x=\"58.523438\" y=\"202.748541\" style=\"stroke: #000000; stroke-width: 0.8\"/>\n      </g>\n     </g>\n     <g id=\"text_11\">\n      <!-- 0.25 -->\n      <g transform=\"translate(29.257813 206.54776) scale(0.1 -0.1)\">\n       <use xlink:href=\"#DejaVuSans-30\"/>\n       <use xlink:href=\"#DejaVuSans-2e\" x=\"63.623047\"/>\n       <use xlink:href=\"#DejaVuSans-32\" x=\"95.410156\"/>\n       <use xlink:href=\"#DejaVuSans-35\" x=\"159.033203\"/>\n      </g>\n     </g>\n    </g>\n    <g id=\"ytick_6\">\n     <g id=\"line2d_21\">\n      <path d=\"M 58.523438 149.049039 \nL 504.923437 149.049039 \n\" clip-path=\"url(#pc6a5cff864)\" style=\"fill: none; stroke: #b0b0b0; stroke-width: 0.8; stroke-linecap: square\"/>\n     </g>\n     <g id=\"line2d_22\">\n      <g>\n       <use xlink:href=\"#m537f1eb473\" x=\"58.523438\" y=\"149.049039\" style=\"stroke: #000000; stroke-width: 0.8\"/>\n      </g>\n     </g>\n     <g id=\"text_12\">\n      <!-- 0.50 -->\n      <g transform=\"translate(29.257813 152.848258) scale(0.1 -0.1)\">\n       <use xlink:href=\"#DejaVuSans-30\"/>\n       <use xlink:href=\"#DejaVuSans-2e\" x=\"63.623047\"/>\n       <use xlink:href=\"#DejaVuSans-35\" x=\"95.410156\"/>\n       <use xlink:href=\"#DejaVuSans-30\" x=\"159.033203\"/>\n      </g>\n     </g>\n    </g>\n    <g id=\"ytick_7\">\n     <g id=\"line2d_23\">\n      <path d=\"M 58.523438 95.349538 \nL 504.923437 95.349538 \n\" clip-path=\"url(#pc6a5cff864)\" style=\"fill: none; stroke: #b0b0b0; stroke-width: 0.8; stroke-linecap: square\"/>\n     </g>\n     <g id=\"line2d_24\">\n      <g>\n       <use xlink:href=\"#m537f1eb473\" x=\"58.523438\" y=\"95.349538\" style=\"stroke: #000000; stroke-width: 0.8\"/>\n      </g>\n     </g>\n     <g id=\"text_13\">\n      <!-- 0.75 -->\n      <g transform=\"translate(29.257813 99.148756) scale(0.1 -0.1)\">\n       <use xlink:href=\"#DejaVuSans-30\"/>\n       <use xlink:href=\"#DejaVuSans-2e\" x=\"63.623047\"/>\n       <use xlink:href=\"#DejaVuSans-37\" x=\"95.410156\"/>\n       <use xlink:href=\"#DejaVuSans-35\" x=\"159.033203\"/>\n      </g>\n     </g>\n    </g>\n    <g id=\"ytick_8\">\n     <g id=\"line2d_25\">\n      <path d=\"M 58.523438 41.650036 \nL 504.923437 41.650036 \n\" clip-path=\"url(#pc6a5cff864)\" style=\"fill: none; stroke: #b0b0b0; stroke-width: 0.8; stroke-linecap: square\"/>\n     </g>\n     <g id=\"line2d_26\">\n      <g>\n       <use xlink:href=\"#m537f1eb473\" x=\"58.523438\" y=\"41.650036\" style=\"stroke: #000000; stroke-width: 0.8\"/>\n      </g>\n     </g>\n     <g id=\"text_14\">\n      <!-- 1.00 -->\n      <g transform=\"translate(29.257813 45.449255) scale(0.1 -0.1)\">\n       <use xlink:href=\"#DejaVuSans-31\"/>\n       <use xlink:href=\"#DejaVuSans-2e\" x=\"63.623047\"/>\n       <use xlink:href=\"#DejaVuSans-30\" x=\"95.410156\"/>\n       <use xlink:href=\"#DejaVuSans-30\" x=\"159.033203\"/>\n      </g>\n     </g>\n    </g>\n    <g id=\"text_15\">\n     <!-- Principal Component 2 -->\n     <g transform=\"translate(14.798438 300.772656) rotate(-90) scale(0.1 -0.1)\">\n      <use xlink:href=\"#DejaVuSans-50\"/>\n      <use xlink:href=\"#DejaVuSans-72\" x=\"58.552734\"/>\n      <use xlink:href=\"#DejaVuSans-69\" x=\"99.666016\"/>\n      <use xlink:href=\"#DejaVuSans-6e\" x=\"127.449219\"/>\n      <use xlink:href=\"#DejaVuSans-63\" x=\"190.828125\"/>\n      <use xlink:href=\"#DejaVuSans-69\" x=\"245.808594\"/>\n      <use xlink:href=\"#DejaVuSans-70\" x=\"273.591797\"/>\n      <use xlink:href=\"#DejaVuSans-61\" x=\"337.068359\"/>\n      <use xlink:href=\"#DejaVuSans-6c\" x=\"398.347656\"/>\n      <use xlink:href=\"#DejaVuSans-20\" x=\"426.130859\"/>\n      <use xlink:href=\"#DejaVuSans-43\" x=\"457.917969\"/>\n      <use xlink:href=\"#DejaVuSans-6f\" x=\"527.742188\"/>\n      <use xlink:href=\"#DejaVuSans-6d\" x=\"588.923828\"/>\n      <use xlink:href=\"#DejaVuSans-70\" x=\"686.335938\"/>\n      <use xlink:href=\"#DejaVuSans-6f\" x=\"749.8125\"/>\n      <use xlink:href=\"#DejaVuSans-6e\" x=\"810.994141\"/>\n      <use xlink:href=\"#DejaVuSans-65\" x=\"874.373047\"/>\n      <use xlink:href=\"#DejaVuSans-6e\" x=\"935.896484\"/>\n      <use xlink:href=\"#DejaVuSans-74\" x=\"999.275391\"/>\n      <use xlink:href=\"#DejaVuSans-20\" x=\"1038.484375\"/>\n      <use xlink:href=\"#DejaVuSans-32\" x=\"1070.271484\"/>\n     </g>\n    </g>\n   </g>\n   <g id=\"patch_3\">\n    <path d=\"M 58.523438 465.838125 \nL 58.523438 22.318125 \n\" style=\"fill: none; stroke: #000000; stroke-width: 0.8; stroke-linejoin: miter; stroke-linecap: square\"/>\n   </g>\n   <g id=\"patch_4\">\n    <path d=\"M 504.923437 465.838125 \nL 504.923437 22.318125 \n\" style=\"fill: none; stroke: #000000; stroke-width: 0.8; stroke-linejoin: miter; stroke-linecap: square\"/>\n   </g>\n   <g id=\"patch_5\">\n    <path d=\"M 58.523438 465.838125 \nL 504.923437 465.838125 \n\" style=\"fill: none; stroke: #000000; stroke-width: 0.8; stroke-linejoin: miter; stroke-linecap: square\"/>\n   </g>\n   <g id=\"patch_6\">\n    <path d=\"M 58.523438 22.318125 \nL 504.923437 22.318125 \n\" style=\"fill: none; stroke: #000000; stroke-width: 0.8; stroke-linejoin: miter; stroke-linecap: square\"/>\n   </g>\n   <g id=\"text_16\">\n    <!-- prince -->\n    <g transform=\"translate(237.030662 341.469016) scale(0.09 -0.09)\">\n     <use xlink:href=\"#DejaVuSans-70\"/>\n     <use xlink:href=\"#DejaVuSans-72\" x=\"63.476562\"/>\n     <use xlink:href=\"#DejaVuSans-69\" x=\"104.589844\"/>\n     <use xlink:href=\"#DejaVuSans-6e\" x=\"132.373047\"/>\n     <use xlink:href=\"#DejaVuSans-63\" x=\"195.751953\"/>\n     <use xlink:href=\"#DejaVuSans-65\" x=\"250.732422\"/>\n    </g>\n   </g>\n   <g id=\"text_17\">\n    <!-- chapter -->\n    <g transform=\"translate(484.632528 323.110549) scale(0.09 -0.09)\">\n     <defs>\n      <path id=\"DejaVuSans-68\" d=\"M 3513 2113 \nL 3513 0 \nL 2938 0 \nL 2938 2094 \nQ 2938 2591 2744 2837 \nQ 2550 3084 2163 3084 \nQ 1697 3084 1428 2787 \nQ 1159 2491 1159 1978 \nL 1159 0 \nL 581 0 \nL 581 4863 \nL 1159 4863 \nL 1159 2956 \nQ 1366 3272 1645 3428 \nQ 1925 3584 2291 3584 \nQ 2894 3584 3203 3211 \nQ 3513 2838 3513 2113 \nz\n\" transform=\"scale(0.015625)\"/>\n     </defs>\n     <use xlink:href=\"#DejaVuSans-63\"/>\n     <use xlink:href=\"#DejaVuSans-68\" x=\"54.980469\"/>\n     <use xlink:href=\"#DejaVuSans-61\" x=\"118.359375\"/>\n     <use xlink:href=\"#DejaVuSans-70\" x=\"179.638672\"/>\n     <use xlink:href=\"#DejaVuSans-74\" x=\"243.115234\"/>\n     <use xlink:href=\"#DejaVuSans-65\" x=\"282.324219\"/>\n     <use xlink:href=\"#DejaVuSans-72\" x=\"343.847656\"/>\n    </g>\n   </g>\n   <g id=\"text_18\">\n    <!-- princess -->\n    <g transform=\"translate(275.6318 223.285546) scale(0.09 -0.09)\">\n     <defs>\n      <path id=\"DejaVuSans-73\" d=\"M 2834 3397 \nL 2834 2853 \nQ 2591 2978 2328 3040 \nQ 2066 3103 1784 3103 \nQ 1356 3103 1142 2972 \nQ 928 2841 928 2578 \nQ 928 2378 1081 2264 \nQ 1234 2150 1697 2047 \nL 1894 2003 \nQ 2506 1872 2764 1633 \nQ 3022 1394 3022 966 \nQ 3022 478 2636 193 \nQ 2250 -91 1575 -91 \nQ 1294 -91 989 -36 \nQ 684 19 347 128 \nL 347 722 \nQ 666 556 975 473 \nQ 1284 391 1588 391 \nQ 1994 391 2212 530 \nQ 2431 669 2431 922 \nQ 2431 1156 2273 1281 \nQ 2116 1406 1581 1522 \nL 1381 1569 \nQ 847 1681 609 1914 \nQ 372 2147 372 2553 \nQ 372 3047 722 3315 \nQ 1072 3584 1716 3584 \nQ 2034 3584 2315 3537 \nQ 2597 3491 2834 3397 \nz\n\" transform=\"scale(0.015625)\"/>\n     </defs>\n     <use xlink:href=\"#DejaVuSans-70\"/>\n     <use xlink:href=\"#DejaVuSans-72\" x=\"63.476562\"/>\n     <use xlink:href=\"#DejaVuSans-69\" x=\"104.589844\"/>\n     <use xlink:href=\"#DejaVuSans-6e\" x=\"132.373047\"/>\n     <use xlink:href=\"#DejaVuSans-63\" x=\"195.751953\"/>\n     <use xlink:href=\"#DejaVuSans-65\" x=\"250.732422\"/>\n     <use xlink:href=\"#DejaVuSans-73\" x=\"312.255859\"/>\n     <use xlink:href=\"#DejaVuSans-73\" x=\"364.355469\"/>\n    </g>\n   </g>\n   <g id=\"text_19\">\n    <!-- andrew -->\n    <g transform=\"translate(355.784385 292.482588) scale(0.09 -0.09)\">\n     <defs>\n      <path id=\"DejaVuSans-64\" d=\"M 2906 2969 \nL 2906 4863 \nL 3481 4863 \nL 3481 0 \nL 2906 0 \nL 2906 525 \nQ 2725 213 2448 61 \nQ 2172 -91 1784 -91 \nQ 1150 -91 751 415 \nQ 353 922 353 1747 \nQ 353 2572 751 3078 \nQ 1150 3584 1784 3584 \nQ 2172 3584 2448 3432 \nQ 2725 3281 2906 2969 \nz\nM 947 1747 \nQ 947 1113 1208 752 \nQ 1469 391 1925 391 \nQ 2381 391 2643 752 \nQ 2906 1113 2906 1747 \nQ 2906 2381 2643 2742 \nQ 2381 3103 1925 3103 \nQ 1469 3103 1208 2742 \nQ 947 2381 947 1747 \nz\n\" transform=\"scale(0.015625)\"/>\n      <path id=\"DejaVuSans-77\" d=\"M 269 3500 \nL 844 3500 \nL 1563 769 \nL 2278 3500 \nL 2956 3500 \nL 3675 769 \nL 4391 3500 \nL 4966 3500 \nL 4050 0 \nL 3372 0 \nL 2619 2869 \nL 1863 0 \nL 1184 0 \nL 269 3500 \nz\n\" transform=\"scale(0.015625)\"/>\n     </defs>\n     <use xlink:href=\"#DejaVuSans-61\"/>\n     <use xlink:href=\"#DejaVuSans-6e\" x=\"61.279297\"/>\n     <use xlink:href=\"#DejaVuSans-64\" x=\"124.658203\"/>\n     <use xlink:href=\"#DejaVuSans-72\" x=\"188.134766\"/>\n     <use xlink:href=\"#DejaVuSans-65\" x=\"226.998047\"/>\n     <use xlink:href=\"#DejaVuSans-77\" x=\"288.521484\"/>\n    </g>\n   </g>\n   <g id=\"text_20\">\n    <!-- pierre -->\n    <g transform=\"translate(306.858607 258.322234) scale(0.09 -0.09)\">\n     <use xlink:href=\"#DejaVuSans-70\"/>\n     <use xlink:href=\"#DejaVuSans-69\" x=\"63.476562\"/>\n     <use xlink:href=\"#DejaVuSans-65\" x=\"91.259766\"/>\n     <use xlink:href=\"#DejaVuSans-72\" x=\"152.783203\"/>\n     <use xlink:href=\"#DejaVuSans-72\" x=\"192.146484\"/>\n     <use xlink:href=\"#DejaVuSans-65\" x=\"231.009766\"/>\n    </g>\n   </g>\n   <g id=\"text_21\">\n    <!-- father -->\n    <g transform=\"translate(78.814347 339.741475) scale(0.09 -0.09)\">\n     <defs>\n      <path id=\"DejaVuSans-66\" d=\"M 2375 4863 \nL 2375 4384 \nL 1825 4384 \nQ 1516 4384 1395 4259 \nQ 1275 4134 1275 3809 \nL 1275 3500 \nL 2222 3500 \nL 2222 3053 \nL 1275 3053 \nL 1275 0 \nL 697 0 \nL 697 3053 \nL 147 3053 \nL 147 3500 \nL 697 3500 \nL 697 3744 \nQ 697 4328 969 4595 \nQ 1241 4863 1831 4863 \nL 2375 4863 \nz\n\" transform=\"scale(0.015625)\"/>\n     </defs>\n     <use xlink:href=\"#DejaVuSans-66\"/>\n     <use xlink:href=\"#DejaVuSans-61\" x=\"35.205078\"/>\n     <use xlink:href=\"#DejaVuSans-74\" x=\"96.484375\"/>\n     <use xlink:href=\"#DejaVuSans-68\" x=\"135.693359\"/>\n     <use xlink:href=\"#DejaVuSans-65\" x=\"199.072266\"/>\n     <use xlink:href=\"#DejaVuSans-72\" x=\"260.595703\"/>\n    </g>\n   </g>\n   <g id=\"text_22\">\n    <!-- commander -->\n    <g transform=\"translate(353.240559 203.17644) scale(0.09 -0.09)\">\n     <use xlink:href=\"#DejaVuSans-63\"/>\n     <use xlink:href=\"#DejaVuSans-6f\" x=\"54.980469\"/>\n     <use xlink:href=\"#DejaVuSans-6d\" x=\"116.162109\"/>\n     <use xlink:href=\"#DejaVuSans-6d\" x=\"213.574219\"/>\n     <use xlink:href=\"#DejaVuSans-61\" x=\"310.986328\"/>\n     <use xlink:href=\"#DejaVuSans-6e\" x=\"372.265625\"/>\n     <use xlink:href=\"#DejaVuSans-64\" x=\"435.644531\"/>\n     <use xlink:href=\"#DejaVuSans-65\" x=\"499.121094\"/>\n     <use xlink:href=\"#DejaVuSans-72\" x=\"560.644531\"/>\n    </g>\n   </g>\n   <g id=\"text_23\">\n    <!-- son -->\n    <g transform=\"translate(332.063725 268.599352) scale(0.09 -0.09)\">\n     <use xlink:href=\"#DejaVuSans-73\"/>\n     <use xlink:href=\"#DejaVuSans-6f\" x=\"52.099609\"/>\n     <use xlink:href=\"#DejaVuSans-6e\" x=\"113.28125\"/>\n    </g>\n   </g>\n   <g id=\"text_24\">\n    <!-- officer -->\n    <g transform=\"translate(206.222409 164.423129) scale(0.09 -0.09)\">\n     <use xlink:href=\"#DejaVuSans-6f\"/>\n     <use xlink:href=\"#DejaVuSans-66\" x=\"61.181641\"/>\n     <use xlink:href=\"#DejaVuSans-66\" x=\"96.386719\"/>\n     <use xlink:href=\"#DejaVuSans-69\" x=\"131.591797\"/>\n     <use xlink:href=\"#DejaVuSans-63\" x=\"159.375\"/>\n     <use xlink:href=\"#DejaVuSans-65\" x=\"214.355469\"/>\n     <use xlink:href=\"#DejaVuSans-72\" x=\"275.878906\"/>\n    </g>\n   </g>\n   <g id=\"text_25\">\n    <!-- bridge -->\n    <g transform=\"translate(239.437926 242.36542) scale(0.09 -0.09)\">\n     <defs>\n      <path id=\"DejaVuSans-62\" d=\"M 3116 1747 \nQ 3116 2381 2855 2742 \nQ 2594 3103 2138 3103 \nQ 1681 3103 1420 2742 \nQ 1159 2381 1159 1747 \nQ 1159 1113 1420 752 \nQ 1681 391 2138 391 \nQ 2594 391 2855 752 \nQ 3116 1113 3116 1747 \nz\nM 1159 2969 \nQ 1341 3281 1617 3432 \nQ 1894 3584 2278 3584 \nQ 2916 3584 3314 3078 \nQ 3713 2572 3713 1747 \nQ 3713 922 3314 415 \nQ 2916 -91 2278 -91 \nQ 1894 -91 1617 61 \nQ 1341 213 1159 525 \nL 1159 0 \nL 581 0 \nL 581 4863 \nL 1159 4863 \nL 1159 2969 \nz\n\" transform=\"scale(0.015625)\"/>\n      <path id=\"DejaVuSans-67\" d=\"M 2906 1791 \nQ 2906 2416 2648 2759 \nQ 2391 3103 1925 3103 \nQ 1463 3103 1205 2759 \nQ 947 2416 947 1791 \nQ 947 1169 1205 825 \nQ 1463 481 1925 481 \nQ 2391 481 2648 825 \nQ 2906 1169 2906 1791 \nz\nM 3481 434 \nQ 3481 -459 3084 -895 \nQ 2688 -1331 1869 -1331 \nQ 1566 -1331 1297 -1286 \nQ 1028 -1241 775 -1147 \nL 775 -588 \nQ 1028 -725 1275 -790 \nQ 1522 -856 1778 -856 \nQ 2344 -856 2625 -561 \nQ 2906 -266 2906 331 \nL 2906 616 \nQ 2728 306 2450 153 \nQ 2172 0 1784 0 \nQ 1141 0 747 490 \nQ 353 981 353 1791 \nQ 353 2603 747 3093 \nQ 1141 3584 1784 3584 \nQ 2172 3584 2450 3431 \nQ 2728 3278 2906 2969 \nL 2906 3500 \nL 3481 3500 \nL 3481 434 \nz\n\" transform=\"scale(0.015625)\"/>\n     </defs>\n     <use xlink:href=\"#DejaVuSans-62\"/>\n     <use xlink:href=\"#DejaVuSans-72\" x=\"63.476562\"/>\n     <use xlink:href=\"#DejaVuSans-69\" x=\"104.589844\"/>\n     <use xlink:href=\"#DejaVuSans-64\" x=\"132.373047\"/>\n     <use xlink:href=\"#DejaVuSans-67\" x=\"195.849609\"/>\n     <use xlink:href=\"#DejaVuSans-65\" x=\"259.326172\"/>\n    </g>\n   </g>\n   <g id=\"text_26\">\n    <!-- regiment -->\n    <g transform=\"translate(201.959996 177.961756) scale(0.09 -0.09)\">\n     <use xlink:href=\"#DejaVuSans-72\"/>\n     <use xlink:href=\"#DejaVuSans-65\" x=\"38.863281\"/>\n     <use xlink:href=\"#DejaVuSans-67\" x=\"100.386719\"/>\n     <use xlink:href=\"#DejaVuSans-69\" x=\"163.863281\"/>\n     <use xlink:href=\"#DejaVuSans-6d\" x=\"191.646484\"/>\n     <use xlink:href=\"#DejaVuSans-65\" x=\"289.058594\"/>\n     <use xlink:href=\"#DejaVuSans-6e\" x=\"350.582031\"/>\n     <use xlink:href=\"#DejaVuSans-74\" x=\"413.960938\"/>\n    </g>\n   </g>\n   <g id=\"text_27\">\n    <!-- petersburg -->\n    <g transform=\"translate(376.732157 357.326893) scale(0.09 -0.09)\">\n     <defs>\n      <path id=\"DejaVuSans-75\" d=\"M 544 1381 \nL 544 3500 \nL 1119 3500 \nL 1119 1403 \nQ 1119 906 1312 657 \nQ 1506 409 1894 409 \nQ 2359 409 2629 706 \nQ 2900 1003 2900 1516 \nL 2900 3500 \nL 3475 3500 \nL 3475 0 \nL 2900 0 \nL 2900 538 \nQ 2691 219 2414 64 \nQ 2138 -91 1772 -91 \nQ 1169 -91 856 284 \nQ 544 659 544 1381 \nz\nM 1991 3584 \nL 1991 3584 \nz\n\" transform=\"scale(0.015625)\"/>\n     </defs>\n     <use xlink:href=\"#DejaVuSans-70\"/>\n     <use xlink:href=\"#DejaVuSans-65\" x=\"63.476562\"/>\n     <use xlink:href=\"#DejaVuSans-74\" x=\"125\"/>\n     <use xlink:href=\"#DejaVuSans-65\" x=\"164.208984\"/>\n     <use xlink:href=\"#DejaVuSans-72\" x=\"225.732422\"/>\n     <use xlink:href=\"#DejaVuSans-73\" x=\"266.845703\"/>\n     <use xlink:href=\"#DejaVuSans-62\" x=\"318.945312\"/>\n     <use xlink:href=\"#DejaVuSans-75\" x=\"382.421875\"/>\n     <use xlink:href=\"#DejaVuSans-72\" x=\"445.800781\"/>\n     <use xlink:href=\"#DejaVuSans-67\" x=\"485.164062\"/>\n    </g>\n   </g>\n   <g id=\"text_28\">\n    <!-- emperor -->\n    <g transform=\"translate(296.391464 119.753938) scale(0.09 -0.09)\">\n     <use xlink:href=\"#DejaVuSans-65\"/>\n     <use xlink:href=\"#DejaVuSans-6d\" x=\"61.523438\"/>\n     <use xlink:href=\"#DejaVuSans-70\" x=\"158.935547\"/>\n     <use xlink:href=\"#DejaVuSans-65\" x=\"222.412109\"/>\n     <use xlink:href=\"#DejaVuSans-72\" x=\"283.935547\"/>\n     <use xlink:href=\"#DejaVuSans-6f\" x=\"322.798828\"/>\n     <use xlink:href=\"#DejaVuSans-72\" x=\"383.980469\"/>\n    </g>\n   </g>\n   <g id=\"text_29\">\n    <!-- conversation -->\n    <g transform=\"translate(196.559191 445.678125) scale(0.09 -0.09)\">\n     <defs>\n      <path id=\"DejaVuSans-76\" d=\"M 191 3500 \nL 800 3500 \nL 1894 563 \nL 2988 3500 \nL 3597 3500 \nL 2284 0 \nL 1503 0 \nL 191 3500 \nz\n\" transform=\"scale(0.015625)\"/>\n     </defs>\n     <use xlink:href=\"#DejaVuSans-63\"/>\n     <use xlink:href=\"#DejaVuSans-6f\" x=\"54.980469\"/>\n     <use xlink:href=\"#DejaVuSans-6e\" x=\"116.162109\"/>\n     <use xlink:href=\"#DejaVuSans-76\" x=\"179.541016\"/>\n     <use xlink:href=\"#DejaVuSans-65\" x=\"238.720703\"/>\n     <use xlink:href=\"#DejaVuSans-72\" x=\"300.244141\"/>\n     <use xlink:href=\"#DejaVuSans-73\" x=\"341.357422\"/>\n     <use xlink:href=\"#DejaVuSans-61\" x=\"393.457031\"/>\n     <use xlink:href=\"#DejaVuSans-74\" x=\"454.736328\"/>\n     <use xlink:href=\"#DejaVuSans-69\" x=\"493.945312\"/>\n     <use xlink:href=\"#DejaVuSans-6f\" x=\"521.728516\"/>\n     <use xlink:href=\"#DejaVuSans-6e\" x=\"582.910156\"/>\n    </g>\n   </g>\n   <g id=\"text_30\">\n    <!-- colonel -->\n    <g transform=\"translate(171.811841 94.94014) scale(0.09 -0.09)\">\n     <use xlink:href=\"#DejaVuSans-63\"/>\n     <use xlink:href=\"#DejaVuSans-6f\" x=\"54.980469\"/>\n     <use xlink:href=\"#DejaVuSans-6c\" x=\"116.162109\"/>\n     <use xlink:href=\"#DejaVuSans-6f\" x=\"143.945312\"/>\n     <use xlink:href=\"#DejaVuSans-6e\" x=\"205.126953\"/>\n     <use xlink:href=\"#DejaVuSans-65\" x=\"268.505859\"/>\n     <use xlink:href=\"#DejaVuSans-6c\" x=\"330.029297\"/>\n    </g>\n   </g>\n   <g id=\"text_31\">\n    <!-- carriage -->\n    <g transform=\"translate(198.364817 385.990753) scale(0.09 -0.09)\">\n     <use xlink:href=\"#DejaVuSans-63\"/>\n     <use xlink:href=\"#DejaVuSans-61\" x=\"54.980469\"/>\n     <use xlink:href=\"#DejaVuSans-72\" x=\"116.259766\"/>\n     <use xlink:href=\"#DejaVuSans-72\" x=\"155.623047\"/>\n     <use xlink:href=\"#DejaVuSans-69\" x=\"196.736328\"/>\n     <use xlink:href=\"#DejaVuSans-61\" x=\"224.519531\"/>\n     <use xlink:href=\"#DejaVuSans-67\" x=\"285.798828\"/>\n     <use xlink:href=\"#DejaVuSans-65\" x=\"349.275391\"/>\n    </g>\n   </g>\n   <g id=\"text_32\">\n    <!-- anatole -->\n    <g transform=\"translate(227.884577 326.246346) scale(0.09 -0.09)\">\n     <use xlink:href=\"#DejaVuSans-61\"/>\n     <use xlink:href=\"#DejaVuSans-6e\" x=\"61.279297\"/>\n     <use xlink:href=\"#DejaVuSans-61\" x=\"124.658203\"/>\n     <use xlink:href=\"#DejaVuSans-74\" x=\"185.9375\"/>\n     <use xlink:href=\"#DejaVuSans-6f\" x=\"225.146484\"/>\n     <use xlink:href=\"#DejaVuSans-6c\" x=\"286.328125\"/>\n     <use xlink:href=\"#DejaVuSans-65\" x=\"314.111328\"/>\n    </g>\n   </g>\n   <g id=\"text_33\">\n    <!-- army -->\n    <g transform=\"translate(226.769812 42.478125) scale(0.09 -0.09)\">\n     <defs>\n      <path id=\"DejaVuSans-79\" d=\"M 2059 -325 \nQ 1816 -950 1584 -1140 \nQ 1353 -1331 966 -1331 \nL 506 -1331 \nL 506 -850 \nL 844 -850 \nQ 1081 -850 1212 -737 \nQ 1344 -625 1503 -206 \nL 1606 56 \nL 191 3500 \nL 800 3500 \nL 1894 763 \nL 2988 3500 \nL 3597 3500 \nL 2059 -325 \nz\n\" transform=\"scale(0.015625)\"/>\n     </defs>\n     <use xlink:href=\"#DejaVuSans-61\"/>\n     <use xlink:href=\"#DejaVuSans-72\" x=\"61.279297\"/>\n     <use xlink:href=\"#DejaVuSans-6d\" x=\"100.642578\"/>\n     <use xlink:href=\"#DejaVuSans-79\" x=\"198.054688\"/>\n    </g>\n   </g>\n   <g id=\"text_34\">\n    <!-- mother -->\n    <g transform=\"translate(154.358656 361.829142) scale(0.09 -0.09)\">\n     <use xlink:href=\"#DejaVuSans-6d\"/>\n     <use xlink:href=\"#DejaVuSans-6f\" x=\"97.412109\"/>\n     <use xlink:href=\"#DejaVuSans-74\" x=\"158.59375\"/>\n     <use xlink:href=\"#DejaVuSans-68\" x=\"197.802734\"/>\n     <use xlink:href=\"#DejaVuSans-65\" x=\"261.181641\"/>\n     <use xlink:href=\"#DejaVuSans-72\" x=\"322.705078\"/>\n    </g>\n   </g>\n   <g id=\"text_35\">\n    <!-- daughter -->\n    <g transform=\"translate(99.067572 275.873154) scale(0.09 -0.09)\">\n     <use xlink:href=\"#DejaVuSans-64\"/>\n     <use xlink:href=\"#DejaVuSans-61\" x=\"63.476562\"/>\n     <use xlink:href=\"#DejaVuSans-75\" x=\"124.755859\"/>\n     <use xlink:href=\"#DejaVuSans-67\" x=\"188.134766\"/>\n     <use xlink:href=\"#DejaVuSans-68\" x=\"251.611328\"/>\n     <use xlink:href=\"#DejaVuSans-74\" x=\"314.990234\"/>\n     <use xlink:href=\"#DejaVuSans-65\" x=\"354.199219\"/>\n     <use xlink:href=\"#DejaVuSans-72\" x=\"415.722656\"/>\n    </g>\n   </g>\n   <g id=\"text_36\">\n    <!-- visitor -->\n    <g transform=\"translate(245.515973 140.354771) scale(0.09 -0.09)\">\n     <use xlink:href=\"#DejaVuSans-76\"/>\n     <use xlink:href=\"#DejaVuSans-69\" x=\"59.179688\"/>\n     <use xlink:href=\"#DejaVuSans-73\" x=\"86.962891\"/>\n     <use xlink:href=\"#DejaVuSans-69\" x=\"139.0625\"/>\n     <use xlink:href=\"#DejaVuSans-74\" x=\"166.845703\"/>\n     <use xlink:href=\"#DejaVuSans-6f\" x=\"206.054688\"/>\n     <use xlink:href=\"#DejaVuSans-72\" x=\"267.236328\"/>\n    </g>\n   </g>\n   <g id=\"text_37\">\n    <!-- Word Embeddings Visualization (PCA) -->\n    <g transform=\"translate(168.934687 16.318125) scale(0.12 -0.12)\">\n     <defs>\n      <path id=\"DejaVuSans-57\" d=\"M 213 4666 \nL 850 4666 \nL 1831 722 \nL 2809 4666 \nL 3519 4666 \nL 4500 722 \nL 5478 4666 \nL 6119 4666 \nL 4947 0 \nL 4153 0 \nL 3169 4050 \nL 2175 0 \nL 1381 0 \nL 213 4666 \nz\n\" transform=\"scale(0.015625)\"/>\n      <path id=\"DejaVuSans-45\" d=\"M 628 4666 \nL 3578 4666 \nL 3578 4134 \nL 1259 4134 \nL 1259 2753 \nL 3481 2753 \nL 3481 2222 \nL 1259 2222 \nL 1259 531 \nL 3634 531 \nL 3634 0 \nL 628 0 \nL 628 4666 \nz\n\" transform=\"scale(0.015625)\"/>\n      <path id=\"DejaVuSans-56\" d=\"M 1831 0 \nL 50 4666 \nL 709 4666 \nL 2188 738 \nL 3669 4666 \nL 4325 4666 \nL 2547 0 \nL 1831 0 \nz\n\" transform=\"scale(0.015625)\"/>\n      <path id=\"DejaVuSans-7a\" d=\"M 353 3500 \nL 3084 3500 \nL 3084 2975 \nL 922 459 \nL 3084 459 \nL 3084 0 \nL 275 0 \nL 275 525 \nL 2438 3041 \nL 353 3041 \nL 353 3500 \nz\n\" transform=\"scale(0.015625)\"/>\n      <path id=\"DejaVuSans-28\" d=\"M 1984 4856 \nQ 1566 4138 1362 3434 \nQ 1159 2731 1159 2009 \nQ 1159 1288 1364 580 \nQ 1569 -128 1984 -844 \nL 1484 -844 \nQ 1016 -109 783 600 \nQ 550 1309 550 2009 \nQ 550 2706 781 3412 \nQ 1013 4119 1484 4856 \nL 1984 4856 \nz\n\" transform=\"scale(0.015625)\"/>\n      <path id=\"DejaVuSans-41\" d=\"M 2188 4044 \nL 1331 1722 \nL 3047 1722 \nL 2188 4044 \nz\nM 1831 4666 \nL 2547 4666 \nL 4325 0 \nL 3669 0 \nL 3244 1197 \nL 1141 1197 \nL 716 0 \nL 50 0 \nL 1831 4666 \nz\n\" transform=\"scale(0.015625)\"/>\n      <path id=\"DejaVuSans-29\" d=\"M 513 4856 \nL 1013 4856 \nQ 1481 4119 1714 3412 \nQ 1947 2706 1947 2009 \nQ 1947 1309 1714 600 \nQ 1481 -109 1013 -844 \nL 513 -844 \nQ 928 -128 1133 580 \nQ 1338 1288 1338 2009 \nQ 1338 2731 1133 3434 \nQ 928 4138 513 4856 \nz\n\" transform=\"scale(0.015625)\"/>\n     </defs>\n     <use xlink:href=\"#DejaVuSans-57\"/>\n     <use xlink:href=\"#DejaVuSans-6f\" x=\"93.001953\"/>\n     <use xlink:href=\"#DejaVuSans-72\" x=\"154.183594\"/>\n     <use xlink:href=\"#DejaVuSans-64\" x=\"193.546875\"/>\n     <use xlink:href=\"#DejaVuSans-20\" x=\"257.023438\"/>\n     <use xlink:href=\"#DejaVuSans-45\" x=\"288.810547\"/>\n     <use xlink:href=\"#DejaVuSans-6d\" x=\"351.994141\"/>\n     <use xlink:href=\"#DejaVuSans-62\" x=\"449.40625\"/>\n     <use xlink:href=\"#DejaVuSans-65\" x=\"512.882812\"/>\n     <use xlink:href=\"#DejaVuSans-64\" x=\"574.40625\"/>\n     <use xlink:href=\"#DejaVuSans-64\" x=\"637.882812\"/>\n     <use xlink:href=\"#DejaVuSans-69\" x=\"701.359375\"/>\n     <use xlink:href=\"#DejaVuSans-6e\" x=\"729.142578\"/>\n     <use xlink:href=\"#DejaVuSans-67\" x=\"792.521484\"/>\n     <use xlink:href=\"#DejaVuSans-73\" x=\"855.998047\"/>\n     <use xlink:href=\"#DejaVuSans-20\" x=\"908.097656\"/>\n     <use xlink:href=\"#DejaVuSans-56\" x=\"939.884766\"/>\n     <use xlink:href=\"#DejaVuSans-69\" x=\"1006.042969\"/>\n     <use xlink:href=\"#DejaVuSans-73\" x=\"1033.826172\"/>\n     <use xlink:href=\"#DejaVuSans-75\" x=\"1085.925781\"/>\n     <use xlink:href=\"#DejaVuSans-61\" x=\"1149.304688\"/>\n     <use xlink:href=\"#DejaVuSans-6c\" x=\"1210.583984\"/>\n     <use xlink:href=\"#DejaVuSans-69\" x=\"1238.367188\"/>\n     <use xlink:href=\"#DejaVuSans-7a\" x=\"1266.150391\"/>\n     <use xlink:href=\"#DejaVuSans-61\" x=\"1318.640625\"/>\n     <use xlink:href=\"#DejaVuSans-74\" x=\"1379.919922\"/>\n     <use xlink:href=\"#DejaVuSans-69\" x=\"1419.128906\"/>\n     <use xlink:href=\"#DejaVuSans-6f\" x=\"1446.912109\"/>\n     <use xlink:href=\"#DejaVuSans-6e\" x=\"1508.09375\"/>\n     <use xlink:href=\"#DejaVuSans-20\" x=\"1571.472656\"/>\n     <use xlink:href=\"#DejaVuSans-28\" x=\"1603.259766\"/>\n     <use xlink:href=\"#DejaVuSans-50\" x=\"1642.273438\"/>\n     <use xlink:href=\"#DejaVuSans-43\" x=\"1702.576172\"/>\n     <use xlink:href=\"#DejaVuSans-41\" x=\"1772.400391\"/>\n     <use xlink:href=\"#DejaVuSans-29\" x=\"1840.808594\"/>\n    </g>\n   </g>\n  </g>\n </g>\n <defs>\n  <clipPath id=\"pc6a5cff864\">\n   <rect x=\"58.523438\" y=\"22.318125\" width=\"446.4\" height=\"443.52\"/>\n  </clipPath>\n </defs>\n</svg>\n"
          },
          "metadata": {}
        }
      ],
      "source": [
        "from sklearn.decomposition import PCA\n",
        "from matplotlib import pyplot as plt\n",
        "\n",
        "# Define PCA to reduce from 50 dimensions to 2\n",
        "pca = PCA(n_components=2)\n",
        "result = pca.fit_transform(X)\n",
        "\n",
        "# Plot the 2D word embeddings\n",
        "plt.figure(figsize=(8, 8))\n",
        "plt.scatter(result[:, 0], result[:, 1],color='green')\n",
        "\n",
        "# Annotate each word in the plot\n",
        "for i, word in enumerate(words):\n",
        "    plt.annotate(word, xy=(result[i, 0], result[i, 1]), fontsize=9)\n",
        "\n",
        "plt.title('Word Embeddings Visualization (PCA)')\n",
        "plt.xlabel('Principal Component 1')\n",
        "plt.ylabel('Principal Component 2')\n",
        "plt.grid(True)\n",
        "plt.show()\n"
      ]
    },
    {
      "cell_type": "code",
      "execution_count": 23,
      "metadata": {
        "id": "SYm16oMK-hz1",
        "colab": {
          "base_uri": "https://localhost:8080/",
          "height": 693
        },
        "outputId": "e7858948-0fa6-4055-ce44-6cd842363722"
      },
      "outputs": [
        {
          "output_type": "display_data",
          "data": {
            "text/plain": [
              "<Figure size 800x800 with 1 Axes>"
            ],
            "image/svg+xml": "<?xml version=\"1.0\" encoding=\"utf-8\" standalone=\"no\"?>\n<!DOCTYPE svg PUBLIC \"-//W3C//DTD SVG 1.1//EN\"\n  \"http://www.w3.org/Graphics/SVG/1.1/DTD/svg11.dtd\">\n<svg xmlns:xlink=\"http://www.w3.org/1999/xlink\" width=\"536.820393pt\" height=\"503.394375pt\" viewBox=\"0 0 536.820393 503.394375\" xmlns=\"http://www.w3.org/2000/svg\" version=\"1.1\">\n <metadata>\n  <rdf:RDF xmlns:dc=\"http://purl.org/dc/elements/1.1/\" xmlns:cc=\"http://creativecommons.org/ns#\" xmlns:rdf=\"http://www.w3.org/1999/02/22-rdf-syntax-ns#\">\n   <cc:Work>\n    <dc:type rdf:resource=\"http://purl.org/dc/dcmitype/StillImage\"/>\n    <dc:date>2024-10-03T19:57:33.363700</dc:date>\n    <dc:format>image/svg+xml</dc:format>\n    <dc:creator>\n     <cc:Agent>\n      <dc:title>Matplotlib v3.7.1, https://matplotlib.org/</dc:title>\n     </cc:Agent>\n    </dc:creator>\n   </cc:Work>\n  </rdf:RDF>\n </metadata>\n <defs>\n  <style type=\"text/css\">*{stroke-linejoin: round; stroke-linecap: butt}</style>\n </defs>\n <g id=\"figure_1\">\n  <g id=\"patch_1\">\n   <path d=\"M 0 503.394375 \nL 536.820393 503.394375 \nL 536.820393 0 \nL 0 0 \nz\n\" style=\"fill: #ffffff\"/>\n  </g>\n  <g id=\"axes_1\">\n   <g id=\"patch_2\">\n    <path d=\"M 58.523438 465.838125 \nL 504.923437 465.838125 \nL 504.923437 22.318125 \nL 58.523438 22.318125 \nz\n\" style=\"fill: #ffffff\"/>\n   </g>\n   <g id=\"PathCollection_1\">\n    <defs>\n     <path id=\"mae2835d0aa\" d=\"M 0 3 \nC 0.795609 3 1.55874 2.683901 2.12132 2.12132 \nC 2.683901 1.55874 3 0.795609 3 0 \nC 3 -0.795609 2.683901 -1.55874 2.12132 -2.12132 \nC 1.55874 -2.683901 0.795609 -3 0 -3 \nC -0.795609 -3 -1.55874 -2.683901 -2.12132 -2.12132 \nC -2.683901 -1.55874 -3 -0.795609 -3 0 \nC -3 0.795609 -2.683901 1.55874 -2.12132 2.12132 \nC -1.55874 2.683901 -0.795609 3 0 3 \nz\n\" style=\"stroke: #ffa500\"/>\n    </defs>\n    <g clip-path=\"url(#p52cc564967)\">\n     <use xlink:href=\"#mae2835d0aa\" x=\"232.469117\" y=\"341.469016\" style=\"fill: #ffa500; stroke: #ffa500\"/>\n     <use xlink:href=\"#mae2835d0aa\" x=\"201.594442\" y=\"323.110549\" style=\"fill: #ffa500; stroke: #ffa500\"/>\n     <use xlink:href=\"#mae2835d0aa\" x=\"337.174144\" y=\"223.285546\" style=\"fill: #ffa500; stroke: #ffa500\"/>\n     <use xlink:href=\"#mae2835d0aa\" x=\"304.488519\" y=\"292.482588\" style=\"fill: #ffa500; stroke: #ffa500\"/>\n     <use xlink:href=\"#mae2835d0aa\" x=\"338.084267\" y=\"258.322234\" style=\"fill: #ffa500; stroke: #ffa500\"/>\n     <use xlink:href=\"#mae2835d0aa\" x=\"421.095463\" y=\"339.741475\" style=\"fill: #ffa500; stroke: #ffa500\"/>\n     <use xlink:href=\"#mae2835d0aa\" x=\"475.461487\" y=\"203.17644\" style=\"fill: #ffa500; stroke: #ffa500\"/>\n     <use xlink:href=\"#mae2835d0aa\" x=\"215.421855\" y=\"268.599352\" style=\"fill: #ffa500; stroke: #ffa500\"/>\n     <use xlink:href=\"#mae2835d0aa\" x=\"270.515284\" y=\"164.423129\" style=\"fill: #ffa500; stroke: #ffa500\"/>\n     <use xlink:href=\"#mae2835d0aa\" x=\"404.160967\" y=\"242.36542\" style=\"fill: #ffa500; stroke: #ffa500\"/>\n     <use xlink:href=\"#mae2835d0aa\" x=\"394.926067\" y=\"177.961756\" style=\"fill: #ffa500; stroke: #ffa500\"/>\n     <use xlink:href=\"#mae2835d0aa\" x=\"342.65793\" y=\"357.326893\" style=\"fill: #ffa500; stroke: #ffa500\"/>\n     <use xlink:href=\"#mae2835d0aa\" x=\"257.497489\" y=\"119.753938\" style=\"fill: #ffa500; stroke: #ffa500\"/>\n     <use xlink:href=\"#mae2835d0aa\" x=\"225.070275\" y=\"445.678125\" style=\"fill: #ffa500; stroke: #ffa500\"/>\n     <use xlink:href=\"#mae2835d0aa\" x=\"150.890853\" y=\"94.94014\" style=\"fill: #ffa500; stroke: #ffa500\"/>\n     <use xlink:href=\"#mae2835d0aa\" x=\"157.706794\" y=\"385.990753\" style=\"fill: #ffa500; stroke: #ffa500\"/>\n     <use xlink:href=\"#mae2835d0aa\" x=\"271.472509\" y=\"326.246346\" style=\"fill: #ffa500; stroke: #ffa500\"/>\n     <use xlink:href=\"#mae2835d0aa\" x=\"78.814347\" y=\"42.478125\" style=\"fill: #ffa500; stroke: #ffa500\"/>\n     <use xlink:href=\"#mae2835d0aa\" x=\"240.291075\" y=\"361.829142\" style=\"fill: #ffa500; stroke: #ffa500\"/>\n     <use xlink:href=\"#mae2835d0aa\" x=\"330.936491\" y=\"275.873154\" style=\"fill: #ffa500; stroke: #ffa500\"/>\n     <use xlink:href=\"#mae2835d0aa\" x=\"484.632528\" y=\"140.354771\" style=\"fill: #ffa500; stroke: #ffa500\"/>\n    </g>\n   </g>\n   <g id=\"matplotlib.axis_1\">\n    <g id=\"xtick_1\">\n     <g id=\"line2d_1\">\n      <path d=\"M 91.007231 465.838125 \nL 91.007231 22.318125 \n\" clip-path=\"url(#p52cc564967)\" style=\"fill: none; stroke: #b0b0b0; stroke-width: 0.8; stroke-linecap: square\"/>\n     </g>\n     <g id=\"line2d_2\">\n      <defs>\n       <path id=\"mf5b9ed67b4\" d=\"M 0 0 \nL 0 3.5 \n\" style=\"stroke: #000000; stroke-width: 0.8\"/>\n      </defs>\n      <g>\n       <use xlink:href=\"#mf5b9ed67b4\" x=\"91.007231\" y=\"465.838125\" style=\"stroke: #000000; stroke-width: 0.8\"/>\n      </g>\n     </g>\n     <g id=\"text_1\">\n      <!-- −0.8 -->\n      <g transform=\"translate(78.865825 480.436562) scale(0.1 -0.1)\">\n       <defs>\n        <path id=\"DejaVuSans-2212\" d=\"M 678 2272 \nL 4684 2272 \nL 4684 1741 \nL 678 1741 \nL 678 2272 \nz\n\" transform=\"scale(0.015625)\"/>\n        <path id=\"DejaVuSans-30\" d=\"M 2034 4250 \nQ 1547 4250 1301 3770 \nQ 1056 3291 1056 2328 \nQ 1056 1369 1301 889 \nQ 1547 409 2034 409 \nQ 2525 409 2770 889 \nQ 3016 1369 3016 2328 \nQ 3016 3291 2770 3770 \nQ 2525 4250 2034 4250 \nz\nM 2034 4750 \nQ 2819 4750 3233 4129 \nQ 3647 3509 3647 2328 \nQ 3647 1150 3233 529 \nQ 2819 -91 2034 -91 \nQ 1250 -91 836 529 \nQ 422 1150 422 2328 \nQ 422 3509 836 4129 \nQ 1250 4750 2034 4750 \nz\n\" transform=\"scale(0.015625)\"/>\n        <path id=\"DejaVuSans-2e\" d=\"M 684 794 \nL 1344 794 \nL 1344 0 \nL 684 0 \nL 684 794 \nz\n\" transform=\"scale(0.015625)\"/>\n        <path id=\"DejaVuSans-38\" d=\"M 2034 2216 \nQ 1584 2216 1326 1975 \nQ 1069 1734 1069 1313 \nQ 1069 891 1326 650 \nQ 1584 409 2034 409 \nQ 2484 409 2743 651 \nQ 3003 894 3003 1313 \nQ 3003 1734 2745 1975 \nQ 2488 2216 2034 2216 \nz\nM 1403 2484 \nQ 997 2584 770 2862 \nQ 544 3141 544 3541 \nQ 544 4100 942 4425 \nQ 1341 4750 2034 4750 \nQ 2731 4750 3128 4425 \nQ 3525 4100 3525 3541 \nQ 3525 3141 3298 2862 \nQ 3072 2584 2669 2484 \nQ 3125 2378 3379 2068 \nQ 3634 1759 3634 1313 \nQ 3634 634 3220 271 \nQ 2806 -91 2034 -91 \nQ 1263 -91 848 271 \nQ 434 634 434 1313 \nQ 434 1759 690 2068 \nQ 947 2378 1403 2484 \nz\nM 1172 3481 \nQ 1172 3119 1398 2916 \nQ 1625 2713 2034 2713 \nQ 2441 2713 2670 2916 \nQ 2900 3119 2900 3481 \nQ 2900 3844 2670 4047 \nQ 2441 4250 2034 4250 \nQ 1625 4250 1398 4047 \nQ 1172 3844 1172 3481 \nz\n\" transform=\"scale(0.015625)\"/>\n       </defs>\n       <use xlink:href=\"#DejaVuSans-2212\"/>\n       <use xlink:href=\"#DejaVuSans-30\" x=\"83.789062\"/>\n       <use xlink:href=\"#DejaVuSans-2e\" x=\"147.412109\"/>\n       <use xlink:href=\"#DejaVuSans-38\" x=\"179.199219\"/>\n      </g>\n     </g>\n    </g>\n    <g id=\"xtick_2\">\n     <g id=\"line2d_3\">\n      <path d=\"M 141.295446 465.838125 \nL 141.295446 22.318125 \n\" clip-path=\"url(#p52cc564967)\" style=\"fill: none; stroke: #b0b0b0; stroke-width: 0.8; stroke-linecap: square\"/>\n     </g>\n     <g id=\"line2d_4\">\n      <g>\n       <use xlink:href=\"#mf5b9ed67b4\" x=\"141.295446\" y=\"465.838125\" style=\"stroke: #000000; stroke-width: 0.8\"/>\n      </g>\n     </g>\n     <g id=\"text_2\">\n      <!-- −0.6 -->\n      <g transform=\"translate(129.15404 480.436562) scale(0.1 -0.1)\">\n       <defs>\n        <path id=\"DejaVuSans-36\" d=\"M 2113 2584 \nQ 1688 2584 1439 2293 \nQ 1191 2003 1191 1497 \nQ 1191 994 1439 701 \nQ 1688 409 2113 409 \nQ 2538 409 2786 701 \nQ 3034 994 3034 1497 \nQ 3034 2003 2786 2293 \nQ 2538 2584 2113 2584 \nz\nM 3366 4563 \nL 3366 3988 \nQ 3128 4100 2886 4159 \nQ 2644 4219 2406 4219 \nQ 1781 4219 1451 3797 \nQ 1122 3375 1075 2522 \nQ 1259 2794 1537 2939 \nQ 1816 3084 2150 3084 \nQ 2853 3084 3261 2657 \nQ 3669 2231 3669 1497 \nQ 3669 778 3244 343 \nQ 2819 -91 2113 -91 \nQ 1303 -91 875 529 \nQ 447 1150 447 2328 \nQ 447 3434 972 4092 \nQ 1497 4750 2381 4750 \nQ 2619 4750 2861 4703 \nQ 3103 4656 3366 4563 \nz\n\" transform=\"scale(0.015625)\"/>\n       </defs>\n       <use xlink:href=\"#DejaVuSans-2212\"/>\n       <use xlink:href=\"#DejaVuSans-30\" x=\"83.789062\"/>\n       <use xlink:href=\"#DejaVuSans-2e\" x=\"147.412109\"/>\n       <use xlink:href=\"#DejaVuSans-36\" x=\"179.199219\"/>\n      </g>\n     </g>\n    </g>\n    <g id=\"xtick_3\">\n     <g id=\"line2d_5\">\n      <path d=\"M 191.583661 465.838125 \nL 191.583661 22.318125 \n\" clip-path=\"url(#p52cc564967)\" style=\"fill: none; stroke: #b0b0b0; stroke-width: 0.8; stroke-linecap: square\"/>\n     </g>\n     <g id=\"line2d_6\">\n      <g>\n       <use xlink:href=\"#mf5b9ed67b4\" x=\"191.583661\" y=\"465.838125\" style=\"stroke: #000000; stroke-width: 0.8\"/>\n      </g>\n     </g>\n     <g id=\"text_3\">\n      <!-- −0.4 -->\n      <g transform=\"translate(179.442255 480.436562) scale(0.1 -0.1)\">\n       <defs>\n        <path id=\"DejaVuSans-34\" d=\"M 2419 4116 \nL 825 1625 \nL 2419 1625 \nL 2419 4116 \nz\nM 2253 4666 \nL 3047 4666 \nL 3047 1625 \nL 3713 1625 \nL 3713 1100 \nL 3047 1100 \nL 3047 0 \nL 2419 0 \nL 2419 1100 \nL 313 1100 \nL 313 1709 \nL 2253 4666 \nz\n\" transform=\"scale(0.015625)\"/>\n       </defs>\n       <use xlink:href=\"#DejaVuSans-2212\"/>\n       <use xlink:href=\"#DejaVuSans-30\" x=\"83.789062\"/>\n       <use xlink:href=\"#DejaVuSans-2e\" x=\"147.412109\"/>\n       <use xlink:href=\"#DejaVuSans-34\" x=\"179.199219\"/>\n      </g>\n     </g>\n    </g>\n    <g id=\"xtick_4\">\n     <g id=\"line2d_7\">\n      <path d=\"M 241.871876 465.838125 \nL 241.871876 22.318125 \n\" clip-path=\"url(#p52cc564967)\" style=\"fill: none; stroke: #b0b0b0; stroke-width: 0.8; stroke-linecap: square\"/>\n     </g>\n     <g id=\"line2d_8\">\n      <g>\n       <use xlink:href=\"#mf5b9ed67b4\" x=\"241.871876\" y=\"465.838125\" style=\"stroke: #000000; stroke-width: 0.8\"/>\n      </g>\n     </g>\n     <g id=\"text_4\">\n      <!-- −0.2 -->\n      <g transform=\"translate(229.730469 480.436562) scale(0.1 -0.1)\">\n       <defs>\n        <path id=\"DejaVuSans-32\" d=\"M 1228 531 \nL 3431 531 \nL 3431 0 \nL 469 0 \nL 469 531 \nQ 828 903 1448 1529 \nQ 2069 2156 2228 2338 \nQ 2531 2678 2651 2914 \nQ 2772 3150 2772 3378 \nQ 2772 3750 2511 3984 \nQ 2250 4219 1831 4219 \nQ 1534 4219 1204 4116 \nQ 875 4013 500 3803 \nL 500 4441 \nQ 881 4594 1212 4672 \nQ 1544 4750 1819 4750 \nQ 2544 4750 2975 4387 \nQ 3406 4025 3406 3419 \nQ 3406 3131 3298 2873 \nQ 3191 2616 2906 2266 \nQ 2828 2175 2409 1742 \nQ 1991 1309 1228 531 \nz\n\" transform=\"scale(0.015625)\"/>\n       </defs>\n       <use xlink:href=\"#DejaVuSans-2212\"/>\n       <use xlink:href=\"#DejaVuSans-30\" x=\"83.789062\"/>\n       <use xlink:href=\"#DejaVuSans-2e\" x=\"147.412109\"/>\n       <use xlink:href=\"#DejaVuSans-32\" x=\"179.199219\"/>\n      </g>\n     </g>\n    </g>\n    <g id=\"xtick_5\">\n     <g id=\"line2d_9\">\n      <path d=\"M 292.160091 465.838125 \nL 292.160091 22.318125 \n\" clip-path=\"url(#p52cc564967)\" style=\"fill: none; stroke: #b0b0b0; stroke-width: 0.8; stroke-linecap: square\"/>\n     </g>\n     <g id=\"line2d_10\">\n      <g>\n       <use xlink:href=\"#mf5b9ed67b4\" x=\"292.160091\" y=\"465.838125\" style=\"stroke: #000000; stroke-width: 0.8\"/>\n      </g>\n     </g>\n     <g id=\"text_5\">\n      <!-- 0.0 -->\n      <g transform=\"translate(284.208528 480.436562) scale(0.1 -0.1)\">\n       <use xlink:href=\"#DejaVuSans-30\"/>\n       <use xlink:href=\"#DejaVuSans-2e\" x=\"63.623047\"/>\n       <use xlink:href=\"#DejaVuSans-30\" x=\"95.410156\"/>\n      </g>\n     </g>\n    </g>\n    <g id=\"xtick_6\">\n     <g id=\"line2d_11\">\n      <path d=\"M 342.448305 465.838125 \nL 342.448305 22.318125 \n\" clip-path=\"url(#p52cc564967)\" style=\"fill: none; stroke: #b0b0b0; stroke-width: 0.8; stroke-linecap: square\"/>\n     </g>\n     <g id=\"line2d_12\">\n      <g>\n       <use xlink:href=\"#mf5b9ed67b4\" x=\"342.448305\" y=\"465.838125\" style=\"stroke: #000000; stroke-width: 0.8\"/>\n      </g>\n     </g>\n     <g id=\"text_6\">\n      <!-- 0.2 -->\n      <g transform=\"translate(334.496743 480.436562) scale(0.1 -0.1)\">\n       <use xlink:href=\"#DejaVuSans-30\"/>\n       <use xlink:href=\"#DejaVuSans-2e\" x=\"63.623047\"/>\n       <use xlink:href=\"#DejaVuSans-32\" x=\"95.410156\"/>\n      </g>\n     </g>\n    </g>\n    <g id=\"xtick_7\">\n     <g id=\"line2d_13\">\n      <path d=\"M 392.73652 465.838125 \nL 392.73652 22.318125 \n\" clip-path=\"url(#p52cc564967)\" style=\"fill: none; stroke: #b0b0b0; stroke-width: 0.8; stroke-linecap: square\"/>\n     </g>\n     <g id=\"line2d_14\">\n      <g>\n       <use xlink:href=\"#mf5b9ed67b4\" x=\"392.73652\" y=\"465.838125\" style=\"stroke: #000000; stroke-width: 0.8\"/>\n      </g>\n     </g>\n     <g id=\"text_7\">\n      <!-- 0.4 -->\n      <g transform=\"translate(384.784958 480.436562) scale(0.1 -0.1)\">\n       <use xlink:href=\"#DejaVuSans-30\"/>\n       <use xlink:href=\"#DejaVuSans-2e\" x=\"63.623047\"/>\n       <use xlink:href=\"#DejaVuSans-34\" x=\"95.410156\"/>\n      </g>\n     </g>\n    </g>\n    <g id=\"xtick_8\">\n     <g id=\"line2d_15\">\n      <path d=\"M 443.024735 465.838125 \nL 443.024735 22.318125 \n\" clip-path=\"url(#p52cc564967)\" style=\"fill: none; stroke: #b0b0b0; stroke-width: 0.8; stroke-linecap: square\"/>\n     </g>\n     <g id=\"line2d_16\">\n      <g>\n       <use xlink:href=\"#mf5b9ed67b4\" x=\"443.024735\" y=\"465.838125\" style=\"stroke: #000000; stroke-width: 0.8\"/>\n      </g>\n     </g>\n     <g id=\"text_8\">\n      <!-- 0.6 -->\n      <g transform=\"translate(435.073172 480.436562) scale(0.1 -0.1)\">\n       <use xlink:href=\"#DejaVuSans-30\"/>\n       <use xlink:href=\"#DejaVuSans-2e\" x=\"63.623047\"/>\n       <use xlink:href=\"#DejaVuSans-36\" x=\"95.410156\"/>\n      </g>\n     </g>\n    </g>\n    <g id=\"xtick_9\">\n     <g id=\"line2d_17\">\n      <path d=\"M 493.31295 465.838125 \nL 493.31295 22.318125 \n\" clip-path=\"url(#p52cc564967)\" style=\"fill: none; stroke: #b0b0b0; stroke-width: 0.8; stroke-linecap: square\"/>\n     </g>\n     <g id=\"line2d_18\">\n      <g>\n       <use xlink:href=\"#mf5b9ed67b4\" x=\"493.31295\" y=\"465.838125\" style=\"stroke: #000000; stroke-width: 0.8\"/>\n      </g>\n     </g>\n     <g id=\"text_9\">\n      <!-- 0.8 -->\n      <g transform=\"translate(485.361387 480.436562) scale(0.1 -0.1)\">\n       <use xlink:href=\"#DejaVuSans-30\"/>\n       <use xlink:href=\"#DejaVuSans-2e\" x=\"63.623047\"/>\n       <use xlink:href=\"#DejaVuSans-38\" x=\"95.410156\"/>\n      </g>\n     </g>\n    </g>\n    <g id=\"text_10\">\n     <!-- Principal Component 4 -->\n     <g transform=\"translate(225.028906 494.114687) scale(0.1 -0.1)\">\n      <defs>\n       <path id=\"DejaVuSans-50\" d=\"M 1259 4147 \nL 1259 2394 \nL 2053 2394 \nQ 2494 2394 2734 2622 \nQ 2975 2850 2975 3272 \nQ 2975 3691 2734 3919 \nQ 2494 4147 2053 4147 \nL 1259 4147 \nz\nM 628 4666 \nL 2053 4666 \nQ 2838 4666 3239 4311 \nQ 3641 3956 3641 3272 \nQ 3641 2581 3239 2228 \nQ 2838 1875 2053 1875 \nL 1259 1875 \nL 1259 0 \nL 628 0 \nL 628 4666 \nz\n\" transform=\"scale(0.015625)\"/>\n       <path id=\"DejaVuSans-72\" d=\"M 2631 2963 \nQ 2534 3019 2420 3045 \nQ 2306 3072 2169 3072 \nQ 1681 3072 1420 2755 \nQ 1159 2438 1159 1844 \nL 1159 0 \nL 581 0 \nL 581 3500 \nL 1159 3500 \nL 1159 2956 \nQ 1341 3275 1631 3429 \nQ 1922 3584 2338 3584 \nQ 2397 3584 2469 3576 \nQ 2541 3569 2628 3553 \nL 2631 2963 \nz\n\" transform=\"scale(0.015625)\"/>\n       <path id=\"DejaVuSans-69\" d=\"M 603 3500 \nL 1178 3500 \nL 1178 0 \nL 603 0 \nL 603 3500 \nz\nM 603 4863 \nL 1178 4863 \nL 1178 4134 \nL 603 4134 \nL 603 4863 \nz\n\" transform=\"scale(0.015625)\"/>\n       <path id=\"DejaVuSans-6e\" d=\"M 3513 2113 \nL 3513 0 \nL 2938 0 \nL 2938 2094 \nQ 2938 2591 2744 2837 \nQ 2550 3084 2163 3084 \nQ 1697 3084 1428 2787 \nQ 1159 2491 1159 1978 \nL 1159 0 \nL 581 0 \nL 581 3500 \nL 1159 3500 \nL 1159 2956 \nQ 1366 3272 1645 3428 \nQ 1925 3584 2291 3584 \nQ 2894 3584 3203 3211 \nQ 3513 2838 3513 2113 \nz\n\" transform=\"scale(0.015625)\"/>\n       <path id=\"DejaVuSans-63\" d=\"M 3122 3366 \nL 3122 2828 \nQ 2878 2963 2633 3030 \nQ 2388 3097 2138 3097 \nQ 1578 3097 1268 2742 \nQ 959 2388 959 1747 \nQ 959 1106 1268 751 \nQ 1578 397 2138 397 \nQ 2388 397 2633 464 \nQ 2878 531 3122 666 \nL 3122 134 \nQ 2881 22 2623 -34 \nQ 2366 -91 2075 -91 \nQ 1284 -91 818 406 \nQ 353 903 353 1747 \nQ 353 2603 823 3093 \nQ 1294 3584 2113 3584 \nQ 2378 3584 2631 3529 \nQ 2884 3475 3122 3366 \nz\n\" transform=\"scale(0.015625)\"/>\n       <path id=\"DejaVuSans-70\" d=\"M 1159 525 \nL 1159 -1331 \nL 581 -1331 \nL 581 3500 \nL 1159 3500 \nL 1159 2969 \nQ 1341 3281 1617 3432 \nQ 1894 3584 2278 3584 \nQ 2916 3584 3314 3078 \nQ 3713 2572 3713 1747 \nQ 3713 922 3314 415 \nQ 2916 -91 2278 -91 \nQ 1894 -91 1617 61 \nQ 1341 213 1159 525 \nz\nM 3116 1747 \nQ 3116 2381 2855 2742 \nQ 2594 3103 2138 3103 \nQ 1681 3103 1420 2742 \nQ 1159 2381 1159 1747 \nQ 1159 1113 1420 752 \nQ 1681 391 2138 391 \nQ 2594 391 2855 752 \nQ 3116 1113 3116 1747 \nz\n\" transform=\"scale(0.015625)\"/>\n       <path id=\"DejaVuSans-61\" d=\"M 2194 1759 \nQ 1497 1759 1228 1600 \nQ 959 1441 959 1056 \nQ 959 750 1161 570 \nQ 1363 391 1709 391 \nQ 2188 391 2477 730 \nQ 2766 1069 2766 1631 \nL 2766 1759 \nL 2194 1759 \nz\nM 3341 1997 \nL 3341 0 \nL 2766 0 \nL 2766 531 \nQ 2569 213 2275 61 \nQ 1981 -91 1556 -91 \nQ 1019 -91 701 211 \nQ 384 513 384 1019 \nQ 384 1609 779 1909 \nQ 1175 2209 1959 2209 \nL 2766 2209 \nL 2766 2266 \nQ 2766 2663 2505 2880 \nQ 2244 3097 1772 3097 \nQ 1472 3097 1187 3025 \nQ 903 2953 641 2809 \nL 641 3341 \nQ 956 3463 1253 3523 \nQ 1550 3584 1831 3584 \nQ 2591 3584 2966 3190 \nQ 3341 2797 3341 1997 \nz\n\" transform=\"scale(0.015625)\"/>\n       <path id=\"DejaVuSans-6c\" d=\"M 603 4863 \nL 1178 4863 \nL 1178 0 \nL 603 0 \nL 603 4863 \nz\n\" transform=\"scale(0.015625)\"/>\n       <path id=\"DejaVuSans-20\" transform=\"scale(0.015625)\"/>\n       <path id=\"DejaVuSans-43\" d=\"M 4122 4306 \nL 4122 3641 \nQ 3803 3938 3442 4084 \nQ 3081 4231 2675 4231 \nQ 1875 4231 1450 3742 \nQ 1025 3253 1025 2328 \nQ 1025 1406 1450 917 \nQ 1875 428 2675 428 \nQ 3081 428 3442 575 \nQ 3803 722 4122 1019 \nL 4122 359 \nQ 3791 134 3420 21 \nQ 3050 -91 2638 -91 \nQ 1578 -91 968 557 \nQ 359 1206 359 2328 \nQ 359 3453 968 4101 \nQ 1578 4750 2638 4750 \nQ 3056 4750 3426 4639 \nQ 3797 4528 4122 4306 \nz\n\" transform=\"scale(0.015625)\"/>\n       <path id=\"DejaVuSans-6f\" d=\"M 1959 3097 \nQ 1497 3097 1228 2736 \nQ 959 2375 959 1747 \nQ 959 1119 1226 758 \nQ 1494 397 1959 397 \nQ 2419 397 2687 759 \nQ 2956 1122 2956 1747 \nQ 2956 2369 2687 2733 \nQ 2419 3097 1959 3097 \nz\nM 1959 3584 \nQ 2709 3584 3137 3096 \nQ 3566 2609 3566 1747 \nQ 3566 888 3137 398 \nQ 2709 -91 1959 -91 \nQ 1206 -91 779 398 \nQ 353 888 353 1747 \nQ 353 2609 779 3096 \nQ 1206 3584 1959 3584 \nz\n\" transform=\"scale(0.015625)\"/>\n       <path id=\"DejaVuSans-6d\" d=\"M 3328 2828 \nQ 3544 3216 3844 3400 \nQ 4144 3584 4550 3584 \nQ 5097 3584 5394 3201 \nQ 5691 2819 5691 2113 \nL 5691 0 \nL 5113 0 \nL 5113 2094 \nQ 5113 2597 4934 2840 \nQ 4756 3084 4391 3084 \nQ 3944 3084 3684 2787 \nQ 3425 2491 3425 1978 \nL 3425 0 \nL 2847 0 \nL 2847 2094 \nQ 2847 2600 2669 2842 \nQ 2491 3084 2119 3084 \nQ 1678 3084 1418 2786 \nQ 1159 2488 1159 1978 \nL 1159 0 \nL 581 0 \nL 581 3500 \nL 1159 3500 \nL 1159 2956 \nQ 1356 3278 1631 3431 \nQ 1906 3584 2284 3584 \nQ 2666 3584 2933 3390 \nQ 3200 3197 3328 2828 \nz\n\" transform=\"scale(0.015625)\"/>\n       <path id=\"DejaVuSans-65\" d=\"M 3597 1894 \nL 3597 1613 \nL 953 1613 \nQ 991 1019 1311 708 \nQ 1631 397 2203 397 \nQ 2534 397 2845 478 \nQ 3156 559 3463 722 \nL 3463 178 \nQ 3153 47 2828 -22 \nQ 2503 -91 2169 -91 \nQ 1331 -91 842 396 \nQ 353 884 353 1716 \nQ 353 2575 817 3079 \nQ 1281 3584 2069 3584 \nQ 2775 3584 3186 3129 \nQ 3597 2675 3597 1894 \nz\nM 3022 2063 \nQ 3016 2534 2758 2815 \nQ 2500 3097 2075 3097 \nQ 1594 3097 1305 2825 \nQ 1016 2553 972 2059 \nL 3022 2063 \nz\n\" transform=\"scale(0.015625)\"/>\n       <path id=\"DejaVuSans-74\" d=\"M 1172 4494 \nL 1172 3500 \nL 2356 3500 \nL 2356 3053 \nL 1172 3053 \nL 1172 1153 \nQ 1172 725 1289 603 \nQ 1406 481 1766 481 \nL 2356 481 \nL 2356 0 \nL 1766 0 \nQ 1100 0 847 248 \nQ 594 497 594 1153 \nL 594 3053 \nL 172 3053 \nL 172 3500 \nL 594 3500 \nL 594 4494 \nL 1172 4494 \nz\n\" transform=\"scale(0.015625)\"/>\n      </defs>\n      <use xlink:href=\"#DejaVuSans-50\"/>\n      <use xlink:href=\"#DejaVuSans-72\" x=\"58.552734\"/>\n      <use xlink:href=\"#DejaVuSans-69\" x=\"99.666016\"/>\n      <use xlink:href=\"#DejaVuSans-6e\" x=\"127.449219\"/>\n      <use xlink:href=\"#DejaVuSans-63\" x=\"190.828125\"/>\n      <use xlink:href=\"#DejaVuSans-69\" x=\"245.808594\"/>\n      <use xlink:href=\"#DejaVuSans-70\" x=\"273.591797\"/>\n      <use xlink:href=\"#DejaVuSans-61\" x=\"337.068359\"/>\n      <use xlink:href=\"#DejaVuSans-6c\" x=\"398.347656\"/>\n      <use xlink:href=\"#DejaVuSans-20\" x=\"426.130859\"/>\n      <use xlink:href=\"#DejaVuSans-43\" x=\"457.917969\"/>\n      <use xlink:href=\"#DejaVuSans-6f\" x=\"527.742188\"/>\n      <use xlink:href=\"#DejaVuSans-6d\" x=\"588.923828\"/>\n      <use xlink:href=\"#DejaVuSans-70\" x=\"686.335938\"/>\n      <use xlink:href=\"#DejaVuSans-6f\" x=\"749.8125\"/>\n      <use xlink:href=\"#DejaVuSans-6e\" x=\"810.994141\"/>\n      <use xlink:href=\"#DejaVuSans-65\" x=\"874.373047\"/>\n      <use xlink:href=\"#DejaVuSans-6e\" x=\"935.896484\"/>\n      <use xlink:href=\"#DejaVuSans-74\" x=\"999.275391\"/>\n      <use xlink:href=\"#DejaVuSans-20\" x=\"1038.484375\"/>\n      <use xlink:href=\"#DejaVuSans-34\" x=\"1070.271484\"/>\n     </g>\n    </g>\n   </g>\n   <g id=\"matplotlib.axis_2\">\n    <g id=\"ytick_1\">\n     <g id=\"line2d_19\">\n      <path d=\"M 58.523438 417.546547 \nL 504.923437 417.546547 \n\" clip-path=\"url(#p52cc564967)\" style=\"fill: none; stroke: #b0b0b0; stroke-width: 0.8; stroke-linecap: square\"/>\n     </g>\n     <g id=\"line2d_20\">\n      <defs>\n       <path id=\"m9e22216c2f\" d=\"M 0 0 \nL -3.5 0 \n\" style=\"stroke: #000000; stroke-width: 0.8\"/>\n      </defs>\n      <g>\n       <use xlink:href=\"#m9e22216c2f\" x=\"58.523438\" y=\"417.546547\" style=\"stroke: #000000; stroke-width: 0.8\"/>\n      </g>\n     </g>\n     <g id=\"text_11\">\n      <!-- −0.75 -->\n      <g transform=\"translate(20.878125 421.345766) scale(0.1 -0.1)\">\n       <defs>\n        <path id=\"DejaVuSans-37\" d=\"M 525 4666 \nL 3525 4666 \nL 3525 4397 \nL 1831 0 \nL 1172 0 \nL 2766 4134 \nL 525 4134 \nL 525 4666 \nz\n\" transform=\"scale(0.015625)\"/>\n        <path id=\"DejaVuSans-35\" d=\"M 691 4666 \nL 3169 4666 \nL 3169 4134 \nL 1269 4134 \nL 1269 2991 \nQ 1406 3038 1543 3061 \nQ 1681 3084 1819 3084 \nQ 2600 3084 3056 2656 \nQ 3513 2228 3513 1497 \nQ 3513 744 3044 326 \nQ 2575 -91 1722 -91 \nQ 1428 -91 1123 -41 \nQ 819 9 494 109 \nL 494 744 \nQ 775 591 1075 516 \nQ 1375 441 1709 441 \nQ 2250 441 2565 725 \nQ 2881 1009 2881 1497 \nQ 2881 1984 2565 2268 \nQ 2250 2553 1709 2553 \nQ 1456 2553 1204 2497 \nQ 953 2441 691 2322 \nL 691 4666 \nz\n\" transform=\"scale(0.015625)\"/>\n       </defs>\n       <use xlink:href=\"#DejaVuSans-2212\"/>\n       <use xlink:href=\"#DejaVuSans-30\" x=\"83.789062\"/>\n       <use xlink:href=\"#DejaVuSans-2e\" x=\"147.412109\"/>\n       <use xlink:href=\"#DejaVuSans-37\" x=\"179.199219\"/>\n       <use xlink:href=\"#DejaVuSans-35\" x=\"242.822266\"/>\n      </g>\n     </g>\n    </g>\n    <g id=\"ytick_2\">\n     <g id=\"line2d_21\">\n      <path d=\"M 58.523438 363.847046 \nL 504.923437 363.847046 \n\" clip-path=\"url(#p52cc564967)\" style=\"fill: none; stroke: #b0b0b0; stroke-width: 0.8; stroke-linecap: square\"/>\n     </g>\n     <g id=\"line2d_22\">\n      <g>\n       <use xlink:href=\"#m9e22216c2f\" x=\"58.523438\" y=\"363.847046\" style=\"stroke: #000000; stroke-width: 0.8\"/>\n      </g>\n     </g>\n     <g id=\"text_12\">\n      <!-- −0.50 -->\n      <g transform=\"translate(20.878125 367.646264) scale(0.1 -0.1)\">\n       <use xlink:href=\"#DejaVuSans-2212\"/>\n       <use xlink:href=\"#DejaVuSans-30\" x=\"83.789062\"/>\n       <use xlink:href=\"#DejaVuSans-2e\" x=\"147.412109\"/>\n       <use xlink:href=\"#DejaVuSans-35\" x=\"179.199219\"/>\n       <use xlink:href=\"#DejaVuSans-30\" x=\"242.822266\"/>\n      </g>\n     </g>\n    </g>\n    <g id=\"ytick_3\">\n     <g id=\"line2d_23\">\n      <path d=\"M 58.523438 310.147544 \nL 504.923437 310.147544 \n\" clip-path=\"url(#p52cc564967)\" style=\"fill: none; stroke: #b0b0b0; stroke-width: 0.8; stroke-linecap: square\"/>\n     </g>\n     <g id=\"line2d_24\">\n      <g>\n       <use xlink:href=\"#m9e22216c2f\" x=\"58.523438\" y=\"310.147544\" style=\"stroke: #000000; stroke-width: 0.8\"/>\n      </g>\n     </g>\n     <g id=\"text_13\">\n      <!-- −0.25 -->\n      <g transform=\"translate(20.878125 313.946763) scale(0.1 -0.1)\">\n       <use xlink:href=\"#DejaVuSans-2212\"/>\n       <use xlink:href=\"#DejaVuSans-30\" x=\"83.789062\"/>\n       <use xlink:href=\"#DejaVuSans-2e\" x=\"147.412109\"/>\n       <use xlink:href=\"#DejaVuSans-32\" x=\"179.199219\"/>\n       <use xlink:href=\"#DejaVuSans-35\" x=\"242.822266\"/>\n      </g>\n     </g>\n    </g>\n    <g id=\"ytick_4\">\n     <g id=\"line2d_25\">\n      <path d=\"M 58.523438 256.448042 \nL 504.923437 256.448042 \n\" clip-path=\"url(#p52cc564967)\" style=\"fill: none; stroke: #b0b0b0; stroke-width: 0.8; stroke-linecap: square\"/>\n     </g>\n     <g id=\"line2d_26\">\n      <g>\n       <use xlink:href=\"#m9e22216c2f\" x=\"58.523438\" y=\"256.448042\" style=\"stroke: #000000; stroke-width: 0.8\"/>\n      </g>\n     </g>\n     <g id=\"text_14\">\n      <!-- 0.00 -->\n      <g transform=\"translate(29.257813 260.247261) scale(0.1 -0.1)\">\n       <use xlink:href=\"#DejaVuSans-30\"/>\n       <use xlink:href=\"#DejaVuSans-2e\" x=\"63.623047\"/>\n       <use xlink:href=\"#DejaVuSans-30\" x=\"95.410156\"/>\n       <use xlink:href=\"#DejaVuSans-30\" x=\"159.033203\"/>\n      </g>\n     </g>\n    </g>\n    <g id=\"ytick_5\">\n     <g id=\"line2d_27\">\n      <path d=\"M 58.523438 202.748541 \nL 504.923437 202.748541 \n\" clip-path=\"url(#p52cc564967)\" style=\"fill: none; stroke: #b0b0b0; stroke-width: 0.8; stroke-linecap: square\"/>\n     </g>\n     <g id=\"line2d_28\">\n      <g>\n       <use xlink:href=\"#m9e22216c2f\" x=\"58.523438\" y=\"202.748541\" style=\"stroke: #000000; stroke-width: 0.8\"/>\n      </g>\n     </g>\n     <g id=\"text_15\">\n      <!-- 0.25 -->\n      <g transform=\"translate(29.257813 206.54776) scale(0.1 -0.1)\">\n       <use xlink:href=\"#DejaVuSans-30\"/>\n       <use xlink:href=\"#DejaVuSans-2e\" x=\"63.623047\"/>\n       <use xlink:href=\"#DejaVuSans-32\" x=\"95.410156\"/>\n       <use xlink:href=\"#DejaVuSans-35\" x=\"159.033203\"/>\n      </g>\n     </g>\n    </g>\n    <g id=\"ytick_6\">\n     <g id=\"line2d_29\">\n      <path d=\"M 58.523438 149.049039 \nL 504.923437 149.049039 \n\" clip-path=\"url(#p52cc564967)\" style=\"fill: none; stroke: #b0b0b0; stroke-width: 0.8; stroke-linecap: square\"/>\n     </g>\n     <g id=\"line2d_30\">\n      <g>\n       <use xlink:href=\"#m9e22216c2f\" x=\"58.523438\" y=\"149.049039\" style=\"stroke: #000000; stroke-width: 0.8\"/>\n      </g>\n     </g>\n     <g id=\"text_16\">\n      <!-- 0.50 -->\n      <g transform=\"translate(29.257813 152.848258) scale(0.1 -0.1)\">\n       <use xlink:href=\"#DejaVuSans-30\"/>\n       <use xlink:href=\"#DejaVuSans-2e\" x=\"63.623047\"/>\n       <use xlink:href=\"#DejaVuSans-35\" x=\"95.410156\"/>\n       <use xlink:href=\"#DejaVuSans-30\" x=\"159.033203\"/>\n      </g>\n     </g>\n    </g>\n    <g id=\"ytick_7\">\n     <g id=\"line2d_31\">\n      <path d=\"M 58.523438 95.349538 \nL 504.923437 95.349538 \n\" clip-path=\"url(#p52cc564967)\" style=\"fill: none; stroke: #b0b0b0; stroke-width: 0.8; stroke-linecap: square\"/>\n     </g>\n     <g id=\"line2d_32\">\n      <g>\n       <use xlink:href=\"#m9e22216c2f\" x=\"58.523438\" y=\"95.349538\" style=\"stroke: #000000; stroke-width: 0.8\"/>\n      </g>\n     </g>\n     <g id=\"text_17\">\n      <!-- 0.75 -->\n      <g transform=\"translate(29.257813 99.148756) scale(0.1 -0.1)\">\n       <use xlink:href=\"#DejaVuSans-30\"/>\n       <use xlink:href=\"#DejaVuSans-2e\" x=\"63.623047\"/>\n       <use xlink:href=\"#DejaVuSans-37\" x=\"95.410156\"/>\n       <use xlink:href=\"#DejaVuSans-35\" x=\"159.033203\"/>\n      </g>\n     </g>\n    </g>\n    <g id=\"ytick_8\">\n     <g id=\"line2d_33\">\n      <path d=\"M 58.523438 41.650036 \nL 504.923437 41.650036 \n\" clip-path=\"url(#p52cc564967)\" style=\"fill: none; stroke: #b0b0b0; stroke-width: 0.8; stroke-linecap: square\"/>\n     </g>\n     <g id=\"line2d_34\">\n      <g>\n       <use xlink:href=\"#m9e22216c2f\" x=\"58.523438\" y=\"41.650036\" style=\"stroke: #000000; stroke-width: 0.8\"/>\n      </g>\n     </g>\n     <g id=\"text_18\">\n      <!-- 1.00 -->\n      <g transform=\"translate(29.257813 45.449255) scale(0.1 -0.1)\">\n       <defs>\n        <path id=\"DejaVuSans-31\" d=\"M 794 531 \nL 1825 531 \nL 1825 4091 \nL 703 3866 \nL 703 4441 \nL 1819 4666 \nL 2450 4666 \nL 2450 531 \nL 3481 531 \nL 3481 0 \nL 794 0 \nL 794 531 \nz\n\" transform=\"scale(0.015625)\"/>\n       </defs>\n       <use xlink:href=\"#DejaVuSans-31\"/>\n       <use xlink:href=\"#DejaVuSans-2e\" x=\"63.623047\"/>\n       <use xlink:href=\"#DejaVuSans-30\" x=\"95.410156\"/>\n       <use xlink:href=\"#DejaVuSans-30\" x=\"159.033203\"/>\n      </g>\n     </g>\n    </g>\n    <g id=\"text_19\">\n     <!-- Principal Component 2 -->\n     <g transform=\"translate(14.798438 300.772656) rotate(-90) scale(0.1 -0.1)\">\n      <use xlink:href=\"#DejaVuSans-50\"/>\n      <use xlink:href=\"#DejaVuSans-72\" x=\"58.552734\"/>\n      <use xlink:href=\"#DejaVuSans-69\" x=\"99.666016\"/>\n      <use xlink:href=\"#DejaVuSans-6e\" x=\"127.449219\"/>\n      <use xlink:href=\"#DejaVuSans-63\" x=\"190.828125\"/>\n      <use xlink:href=\"#DejaVuSans-69\" x=\"245.808594\"/>\n      <use xlink:href=\"#DejaVuSans-70\" x=\"273.591797\"/>\n      <use xlink:href=\"#DejaVuSans-61\" x=\"337.068359\"/>\n      <use xlink:href=\"#DejaVuSans-6c\" x=\"398.347656\"/>\n      <use xlink:href=\"#DejaVuSans-20\" x=\"426.130859\"/>\n      <use xlink:href=\"#DejaVuSans-43\" x=\"457.917969\"/>\n      <use xlink:href=\"#DejaVuSans-6f\" x=\"527.742188\"/>\n      <use xlink:href=\"#DejaVuSans-6d\" x=\"588.923828\"/>\n      <use xlink:href=\"#DejaVuSans-70\" x=\"686.335938\"/>\n      <use xlink:href=\"#DejaVuSans-6f\" x=\"749.8125\"/>\n      <use xlink:href=\"#DejaVuSans-6e\" x=\"810.994141\"/>\n      <use xlink:href=\"#DejaVuSans-65\" x=\"874.373047\"/>\n      <use xlink:href=\"#DejaVuSans-6e\" x=\"935.896484\"/>\n      <use xlink:href=\"#DejaVuSans-74\" x=\"999.275391\"/>\n      <use xlink:href=\"#DejaVuSans-20\" x=\"1038.484375\"/>\n      <use xlink:href=\"#DejaVuSans-32\" x=\"1070.271484\"/>\n     </g>\n    </g>\n   </g>\n   <g id=\"patch_3\">\n    <path d=\"M 58.523438 465.838125 \nL 58.523438 22.318125 \n\" style=\"fill: none; stroke: #000000; stroke-width: 0.8; stroke-linejoin: miter; stroke-linecap: square\"/>\n   </g>\n   <g id=\"patch_4\">\n    <path d=\"M 504.923437 465.838125 \nL 504.923437 22.318125 \n\" style=\"fill: none; stroke: #000000; stroke-width: 0.8; stroke-linejoin: miter; stroke-linecap: square\"/>\n   </g>\n   <g id=\"patch_5\">\n    <path d=\"M 58.523438 465.838125 \nL 504.923438 465.838125 \n\" style=\"fill: none; stroke: #000000; stroke-width: 0.8; stroke-linejoin: miter; stroke-linecap: square\"/>\n   </g>\n   <g id=\"patch_6\">\n    <path d=\"M 58.523438 22.318125 \nL 504.923438 22.318125 \n\" style=\"fill: none; stroke: #000000; stroke-width: 0.8; stroke-linejoin: miter; stroke-linecap: square\"/>\n   </g>\n   <g id=\"text_20\">\n    <!-- prince -->\n    <g transform=\"translate(232.469117 341.469016) scale(0.09 -0.09)\">\n     <use xlink:href=\"#DejaVuSans-70\"/>\n     <use xlink:href=\"#DejaVuSans-72\" x=\"63.476562\"/>\n     <use xlink:href=\"#DejaVuSans-69\" x=\"104.589844\"/>\n     <use xlink:href=\"#DejaVuSans-6e\" x=\"132.373047\"/>\n     <use xlink:href=\"#DejaVuSans-63\" x=\"195.751953\"/>\n     <use xlink:href=\"#DejaVuSans-65\" x=\"250.732422\"/>\n    </g>\n   </g>\n   <g id=\"text_21\">\n    <!-- chapter -->\n    <g transform=\"translate(201.594442 323.110549) scale(0.09 -0.09)\">\n     <defs>\n      <path id=\"DejaVuSans-68\" d=\"M 3513 2113 \nL 3513 0 \nL 2938 0 \nL 2938 2094 \nQ 2938 2591 2744 2837 \nQ 2550 3084 2163 3084 \nQ 1697 3084 1428 2787 \nQ 1159 2491 1159 1978 \nL 1159 0 \nL 581 0 \nL 581 4863 \nL 1159 4863 \nL 1159 2956 \nQ 1366 3272 1645 3428 \nQ 1925 3584 2291 3584 \nQ 2894 3584 3203 3211 \nQ 3513 2838 3513 2113 \nz\n\" transform=\"scale(0.015625)\"/>\n     </defs>\n     <use xlink:href=\"#DejaVuSans-63\"/>\n     <use xlink:href=\"#DejaVuSans-68\" x=\"54.980469\"/>\n     <use xlink:href=\"#DejaVuSans-61\" x=\"118.359375\"/>\n     <use xlink:href=\"#DejaVuSans-70\" x=\"179.638672\"/>\n     <use xlink:href=\"#DejaVuSans-74\" x=\"243.115234\"/>\n     <use xlink:href=\"#DejaVuSans-65\" x=\"282.324219\"/>\n     <use xlink:href=\"#DejaVuSans-72\" x=\"343.847656\"/>\n    </g>\n   </g>\n   <g id=\"text_22\">\n    <!-- princess -->\n    <g transform=\"translate(337.174144 223.285546) scale(0.09 -0.09)\">\n     <defs>\n      <path id=\"DejaVuSans-73\" d=\"M 2834 3397 \nL 2834 2853 \nQ 2591 2978 2328 3040 \nQ 2066 3103 1784 3103 \nQ 1356 3103 1142 2972 \nQ 928 2841 928 2578 \nQ 928 2378 1081 2264 \nQ 1234 2150 1697 2047 \nL 1894 2003 \nQ 2506 1872 2764 1633 \nQ 3022 1394 3022 966 \nQ 3022 478 2636 193 \nQ 2250 -91 1575 -91 \nQ 1294 -91 989 -36 \nQ 684 19 347 128 \nL 347 722 \nQ 666 556 975 473 \nQ 1284 391 1588 391 \nQ 1994 391 2212 530 \nQ 2431 669 2431 922 \nQ 2431 1156 2273 1281 \nQ 2116 1406 1581 1522 \nL 1381 1569 \nQ 847 1681 609 1914 \nQ 372 2147 372 2553 \nQ 372 3047 722 3315 \nQ 1072 3584 1716 3584 \nQ 2034 3584 2315 3537 \nQ 2597 3491 2834 3397 \nz\n\" transform=\"scale(0.015625)\"/>\n     </defs>\n     <use xlink:href=\"#DejaVuSans-70\"/>\n     <use xlink:href=\"#DejaVuSans-72\" x=\"63.476562\"/>\n     <use xlink:href=\"#DejaVuSans-69\" x=\"104.589844\"/>\n     <use xlink:href=\"#DejaVuSans-6e\" x=\"132.373047\"/>\n     <use xlink:href=\"#DejaVuSans-63\" x=\"195.751953\"/>\n     <use xlink:href=\"#DejaVuSans-65\" x=\"250.732422\"/>\n     <use xlink:href=\"#DejaVuSans-73\" x=\"312.255859\"/>\n     <use xlink:href=\"#DejaVuSans-73\" x=\"364.355469\"/>\n    </g>\n   </g>\n   <g id=\"text_23\">\n    <!-- andrew -->\n    <g transform=\"translate(304.488519 292.482588) scale(0.09 -0.09)\">\n     <defs>\n      <path id=\"DejaVuSans-64\" d=\"M 2906 2969 \nL 2906 4863 \nL 3481 4863 \nL 3481 0 \nL 2906 0 \nL 2906 525 \nQ 2725 213 2448 61 \nQ 2172 -91 1784 -91 \nQ 1150 -91 751 415 \nQ 353 922 353 1747 \nQ 353 2572 751 3078 \nQ 1150 3584 1784 3584 \nQ 2172 3584 2448 3432 \nQ 2725 3281 2906 2969 \nz\nM 947 1747 \nQ 947 1113 1208 752 \nQ 1469 391 1925 391 \nQ 2381 391 2643 752 \nQ 2906 1113 2906 1747 \nQ 2906 2381 2643 2742 \nQ 2381 3103 1925 3103 \nQ 1469 3103 1208 2742 \nQ 947 2381 947 1747 \nz\n\" transform=\"scale(0.015625)\"/>\n      <path id=\"DejaVuSans-77\" d=\"M 269 3500 \nL 844 3500 \nL 1563 769 \nL 2278 3500 \nL 2956 3500 \nL 3675 769 \nL 4391 3500 \nL 4966 3500 \nL 4050 0 \nL 3372 0 \nL 2619 2869 \nL 1863 0 \nL 1184 0 \nL 269 3500 \nz\n\" transform=\"scale(0.015625)\"/>\n     </defs>\n     <use xlink:href=\"#DejaVuSans-61\"/>\n     <use xlink:href=\"#DejaVuSans-6e\" x=\"61.279297\"/>\n     <use xlink:href=\"#DejaVuSans-64\" x=\"124.658203\"/>\n     <use xlink:href=\"#DejaVuSans-72\" x=\"188.134766\"/>\n     <use xlink:href=\"#DejaVuSans-65\" x=\"226.998047\"/>\n     <use xlink:href=\"#DejaVuSans-77\" x=\"288.521484\"/>\n    </g>\n   </g>\n   <g id=\"text_24\">\n    <!-- pierre -->\n    <g transform=\"translate(338.084267 258.322234) scale(0.09 -0.09)\">\n     <use xlink:href=\"#DejaVuSans-70\"/>\n     <use xlink:href=\"#DejaVuSans-69\" x=\"63.476562\"/>\n     <use xlink:href=\"#DejaVuSans-65\" x=\"91.259766\"/>\n     <use xlink:href=\"#DejaVuSans-72\" x=\"152.783203\"/>\n     <use xlink:href=\"#DejaVuSans-72\" x=\"192.146484\"/>\n     <use xlink:href=\"#DejaVuSans-65\" x=\"231.009766\"/>\n    </g>\n   </g>\n   <g id=\"text_25\">\n    <!-- father -->\n    <g transform=\"translate(421.095463 339.741475) scale(0.09 -0.09)\">\n     <defs>\n      <path id=\"DejaVuSans-66\" d=\"M 2375 4863 \nL 2375 4384 \nL 1825 4384 \nQ 1516 4384 1395 4259 \nQ 1275 4134 1275 3809 \nL 1275 3500 \nL 2222 3500 \nL 2222 3053 \nL 1275 3053 \nL 1275 0 \nL 697 0 \nL 697 3053 \nL 147 3053 \nL 147 3500 \nL 697 3500 \nL 697 3744 \nQ 697 4328 969 4595 \nQ 1241 4863 1831 4863 \nL 2375 4863 \nz\n\" transform=\"scale(0.015625)\"/>\n     </defs>\n     <use xlink:href=\"#DejaVuSans-66\"/>\n     <use xlink:href=\"#DejaVuSans-61\" x=\"35.205078\"/>\n     <use xlink:href=\"#DejaVuSans-74\" x=\"96.484375\"/>\n     <use xlink:href=\"#DejaVuSans-68\" x=\"135.693359\"/>\n     <use xlink:href=\"#DejaVuSans-65\" x=\"199.072266\"/>\n     <use xlink:href=\"#DejaVuSans-72\" x=\"260.595703\"/>\n    </g>\n   </g>\n   <g id=\"text_26\">\n    <!-- commander -->\n    <g transform=\"translate(475.461487 203.17644) scale(0.09 -0.09)\">\n     <use xlink:href=\"#DejaVuSans-63\"/>\n     <use xlink:href=\"#DejaVuSans-6f\" x=\"54.980469\"/>\n     <use xlink:href=\"#DejaVuSans-6d\" x=\"116.162109\"/>\n     <use xlink:href=\"#DejaVuSans-6d\" x=\"213.574219\"/>\n     <use xlink:href=\"#DejaVuSans-61\" x=\"310.986328\"/>\n     <use xlink:href=\"#DejaVuSans-6e\" x=\"372.265625\"/>\n     <use xlink:href=\"#DejaVuSans-64\" x=\"435.644531\"/>\n     <use xlink:href=\"#DejaVuSans-65\" x=\"499.121094\"/>\n     <use xlink:href=\"#DejaVuSans-72\" x=\"560.644531\"/>\n    </g>\n   </g>\n   <g id=\"text_27\">\n    <!-- son -->\n    <g transform=\"translate(215.421855 268.599352) scale(0.09 -0.09)\">\n     <use xlink:href=\"#DejaVuSans-73\"/>\n     <use xlink:href=\"#DejaVuSans-6f\" x=\"52.099609\"/>\n     <use xlink:href=\"#DejaVuSans-6e\" x=\"113.28125\"/>\n    </g>\n   </g>\n   <g id=\"text_28\">\n    <!-- officer -->\n    <g transform=\"translate(270.515284 164.423129) scale(0.09 -0.09)\">\n     <use xlink:href=\"#DejaVuSans-6f\"/>\n     <use xlink:href=\"#DejaVuSans-66\" x=\"61.181641\"/>\n     <use xlink:href=\"#DejaVuSans-66\" x=\"96.386719\"/>\n     <use xlink:href=\"#DejaVuSans-69\" x=\"131.591797\"/>\n     <use xlink:href=\"#DejaVuSans-63\" x=\"159.375\"/>\n     <use xlink:href=\"#DejaVuSans-65\" x=\"214.355469\"/>\n     <use xlink:href=\"#DejaVuSans-72\" x=\"275.878906\"/>\n    </g>\n   </g>\n   <g id=\"text_29\">\n    <!-- bridge -->\n    <g transform=\"translate(404.160967 242.36542) scale(0.09 -0.09)\">\n     <defs>\n      <path id=\"DejaVuSans-62\" d=\"M 3116 1747 \nQ 3116 2381 2855 2742 \nQ 2594 3103 2138 3103 \nQ 1681 3103 1420 2742 \nQ 1159 2381 1159 1747 \nQ 1159 1113 1420 752 \nQ 1681 391 2138 391 \nQ 2594 391 2855 752 \nQ 3116 1113 3116 1747 \nz\nM 1159 2969 \nQ 1341 3281 1617 3432 \nQ 1894 3584 2278 3584 \nQ 2916 3584 3314 3078 \nQ 3713 2572 3713 1747 \nQ 3713 922 3314 415 \nQ 2916 -91 2278 -91 \nQ 1894 -91 1617 61 \nQ 1341 213 1159 525 \nL 1159 0 \nL 581 0 \nL 581 4863 \nL 1159 4863 \nL 1159 2969 \nz\n\" transform=\"scale(0.015625)\"/>\n      <path id=\"DejaVuSans-67\" d=\"M 2906 1791 \nQ 2906 2416 2648 2759 \nQ 2391 3103 1925 3103 \nQ 1463 3103 1205 2759 \nQ 947 2416 947 1791 \nQ 947 1169 1205 825 \nQ 1463 481 1925 481 \nQ 2391 481 2648 825 \nQ 2906 1169 2906 1791 \nz\nM 3481 434 \nQ 3481 -459 3084 -895 \nQ 2688 -1331 1869 -1331 \nQ 1566 -1331 1297 -1286 \nQ 1028 -1241 775 -1147 \nL 775 -588 \nQ 1028 -725 1275 -790 \nQ 1522 -856 1778 -856 \nQ 2344 -856 2625 -561 \nQ 2906 -266 2906 331 \nL 2906 616 \nQ 2728 306 2450 153 \nQ 2172 0 1784 0 \nQ 1141 0 747 490 \nQ 353 981 353 1791 \nQ 353 2603 747 3093 \nQ 1141 3584 1784 3584 \nQ 2172 3584 2450 3431 \nQ 2728 3278 2906 2969 \nL 2906 3500 \nL 3481 3500 \nL 3481 434 \nz\n\" transform=\"scale(0.015625)\"/>\n     </defs>\n     <use xlink:href=\"#DejaVuSans-62\"/>\n     <use xlink:href=\"#DejaVuSans-72\" x=\"63.476562\"/>\n     <use xlink:href=\"#DejaVuSans-69\" x=\"104.589844\"/>\n     <use xlink:href=\"#DejaVuSans-64\" x=\"132.373047\"/>\n     <use xlink:href=\"#DejaVuSans-67\" x=\"195.849609\"/>\n     <use xlink:href=\"#DejaVuSans-65\" x=\"259.326172\"/>\n    </g>\n   </g>\n   <g id=\"text_30\">\n    <!-- regiment -->\n    <g transform=\"translate(394.926067 177.961756) scale(0.09 -0.09)\">\n     <use xlink:href=\"#DejaVuSans-72\"/>\n     <use xlink:href=\"#DejaVuSans-65\" x=\"38.863281\"/>\n     <use xlink:href=\"#DejaVuSans-67\" x=\"100.386719\"/>\n     <use xlink:href=\"#DejaVuSans-69\" x=\"163.863281\"/>\n     <use xlink:href=\"#DejaVuSans-6d\" x=\"191.646484\"/>\n     <use xlink:href=\"#DejaVuSans-65\" x=\"289.058594\"/>\n     <use xlink:href=\"#DejaVuSans-6e\" x=\"350.582031\"/>\n     <use xlink:href=\"#DejaVuSans-74\" x=\"413.960938\"/>\n    </g>\n   </g>\n   <g id=\"text_31\">\n    <!-- petersburg -->\n    <g transform=\"translate(342.65793 357.326893) scale(0.09 -0.09)\">\n     <defs>\n      <path id=\"DejaVuSans-75\" d=\"M 544 1381 \nL 544 3500 \nL 1119 3500 \nL 1119 1403 \nQ 1119 906 1312 657 \nQ 1506 409 1894 409 \nQ 2359 409 2629 706 \nQ 2900 1003 2900 1516 \nL 2900 3500 \nL 3475 3500 \nL 3475 0 \nL 2900 0 \nL 2900 538 \nQ 2691 219 2414 64 \nQ 2138 -91 1772 -91 \nQ 1169 -91 856 284 \nQ 544 659 544 1381 \nz\nM 1991 3584 \nL 1991 3584 \nz\n\" transform=\"scale(0.015625)\"/>\n     </defs>\n     <use xlink:href=\"#DejaVuSans-70\"/>\n     <use xlink:href=\"#DejaVuSans-65\" x=\"63.476562\"/>\n     <use xlink:href=\"#DejaVuSans-74\" x=\"125\"/>\n     <use xlink:href=\"#DejaVuSans-65\" x=\"164.208984\"/>\n     <use xlink:href=\"#DejaVuSans-72\" x=\"225.732422\"/>\n     <use xlink:href=\"#DejaVuSans-73\" x=\"266.845703\"/>\n     <use xlink:href=\"#DejaVuSans-62\" x=\"318.945312\"/>\n     <use xlink:href=\"#DejaVuSans-75\" x=\"382.421875\"/>\n     <use xlink:href=\"#DejaVuSans-72\" x=\"445.800781\"/>\n     <use xlink:href=\"#DejaVuSans-67\" x=\"485.164062\"/>\n    </g>\n   </g>\n   <g id=\"text_32\">\n    <!-- emperor -->\n    <g transform=\"translate(257.497489 119.753938) scale(0.09 -0.09)\">\n     <use xlink:href=\"#DejaVuSans-65\"/>\n     <use xlink:href=\"#DejaVuSans-6d\" x=\"61.523438\"/>\n     <use xlink:href=\"#DejaVuSans-70\" x=\"158.935547\"/>\n     <use xlink:href=\"#DejaVuSans-65\" x=\"222.412109\"/>\n     <use xlink:href=\"#DejaVuSans-72\" x=\"283.935547\"/>\n     <use xlink:href=\"#DejaVuSans-6f\" x=\"322.798828\"/>\n     <use xlink:href=\"#DejaVuSans-72\" x=\"383.980469\"/>\n    </g>\n   </g>\n   <g id=\"text_33\">\n    <!-- conversation -->\n    <g transform=\"translate(225.070275 445.678125) scale(0.09 -0.09)\">\n     <defs>\n      <path id=\"DejaVuSans-76\" d=\"M 191 3500 \nL 800 3500 \nL 1894 563 \nL 2988 3500 \nL 3597 3500 \nL 2284 0 \nL 1503 0 \nL 191 3500 \nz\n\" transform=\"scale(0.015625)\"/>\n     </defs>\n     <use xlink:href=\"#DejaVuSans-63\"/>\n     <use xlink:href=\"#DejaVuSans-6f\" x=\"54.980469\"/>\n     <use xlink:href=\"#DejaVuSans-6e\" x=\"116.162109\"/>\n     <use xlink:href=\"#DejaVuSans-76\" x=\"179.541016\"/>\n     <use xlink:href=\"#DejaVuSans-65\" x=\"238.720703\"/>\n     <use xlink:href=\"#DejaVuSans-72\" x=\"300.244141\"/>\n     <use xlink:href=\"#DejaVuSans-73\" x=\"341.357422\"/>\n     <use xlink:href=\"#DejaVuSans-61\" x=\"393.457031\"/>\n     <use xlink:href=\"#DejaVuSans-74\" x=\"454.736328\"/>\n     <use xlink:href=\"#DejaVuSans-69\" x=\"493.945312\"/>\n     <use xlink:href=\"#DejaVuSans-6f\" x=\"521.728516\"/>\n     <use xlink:href=\"#DejaVuSans-6e\" x=\"582.910156\"/>\n    </g>\n   </g>\n   <g id=\"text_34\">\n    <!-- colonel -->\n    <g transform=\"translate(150.890853 94.94014) scale(0.09 -0.09)\">\n     <use xlink:href=\"#DejaVuSans-63\"/>\n     <use xlink:href=\"#DejaVuSans-6f\" x=\"54.980469\"/>\n     <use xlink:href=\"#DejaVuSans-6c\" x=\"116.162109\"/>\n     <use xlink:href=\"#DejaVuSans-6f\" x=\"143.945312\"/>\n     <use xlink:href=\"#DejaVuSans-6e\" x=\"205.126953\"/>\n     <use xlink:href=\"#DejaVuSans-65\" x=\"268.505859\"/>\n     <use xlink:href=\"#DejaVuSans-6c\" x=\"330.029297\"/>\n    </g>\n   </g>\n   <g id=\"text_35\">\n    <!-- carriage -->\n    <g transform=\"translate(157.706794 385.990753) scale(0.09 -0.09)\">\n     <use xlink:href=\"#DejaVuSans-63\"/>\n     <use xlink:href=\"#DejaVuSans-61\" x=\"54.980469\"/>\n     <use xlink:href=\"#DejaVuSans-72\" x=\"116.259766\"/>\n     <use xlink:href=\"#DejaVuSans-72\" x=\"155.623047\"/>\n     <use xlink:href=\"#DejaVuSans-69\" x=\"196.736328\"/>\n     <use xlink:href=\"#DejaVuSans-61\" x=\"224.519531\"/>\n     <use xlink:href=\"#DejaVuSans-67\" x=\"285.798828\"/>\n     <use xlink:href=\"#DejaVuSans-65\" x=\"349.275391\"/>\n    </g>\n   </g>\n   <g id=\"text_36\">\n    <!-- anatole -->\n    <g transform=\"translate(271.472509 326.246346) scale(0.09 -0.09)\">\n     <use xlink:href=\"#DejaVuSans-61\"/>\n     <use xlink:href=\"#DejaVuSans-6e\" x=\"61.279297\"/>\n     <use xlink:href=\"#DejaVuSans-61\" x=\"124.658203\"/>\n     <use xlink:href=\"#DejaVuSans-74\" x=\"185.9375\"/>\n     <use xlink:href=\"#DejaVuSans-6f\" x=\"225.146484\"/>\n     <use xlink:href=\"#DejaVuSans-6c\" x=\"286.328125\"/>\n     <use xlink:href=\"#DejaVuSans-65\" x=\"314.111328\"/>\n    </g>\n   </g>\n   <g id=\"text_37\">\n    <!-- army -->\n    <g transform=\"translate(78.814347 42.478125) scale(0.09 -0.09)\">\n     <defs>\n      <path id=\"DejaVuSans-79\" d=\"M 2059 -325 \nQ 1816 -950 1584 -1140 \nQ 1353 -1331 966 -1331 \nL 506 -1331 \nL 506 -850 \nL 844 -850 \nQ 1081 -850 1212 -737 \nQ 1344 -625 1503 -206 \nL 1606 56 \nL 191 3500 \nL 800 3500 \nL 1894 763 \nL 2988 3500 \nL 3597 3500 \nL 2059 -325 \nz\n\" transform=\"scale(0.015625)\"/>\n     </defs>\n     <use xlink:href=\"#DejaVuSans-61\"/>\n     <use xlink:href=\"#DejaVuSans-72\" x=\"61.279297\"/>\n     <use xlink:href=\"#DejaVuSans-6d\" x=\"100.642578\"/>\n     <use xlink:href=\"#DejaVuSans-79\" x=\"198.054688\"/>\n    </g>\n   </g>\n   <g id=\"text_38\">\n    <!-- mother -->\n    <g transform=\"translate(240.291075 361.829142) scale(0.09 -0.09)\">\n     <use xlink:href=\"#DejaVuSans-6d\"/>\n     <use xlink:href=\"#DejaVuSans-6f\" x=\"97.412109\"/>\n     <use xlink:href=\"#DejaVuSans-74\" x=\"158.59375\"/>\n     <use xlink:href=\"#DejaVuSans-68\" x=\"197.802734\"/>\n     <use xlink:href=\"#DejaVuSans-65\" x=\"261.181641\"/>\n     <use xlink:href=\"#DejaVuSans-72\" x=\"322.705078\"/>\n    </g>\n   </g>\n   <g id=\"text_39\">\n    <!-- daughter -->\n    <g transform=\"translate(330.936491 275.873154) scale(0.09 -0.09)\">\n     <use xlink:href=\"#DejaVuSans-64\"/>\n     <use xlink:href=\"#DejaVuSans-61\" x=\"63.476562\"/>\n     <use xlink:href=\"#DejaVuSans-75\" x=\"124.755859\"/>\n     <use xlink:href=\"#DejaVuSans-67\" x=\"188.134766\"/>\n     <use xlink:href=\"#DejaVuSans-68\" x=\"251.611328\"/>\n     <use xlink:href=\"#DejaVuSans-74\" x=\"314.990234\"/>\n     <use xlink:href=\"#DejaVuSans-65\" x=\"354.199219\"/>\n     <use xlink:href=\"#DejaVuSans-72\" x=\"415.722656\"/>\n    </g>\n   </g>\n   <g id=\"text_40\">\n    <!-- visitor -->\n    <g transform=\"translate(484.632528 140.354771) scale(0.09 -0.09)\">\n     <use xlink:href=\"#DejaVuSans-76\"/>\n     <use xlink:href=\"#DejaVuSans-69\" x=\"59.179688\"/>\n     <use xlink:href=\"#DejaVuSans-73\" x=\"86.962891\"/>\n     <use xlink:href=\"#DejaVuSans-69\" x=\"139.0625\"/>\n     <use xlink:href=\"#DejaVuSans-74\" x=\"166.845703\"/>\n     <use xlink:href=\"#DejaVuSans-6f\" x=\"206.054688\"/>\n     <use xlink:href=\"#DejaVuSans-72\" x=\"267.236328\"/>\n    </g>\n   </g>\n   <g id=\"text_41\">\n    <!-- Word Embeddings Visualization (PCA - 4 Components) -->\n    <g transform=\"translate(119.271562 16.318125) scale(0.12 -0.12)\">\n     <defs>\n      <path id=\"DejaVuSans-57\" d=\"M 213 4666 \nL 850 4666 \nL 1831 722 \nL 2809 4666 \nL 3519 4666 \nL 4500 722 \nL 5478 4666 \nL 6119 4666 \nL 4947 0 \nL 4153 0 \nL 3169 4050 \nL 2175 0 \nL 1381 0 \nL 213 4666 \nz\n\" transform=\"scale(0.015625)\"/>\n      <path id=\"DejaVuSans-45\" d=\"M 628 4666 \nL 3578 4666 \nL 3578 4134 \nL 1259 4134 \nL 1259 2753 \nL 3481 2753 \nL 3481 2222 \nL 1259 2222 \nL 1259 531 \nL 3634 531 \nL 3634 0 \nL 628 0 \nL 628 4666 \nz\n\" transform=\"scale(0.015625)\"/>\n      <path id=\"DejaVuSans-56\" d=\"M 1831 0 \nL 50 4666 \nL 709 4666 \nL 2188 738 \nL 3669 4666 \nL 4325 4666 \nL 2547 0 \nL 1831 0 \nz\n\" transform=\"scale(0.015625)\"/>\n      <path id=\"DejaVuSans-7a\" d=\"M 353 3500 \nL 3084 3500 \nL 3084 2975 \nL 922 459 \nL 3084 459 \nL 3084 0 \nL 275 0 \nL 275 525 \nL 2438 3041 \nL 353 3041 \nL 353 3500 \nz\n\" transform=\"scale(0.015625)\"/>\n      <path id=\"DejaVuSans-28\" d=\"M 1984 4856 \nQ 1566 4138 1362 3434 \nQ 1159 2731 1159 2009 \nQ 1159 1288 1364 580 \nQ 1569 -128 1984 -844 \nL 1484 -844 \nQ 1016 -109 783 600 \nQ 550 1309 550 2009 \nQ 550 2706 781 3412 \nQ 1013 4119 1484 4856 \nL 1984 4856 \nz\n\" transform=\"scale(0.015625)\"/>\n      <path id=\"DejaVuSans-41\" d=\"M 2188 4044 \nL 1331 1722 \nL 3047 1722 \nL 2188 4044 \nz\nM 1831 4666 \nL 2547 4666 \nL 4325 0 \nL 3669 0 \nL 3244 1197 \nL 1141 1197 \nL 716 0 \nL 50 0 \nL 1831 4666 \nz\n\" transform=\"scale(0.015625)\"/>\n      <path id=\"DejaVuSans-2d\" d=\"M 313 2009 \nL 1997 2009 \nL 1997 1497 \nL 313 1497 \nL 313 2009 \nz\n\" transform=\"scale(0.015625)\"/>\n      <path id=\"DejaVuSans-29\" d=\"M 513 4856 \nL 1013 4856 \nQ 1481 4119 1714 3412 \nQ 1947 2706 1947 2009 \nQ 1947 1309 1714 600 \nQ 1481 -109 1013 -844 \nL 513 -844 \nQ 928 -128 1133 580 \nQ 1338 1288 1338 2009 \nQ 1338 2731 1133 3434 \nQ 928 4138 513 4856 \nz\n\" transform=\"scale(0.015625)\"/>\n     </defs>\n     <use xlink:href=\"#DejaVuSans-57\"/>\n     <use xlink:href=\"#DejaVuSans-6f\" x=\"93.001953\"/>\n     <use xlink:href=\"#DejaVuSans-72\" x=\"154.183594\"/>\n     <use xlink:href=\"#DejaVuSans-64\" x=\"193.546875\"/>\n     <use xlink:href=\"#DejaVuSans-20\" x=\"257.023438\"/>\n     <use xlink:href=\"#DejaVuSans-45\" x=\"288.810547\"/>\n     <use xlink:href=\"#DejaVuSans-6d\" x=\"351.994141\"/>\n     <use xlink:href=\"#DejaVuSans-62\" x=\"449.40625\"/>\n     <use xlink:href=\"#DejaVuSans-65\" x=\"512.882812\"/>\n     <use xlink:href=\"#DejaVuSans-64\" x=\"574.40625\"/>\n     <use xlink:href=\"#DejaVuSans-64\" x=\"637.882812\"/>\n     <use xlink:href=\"#DejaVuSans-69\" x=\"701.359375\"/>\n     <use xlink:href=\"#DejaVuSans-6e\" x=\"729.142578\"/>\n     <use xlink:href=\"#DejaVuSans-67\" x=\"792.521484\"/>\n     <use xlink:href=\"#DejaVuSans-73\" x=\"855.998047\"/>\n     <use xlink:href=\"#DejaVuSans-20\" x=\"908.097656\"/>\n     <use xlink:href=\"#DejaVuSans-56\" x=\"939.884766\"/>\n     <use xlink:href=\"#DejaVuSans-69\" x=\"1006.042969\"/>\n     <use xlink:href=\"#DejaVuSans-73\" x=\"1033.826172\"/>\n     <use xlink:href=\"#DejaVuSans-75\" x=\"1085.925781\"/>\n     <use xlink:href=\"#DejaVuSans-61\" x=\"1149.304688\"/>\n     <use xlink:href=\"#DejaVuSans-6c\" x=\"1210.583984\"/>\n     <use xlink:href=\"#DejaVuSans-69\" x=\"1238.367188\"/>\n     <use xlink:href=\"#DejaVuSans-7a\" x=\"1266.150391\"/>\n     <use xlink:href=\"#DejaVuSans-61\" x=\"1318.640625\"/>\n     <use xlink:href=\"#DejaVuSans-74\" x=\"1379.919922\"/>\n     <use xlink:href=\"#DejaVuSans-69\" x=\"1419.128906\"/>\n     <use xlink:href=\"#DejaVuSans-6f\" x=\"1446.912109\"/>\n     <use xlink:href=\"#DejaVuSans-6e\" x=\"1508.09375\"/>\n     <use xlink:href=\"#DejaVuSans-20\" x=\"1571.472656\"/>\n     <use xlink:href=\"#DejaVuSans-28\" x=\"1603.259766\"/>\n     <use xlink:href=\"#DejaVuSans-50\" x=\"1642.273438\"/>\n     <use xlink:href=\"#DejaVuSans-43\" x=\"1702.576172\"/>\n     <use xlink:href=\"#DejaVuSans-41\" x=\"1772.400391\"/>\n     <use xlink:href=\"#DejaVuSans-20\" x=\"1840.808594\"/>\n     <use xlink:href=\"#DejaVuSans-2d\" x=\"1872.595703\"/>\n     <use xlink:href=\"#DejaVuSans-20\" x=\"1908.679688\"/>\n     <use xlink:href=\"#DejaVuSans-34\" x=\"1940.466797\"/>\n     <use xlink:href=\"#DejaVuSans-20\" x=\"2004.089844\"/>\n     <use xlink:href=\"#DejaVuSans-43\" x=\"2035.876953\"/>\n     <use xlink:href=\"#DejaVuSans-6f\" x=\"2105.701172\"/>\n     <use xlink:href=\"#DejaVuSans-6d\" x=\"2166.882812\"/>\n     <use xlink:href=\"#DejaVuSans-70\" x=\"2264.294922\"/>\n     <use xlink:href=\"#DejaVuSans-6f\" x=\"2327.771484\"/>\n     <use xlink:href=\"#DejaVuSans-6e\" x=\"2388.953125\"/>\n     <use xlink:href=\"#DejaVuSans-65\" x=\"2452.332031\"/>\n     <use xlink:href=\"#DejaVuSans-6e\" x=\"2513.855469\"/>\n     <use xlink:href=\"#DejaVuSans-74\" x=\"2577.234375\"/>\n     <use xlink:href=\"#DejaVuSans-73\" x=\"2616.443359\"/>\n     <use xlink:href=\"#DejaVuSans-29\" x=\"2668.542969\"/>\n    </g>\n   </g>\n  </g>\n </g>\n <defs>\n  <clipPath id=\"p52cc564967\">\n   <rect x=\"58.523438\" y=\"22.318125\" width=\"446.4\" height=\"443.52\"/>\n  </clipPath>\n </defs>\n</svg>\n"
          },
          "metadata": {}
        }
      ],
      "source": [
        "from sklearn.decomposition import PCA\n",
        "from matplotlib import pyplot as plt\n",
        "\n",
        "# Perform PCA to reduce the dimensionality to 4 components\n",
        "pca = PCA(n_components=4)\n",
        "result = pca.fit_transform(X)\n",
        "\n",
        "# Plot 4th and 2nd principal components\n",
        "plt.figure(figsize=(8, 8))\n",
        "plt.scatter(result[:, 3], result[:, 1],color='orange')\n",
        "\n",
        "# Annotate each word on the plot\n",
        "for i, word in enumerate(words):\n",
        "    plt.annotate(word, xy=(result[i, 3], result[i, 1]), fontsize=9)\n",
        "\n",
        "plt.title('Word Embeddings Visualization (PCA - 4 Components)')\n",
        "plt.xlabel('Principal Component 4')\n",
        "plt.ylabel('Principal Component 2')\n",
        "plt.grid(True)\n",
        "plt.show()\n"
      ]
    },
    {
      "cell_type": "markdown",
      "metadata": {
        "id": "Tznfo1EzHDs7"
      },
      "source": [
        "What do you infer from the above 2 plots??"
      ]
    },
    {
      "cell_type": "raw",
      "metadata": {
        "id": "L74E49m69I3k"
      },
      "source": [
        "The two graphs show the high-dimensional word embeddings reduced to two and four dimensions via PCA. The first graphic clusters words based on semantic similarity, suggesting that related concepts such as \"prince\" and \"princess\" are more closely related, reflecting their relationship context. The second plot, which focuses on different principle components, may reveal further intricacies in word relationships, emphasizing distinct differences between words such as \"officer\" and \"commander.\" Overall, these visualizations provide information on word meanings and relationships in the embedding space."
      ]
    },
    {
      "cell_type": "markdown",
      "metadata": {
        "id": "AG5vcPYCJlw7"
      },
      "source": [
        "# <font color=\"blue\"> Submission Instructions</font>\n",
        "\n",
        "1. Click the Save button at the top of the Jupyter Notebook.\n",
        "2. Select Cell -> All Output -> Clear. This will clear all the outputs from all cells (but will keep the content of all cells).\n",
        "2. Select Cell -> Run All. This will run all the cells in order, and will take several minutes.\n",
        "3. Once you've rerun everything, save the notebook as an .ipynb file (on Google Colab: File -> Download -> Download .ipynb)\n",
        "4. Look at the notebook file and make sure all your solutions are there, displayed correctly. The notebook is the only thing your graders will see!\n",
        "5. Submit your notebook, as well as a URL to a Google Colab copy of your notebook via Canvas.  The Google Colab link should be obtained from the Share option - please ensure that in the Share options, the General access is set to Anyone with the link.\n"
      ]
    },
    {
      "cell_type": "code",
      "execution_count": 23,
      "metadata": {
        "id": "wMJqCm3QJswQ"
      },
      "outputs": [],
      "source": []
    }
  ],
  "metadata": {
    "colab": {
      "provenance": [],
      "include_colab_link": true
    },
    "coursera": {
      "schema_names": [
        "NLPC2-4"
      ]
    },
    "kernelspec": {
      "display_name": "Python 3 (ipykernel)",
      "language": "python",
      "name": "python3"
    },
    "language_info": {
      "codemirror_mode": {
        "name": "ipython",
        "version": 3
      },
      "file_extension": ".py",
      "mimetype": "text/x-python",
      "name": "python",
      "nbconvert_exporter": "python",
      "pygments_lexer": "ipython3",
      "version": "3.12.4"
    }
  },
  "nbformat": 4,
  "nbformat_minor": 0
}